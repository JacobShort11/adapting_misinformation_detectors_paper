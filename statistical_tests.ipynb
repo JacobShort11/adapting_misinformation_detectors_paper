{
 "cells": [
  {
   "cell_type": "code",
   "execution_count": 1,
   "metadata": {},
   "outputs": [],
   "source": [
    "# IMPORTS\n",
    "from scipy.stats import wilcoxon\n",
    "from scipy.stats import ttest_rel\n",
    "import numpy as np"
   ]
  },
  {
   "cell_type": "markdown",
   "metadata": {},
   "source": [
    "# Human BERT detection difficulty on human data vs llm generated data"
   ]
  },
  {
   "cell_type": "code",
   "execution_count": 7,
   "metadata": {},
   "outputs": [
    {
     "name": "stdout",
     "output_type": "stream",
     "text": [
      "Wilcoxon signed-rank statistic: 0.0\n",
      "p-value: 0.0625\n",
      "Paired t-test statistic: 8.274263903179191\n",
      "p-value: 0.0011643529665913922\n"
     ]
    }
   ],
   "source": [
    "# POLITIFACT\n",
    "human_data_sr = np.array([91.8918918918919, 88.75, 80.0, 94.20289855072464, 72.97297297297297])\n",
    "llm_data_sr = np.array([72.59615384615384, 64.42307692307693, 50.0, 78.36538461538461, 55.52884615384615])\n",
    "\n",
    "# Perform the Wilcoxon signed-rank test\n",
    "statistic, p_value = wilcoxon(human_data_sr, llm_data_sr)\n",
    "print(f'Wilcoxon signed-rank statistic: {statistic}')\n",
    "print(f'p-value: {p_value}')\n",
    "\n",
    "# Perform the paired t-test\n",
    "t_statistic, t_p_value = ttest_rel(human_data_sr, llm_data_sr)\n",
    "print(f'Paired t-test statistic: {t_statistic}')\n",
    "print(f'p-value: {t_p_value}')"
   ]
  },
  {
   "cell_type": "code",
   "execution_count": 8,
   "metadata": {},
   "outputs": [
    {
     "name": "stdout",
     "output_type": "stream",
     "text": [
      "Wilcoxon signed-rank statistic: 0.0\n",
      "p-value: 0.0625\n",
      "Paired t-test statistic: 8.274263903179191\n",
      "p-value: 0.0011643529665913922\n"
     ]
    }
   ],
   "source": [
    "# CoAID\n",
    "co_human_data_sr = np.array([97.35449735449735, 99.4475138121547, 99.45054945054946, 92.97297297297298, 95.50561797752809])\n",
    "co_llm_data_sr = np.array([100.0, 100.0, 100.0, 100.0, 100.0])\n",
    "\n",
    "# Perform the Wilcoxon signed-rank test\n",
    "co_statistic, co_p_value = wilcoxon(co_human_data_sr, co_llm_data_sr)\n",
    "\n",
    "print(f'Wilcoxon signed-rank statistic: {co_statistic}')\n",
    "print(f'p-value: {co_p_value}')\n",
    "\n",
    "# Perform the paired t-test\n",
    "t_statistic, t_p_value = ttest_rel(human_data_sr, llm_data_sr)\n",
    "print(f'Paired t-test statistic: {t_statistic}')\n",
    "print(f'p-value: {t_p_value}')"
   ]
  },
  {
   "cell_type": "code",
   "execution_count": 9,
   "metadata": {},
   "outputs": [
    {
     "name": "stdout",
     "output_type": "stream",
     "text": [
      "Wilcoxon signed-rank statistic: 0.0\n",
      "p-value: 0.06788915486182899\n",
      "Paired t-test statistic: 2.64466365622991\n",
      "p-value: 0.05730031967210537\n"
     ]
    },
    {
     "name": "stderr",
     "output_type": "stream",
     "text": [
      "/Users/jacobshort/anaconda3/envs/uni_39/lib/python3.9/site-packages/scipy/stats/_morestats.py:4088: UserWarning: Exact p-value calculation does not work if there are zeros. Switching to normal approximation.\n",
      "  warnings.warn(\"Exact p-value calculation does not work if there are \"\n",
      "/Users/jacobshort/anaconda3/envs/uni_39/lib/python3.9/site-packages/scipy/stats/_morestats.py:4102: UserWarning: Sample size too small for normal approximation.\n",
      "  warnings.warn(\"Sample size too small for normal approximation.\")\n"
     ]
    }
   ],
   "source": [
    "# GossipCop\n",
    "human_data_sr = np.array([78.54889589905363, 74.55089820359282, 78.18756585879873, 83.38727076591155, 0.0])\n",
    "llm_data_sr = np.array([76.2589928057554, 71.94244604316546, 71.22302158273382, 75.53956834532374, 0.0])\n",
    "\n",
    "# Perform the Wilcoxon signed-rank test\n",
    "statistic, p_value = wilcoxon(human_data_sr, llm_data_sr)\n",
    "\n",
    "print(f'Wilcoxon signed-rank statistic: {statistic}')\n",
    "print(f'p-value: {p_value}')\n",
    "\n",
    "# Perform the paired t-test\n",
    "t_statistic, t_p_value = ttest_rel(human_data_sr, llm_data_sr)\n",
    "print(f'Paired t-test statistic: {t_statistic}')\n",
    "print(f'p-value: {t_p_value}')"
   ]
  },
  {
   "cell_type": "markdown",
   "metadata": {},
   "source": [
    "------------------------------"
   ]
  },
  {
   "cell_type": "markdown",
   "metadata": {},
   "source": [
    "# Human & LLM Fine-Tuned Bert vs closest baseline performance on human data (Wilcoxon Only)"
   ]
  },
  {
   "cell_type": "code",
   "execution_count": 14,
   "metadata": {},
   "outputs": [
    {
     "name": "stdout",
     "output_type": "stream",
     "text": [
      "SR Wilcoxon signed-rank statistic: 1.0\n",
      "p-value: 0.125\n",
      "F1 Wilcoxon signed-rank statistic: 2.5\n",
      "p-value: 0.3125\n"
     ]
    }
   ],
   "source": [
    "# PolitiFact Human Data\n",
    "human_llm_bert_sr = np.array([90.54054054054053, 71.25, 86.25, 72.46376811594203, 93.24324324324324])\n",
    "nb_sr = np.array([92.11,92.11,92.11,92.11,92.11])\n",
    "statistic, p_value = wilcoxon(human_llm_bert_sr, nb_sr)\n",
    "print(f'SR Wilcoxon signed-rank statistic: {statistic}')\n",
    "print(f'p-value: {p_value}')\n",
    "\n",
    "\n",
    "human_llm_bert_f1 = np.array([0.93, 0.86, 0.92, 0.87, 0.91])\n",
    "human_bert_f1 = np.array([0.88, 0.9, 0.88, 0.83, 0.87])\n",
    "statistic, p_value = wilcoxon(human_llm_bert_f1, human_bert_f1)\n",
    "print(f'F1 Wilcoxon signed-rank statistic: {statistic}')\n",
    "print(f'p-value: {p_value}')"
   ]
  },
  {
   "cell_type": "code",
   "execution_count": 15,
   "metadata": {},
   "outputs": [
    {
     "name": "stdout",
     "output_type": "stream",
     "text": [
      "SR Wilcoxon signed-rank statistic: 1.0\n",
      "p-value: 0.14412703481601533\n",
      "F1 Wilcoxon signed-rank statistic: 0.0\n",
      "p-value: 0.06559969214707187\n"
     ]
    },
    {
     "name": "stderr",
     "output_type": "stream",
     "text": [
      "/Users/jacobshort/anaconda3/envs/uni_39/lib/python3.9/site-packages/scipy/stats/_morestats.py:4088: UserWarning: Exact p-value calculation does not work if there are zeros. Switching to normal approximation.\n",
      "  warnings.warn(\"Exact p-value calculation does not work if there are \"\n",
      "/Users/jacobshort/anaconda3/envs/uni_39/lib/python3.9/site-packages/scipy/stats/_morestats.py:4102: UserWarning: Sample size too small for normal approximation.\n",
      "  warnings.warn(\"Sample size too small for normal approximation.\")\n"
     ]
    }
   ],
   "source": [
    "# CoAID Human Data\n",
    "human_llm_bert_sr = np.array([99.47089947089947, 97.79005524861878, 99.45054945054946, 96.21621621621622, 99.43820224719101])\n",
    "human_bert = np.array([97.35449735449735, 99.4475138121547, 99.45054945054946, 92.97297297297298, 95.50561797752809])\n",
    "statistic, p_value = wilcoxon(human_llm_bert_sr, human_bert)\n",
    "print(f'SR Wilcoxon signed-rank statistic: {statistic}')\n",
    "print(f'p-value: {p_value}')\n",
    "\n",
    "human_llm_bert_f1 = np.array([0.99, 0.98, 0.97, 0.98, 0.98])\n",
    "human_bert_f1 = np.array([0.97, 0.83, 0.97, 0.97, 0.96])\n",
    "statistic, p_value = wilcoxon(human_llm_bert_f1, human_bert_f1)\n",
    "print(f'F1 Wilcoxon signed-rank statistic: {statistic}')\n",
    "print(f'p-value: {p_value}')"
   ]
  },
  {
   "cell_type": "code",
   "execution_count": 18,
   "metadata": {},
   "outputs": [
    {
     "name": "stdout",
     "output_type": "stream",
     "text": [
      "SR Wilcoxon signed-rank statistic: 6.0\n",
      "p-value: 0.8125\n",
      "F1 Wilcoxon signed-rank statistic: 0.0\n",
      "p-value: 0.0625\n"
     ]
    }
   ],
   "source": [
    "# GossipCop Human Data\n",
    "human_llm_bert_sr = np.array([78.54889589905363, 74.55089820359282, 78.18756585879873, 83.38727076591155, 0.0])\n",
    "human_nb = np.array([74.92, 74.92, 74.92, 74.92, 74.92])\n",
    "statistic, p_value = wilcoxon(human_llm_bert_sr, human_nb)\n",
    "print(f'SR Wilcoxon signed-rank statistic: {statistic}')\n",
    "print(f'p-value: {p_value}')\n",
    "\n",
    "human_llm_bert_f1 = np.array([0.99, 0.98, 0.97, 0.98, 0.98])\n",
    "human_nb_f1 = np.array([0.78, 0.79, 0.77, 0.72, 0.43])\n",
    "statistic, p_value = wilcoxon(human_llm_bert_f1, human_nb_f1)\n",
    "print(f'F1 Wilcoxon signed-rank statistic: {statistic}')\n",
    "print(f'p-value: {p_value}')"
   ]
  },
  {
   "cell_type": "markdown",
   "metadata": {},
   "source": [
    "----------------------------------------------------------------------------------------------"
   ]
  },
  {
   "cell_type": "markdown",
   "metadata": {},
   "source": [
    "# Human & LLM Fine-Tuned Bert vs closest baseline performance on LLM data (Wilcoxon Only)"
   ]
  },
  {
   "cell_type": "code",
   "execution_count": 34,
   "metadata": {},
   "outputs": [
    {
     "name": "stdout",
     "output_type": "stream",
     "text": [
      "Overall Wilcoxon signed-rank statistic: 0.0\n",
      "p-value: 0.0625\n",
      "HAL Wilcoxon signed-rank statistic: 0.0\n",
      "p-value: 0.06559969214707187\n",
      "AMB Wilcoxon signed-rank statistic: 0.0\n",
      "p-value: 0.0625\n",
      "FAL Wilcoxon signed-rank statistic: 0.0\n",
      "p-value: 0.0625\n",
      "INC Wilcoxon signed-rank statistic: 0.0\n",
      "p-value: 0.0625\n",
      "OUT Wilcoxon signed-rank statistic: 7.0\n",
      "p-value: 1.0\n",
      "REW Wilcoxon signed-rank statistic: 0.0\n",
      "p-value: 0.0625\n",
      "ARB Wilcoxon signed-rank statistic: 0.0\n",
      "p-value: 0.10247043485974937\n",
      "TOT Wilcoxon signed-rank statistic: 0.0\n",
      "p-value: 0.0625\n",
      "UNS Wilcoxon signed-rank statistic: 0.0\n",
      "p-value: 0.0625\n",
      "OPE Wilcoxon signed-rank statistic: 0.0\n",
      "p-value: 0.06788915486182899\n",
      "PAR Wilcoxon signed-rank statistic: 0.0\n",
      "p-value: 0.0625\n",
      "HEA Wilcoxon signed-rank statistic: NA\n",
      "p-value: 1\n",
      "POL Wilcoxon signed-rank statistic: NA\n",
      "p-value: 1\n"
     ]
    },
    {
     "name": "stderr",
     "output_type": "stream",
     "text": [
      "/Users/jacobshort/anaconda3/envs/uni_39/lib/python3.9/site-packages/scipy/stats/_morestats.py:4088: UserWarning: Exact p-value calculation does not work if there are zeros. Switching to normal approximation.\n",
      "  warnings.warn(\"Exact p-value calculation does not work if there are \"\n",
      "/Users/jacobshort/anaconda3/envs/uni_39/lib/python3.9/site-packages/scipy/stats/_morestats.py:4102: UserWarning: Sample size too small for normal approximation.\n",
      "  warnings.warn(\"Sample size too small for normal approximation.\")\n"
     ]
    }
   ],
   "source": [
    "# POLITIFACT\n",
    "human_llm_bert_overall = np.array([93.75, 93.02884615384616, 93.75, 93.02884615384616, 96.875])\n",
    "human_nb_overall = np.array([71.70, 71.70, 71.70, 71.70, 71.70])\n",
    "statistic, p_value = wilcoxon(human_llm_bert_overall, human_nb_overall)\n",
    "print(f'Overall Wilcoxon signed-rank statistic: {statistic}')\n",
    "print(f'p-value: {p_value}')\n",
    "\n",
    "human_llm_bert_hal = np.array([100.0, 100.0, 100.0, 85.0, 100.0])\n",
    "human_bert_hal = np.array([55.00000000000001, 40.0, 0.0, 85.0, 0.0])\n",
    "statistic, p_value = wilcoxon(human_llm_bert_hal, human_bert_hal)\n",
    "print(f'HAL Wilcoxon signed-rank statistic: {statistic}')\n",
    "print(f'p-value: {p_value}')\n",
    "\n",
    "human_llm_bert_amb = np.array([82.75862068965517, 79.3103448275862, 79.3103448275862, 82.75862068965517, 96.55172413793103])\n",
    "phi_amb = np.array([59.09, 59.09, 59.09, 59.09, 59.09])\n",
    "statistic, p_value = wilcoxon(human_llm_bert_amb, phi_amb)\n",
    "print(f'AMB Wilcoxon signed-rank statistic: {statistic}')\n",
    "print(f'p-value: {p_value}')\n",
    "\n",
    "human_llm_bert_fal = np.array([79.3103448275862, 79.3103448275862, 79.3103448275862, 86.20689655172413, 96.55172413793103])\n",
    "phi_fal = np.array([61.9, 61.9, 61.9, 61.9, 61.9])\n",
    "statistic, p_value = wilcoxon(human_llm_bert_fal, phi_fal)\n",
    "print(f'FAL Wilcoxon signed-rank statistic: {statistic}')\n",
    "print(f'p-value: {p_value}')\n",
    "\n",
    "human_llm_bert_inc = np.array([86.20689655172413, 86.20689655172413, 82.75862068965517, 65.51724137931035, 79.3103448275862])\n",
    "phi_inc = np.array([47.62, 47.62, 47.62, 47.62, 47.62])\n",
    "statistic, p_value = wilcoxon(human_llm_bert_inc, phi_inc)\n",
    "print(f'INC Wilcoxon signed-rank statistic: {statistic}')\n",
    "print(f'p-value: {p_value}')\n",
    "\n",
    "human_llm_bert_out = np.array([86.20689655172413, 82.75862068965517, 82.75862068965517, 96.55172413793103, 89.65517241379311])\n",
    "phi_out = np.array([86.36, 86.36, 86.36, 86.36, 86.36])\n",
    "statistic, p_value = wilcoxon(human_llm_bert_out, phi_out)\n",
    "print(f'OUT Wilcoxon signed-rank statistic: {statistic}')\n",
    "print(f'p-value: {p_value}')\n",
    "\n",
    "human_llm_bert_rew = np.array([100.0, 100.0, 100.0, 100.0, 100.0])\n",
    "human_bert_rew = np.array([94.44444444444444, 87.03703703703704, 68.51851851851852, 96.29629629629629, 75.92592592592592])\n",
    "statistic, p_value = wilcoxon(human_llm_bert_rew, human_bert_rew)\n",
    "print(f'REW Wilcoxon signed-rank statistic: {statistic}')\n",
    "print(f'p-value: {p_value}')\n",
    "\n",
    "human_llm_bert_arb = np.array([100.0, 100.0, 100.0, 100.0, 100.0])\n",
    "human_bert_arb = np.array([100.0, 90.0, 95.0, 100.0, 95.0])\n",
    "statistic, p_value = wilcoxon(human_llm_bert_arb, human_bert_arb)\n",
    "print(f'ARB Wilcoxon signed-rank statistic: {statistic}')\n",
    "print(f'p-value: {p_value}')\n",
    "\n",
    "human_llm_bert_tot = np.array([93.10344827586206, 89.65517241379311, 100.0, 86.20689655172413, 96.55172413793103])\n",
    "phi_tot = np.array([72.22, 72.22, 72.22, 72.22, 72.22])\n",
    "statistic, p_value = wilcoxon(human_llm_bert_tot, phi_tot)\n",
    "print(f'TOT Wilcoxon signed-rank statistic: {statistic}')\n",
    "print(f'p-value: {p_value}')\n",
    "\n",
    "human_llm_bert_uns = np.array([82.75862068965517, 89.65517241379311, 86.20689655172413, 93.10344827586206, 100.0])\n",
    "phi_uns = np.array([75, 75, 75, 75, 75])\n",
    "statistic, p_value = wilcoxon(human_llm_bert_uns, phi_uns)\n",
    "print(f'UNS Wilcoxon signed-rank statistic: {statistic}')\n",
    "print(f'p-value: {p_value}')\n",
    "\n",
    "human_llm_bert_ope = np.array([100.0, 98.14814814814815, 100.0, 100.0, 100.0])\n",
    "human_bert_ope = np.array([94.44444444444444, 90.74074074074075, 79.62962962962963, 100.0, 62.96296296296296])\n",
    "statistic, p_value = wilcoxon(human_llm_bert_ope, human_bert_ope)\n",
    "print(f'OPE Wilcoxon signed-rank statistic: {statistic}')\n",
    "print(f'p-value: {p_value}')\n",
    "\n",
    "human_llm_bert_par = np.array([100.0, 98.14814814814815, 100.0, 100.0, 98.14814814814815])\n",
    "nb_par = np.array([70.27, 70.27, 70.27, 70.27, 70.27])\n",
    "statistic, p_value = wilcoxon(human_llm_bert_par, nb_par)\n",
    "print(f'PAR Wilcoxon signed-rank statistic: {statistic}')\n",
    "print(f'p-value: {p_value}')\n",
    "\n",
    "'''human_llm_bert_hea = np.array([100.0, 100.0, 100.0, 100.0, 100.0])\n",
    "nb_hea = np.array([100.0, 100.0, 100.0, 100.0, 100.0])\n",
    "statistic, p_value = wilcoxon(human_llm_bert_hea, nb_hea)'''\n",
    "print(f'HEA Wilcoxon signed-rank statistic: NA')\n",
    "print(f'p-value: 1')\n",
    "\n",
    "'''human_llm_bert_pol = np.array([100.0, 100.0, 100.0, 100.0, 100.0])\n",
    "nb_pol = np.array([100.0, 100.0, 100.0, 100.0, 100.0])\n",
    "statistic, p_value = wilcoxon(human_llm_bert_pol, nb_pol)'''\n",
    "print(f'POL Wilcoxon signed-rank statistic: NA')   \n",
    "print(f'p-value: 1')"
   ]
  },
  {
   "cell_type": "code",
   "execution_count": 37,
   "metadata": {},
   "outputs": [
    {
     "name": "stdout",
     "output_type": "stream",
     "text": [
      "Overall Wilcoxon signed-rank statistic: 0.0\n",
      "p-value: 0.0625\n",
      "OPE Wilcoxon signed-rank statistic: 0.0\n",
      "p-value: 0.0625\n",
      "PAR Wilcoxon signed-rank statistic: 0.0\n",
      "p-value: 0.0625\n",
      "REW Wilcoxon signed-rank statistic: 0.0\n",
      "p-value: 0.0625\n"
     ]
    }
   ],
   "source": [
    "# GOSSIPCOP\n",
    "human_llm_bert_overall = np.array([100.0, 100.0, 100.0, 100.0, 100.0])\n",
    "human_bert_overall = np.array([76.2589928057554, 71.94244604316546, 71.22302158273382, 75.53956834532374, 0.0])\n",
    "statistic, p_value = wilcoxon(human_llm_bert_overall, human_bert_overall)\n",
    "print(f'Overall Wilcoxon signed-rank statistic: {statistic}')\n",
    "print(f'p-value: {p_value}')\n",
    "\n",
    "human_llm_bert_ope = np.array([100.0, 100.0, 100.0, 100.0, 100.0])\n",
    "human_bert_ope = np.array([69.56521739130434, 65.21739130434783, 56.52173913043478, 59.57446808510638, 0.0])\n",
    "statistic, p_value = wilcoxon(human_llm_bert_ope, human_bert_ope)\n",
    "print(f'OPE Wilcoxon signed-rank statistic: {statistic}')\n",
    "print(f'p-value: {p_value}')\n",
    "\n",
    "human_llm_bert_par = np.array([100.0, 100.0, 100.0, 100.0, 100.0])\n",
    "human_bert_par = np.array([85.1063829787234, 78.26086956521739, 78.26086956521739, 86.95652173913044, 0.0])\n",
    "statistic, p_value = wilcoxon(human_llm_bert_par, human_bert_par)\n",
    "print(f'PAR Wilcoxon signed-rank statistic: {statistic}')\n",
    "print(f'p-value: {p_value}')\n",
    "\n",
    "human_llm_bert_rew = np.array([100.0, 100.0, 100.0, 100.0, 100.0])\n",
    "human_bert_rew = np.array([73.91304347826086, 72.3404255319149, 78.72340425531915, 80.43478260869566, 0.0])\n",
    "statistic, p_value = wilcoxon(human_llm_bert_rew, human_bert_rew)\n",
    "print(f'REW Wilcoxon signed-rank statistic: {statistic}')\n",
    "print(f'p-value: {p_value}')"
   ]
  },
  {
   "cell_type": "code",
   "execution_count": 38,
   "metadata": {},
   "outputs": [
    {
     "name": "stdout",
     "output_type": "stream",
     "text": [
      "Overall Wilcoxon signed-rank statistic: NA\n",
      "p-value: 1\n",
      "OPE Wilcoxon signed-rank statistic: NA\n",
      "p-value: 1\n",
      "PAR Wilcoxon signed-rank statistic: NA\n",
      "p-value: 1\n",
      "REW Wilcoxon signed-rank statistic: NA\n",
      "p-value: 1\n"
     ]
    }
   ],
   "source": [
    "# COAID\n",
    "'''human_llm_bert_overall = np.array([100.0, 100.0, 100.0, 100.0, 100.0])\n",
    "human_bert_overall = np.array([100,100,100,100,100])\n",
    "statistic, p_value = wilcoxon(human_llm_bert_overall, human_bert_overall)'''\n",
    "print(f'Overall Wilcoxon signed-rank statistic: NA')\n",
    "print(f'p-value: 1')\n",
    "\n",
    "'''human_llm_bert_ope = np.array([100.0, 100.0, 100.0, 100.0, 100.0])\n",
    "human_bert_ope = np.array([100.0, 100.0, 100.0, 100.0, 100.0])\n",
    "statistic, p_value = wilcoxon(human_llm_bert_ope, human_bert_ope)'''\n",
    "print(f'OPE Wilcoxon signed-rank statistic: NA')\n",
    "print(f'p-value: 1')\n",
    "\n",
    "'''human_llm_bert_par = np.array([100.0, 100.0, 100.0, 100.0, 100.0])\n",
    "human_bert_par = np.array([100.0, 100.0, 100.0, 100.0, 100.0])\n",
    "statistic, p_value = wilcoxon(human_llm_bert_par, human_bert_par)'''\n",
    "print(f'PAR Wilcoxon signed-rank statistic: NA')\n",
    "print(f'p-value: 1')\n",
    "\n",
    "'''human_llm_bert_rew = np.array([100.0, 100.0, 100.0, 100.0, 100.0])\n",
    "human_bert_rew = np.array(100.0, 100.0, 100.0, 100.0, 100.0)\n",
    "statistic, p_value = wilcoxon(human_llm_bert_rew, human_bert_rew)'''\n",
    "print(f'REW Wilcoxon signed-rank statistic: NA')\n",
    "print(f'p-value: 1')"
   ]
  },
  {
   "cell_type": "code",
   "execution_count": null,
   "metadata": {},
   "outputs": [],
   "source": []
  }
 ],
 "metadata": {
  "kernelspec": {
   "display_name": "uni_39",
   "language": "python",
   "name": "python3"
  },
  "language_info": {
   "codemirror_mode": {
    "name": "ipython",
    "version": 3
   },
   "file_extension": ".py",
   "mimetype": "text/x-python",
   "name": "python",
   "nbconvert_exporter": "python",
   "pygments_lexer": "ipython3",
   "version": "3.9.18"
  }
 },
 "nbformat": 4,
 "nbformat_minor": 2
}
