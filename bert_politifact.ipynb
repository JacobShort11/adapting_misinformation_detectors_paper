{
 "cells": [
  {
   "cell_type": "markdown",
   "metadata": {},
   "source": [
    "### Imports & GPU Selection"
   ]
  },
  {
   "cell_type": "code",
   "execution_count": 1,
   "metadata": {},
   "outputs": [
    {
     "name": "stderr",
     "output_type": "stream",
     "text": [
      "/Users/jacobshort/anaconda3/envs/uni_39/lib/python3.9/site-packages/tqdm/auto.py:21: TqdmWarning: IProgress not found. Please update jupyter and ipywidgets. See https://ipywidgets.readthedocs.io/en/stable/user_install.html\n",
      "  from .autonotebook import tqdm as notebook_tqdm\n"
     ]
    }
   ],
   "source": [
    "# IMPORTS\n",
    "import numpy as np\n",
    "import pandas as pd\n",
    "import torch\n",
    "import torch.nn as nn\n",
    "from sklearn.metrics import classification_report\n",
    "from transformers import AutoModel, BertTokenizerFast\n",
    "import matplotlib.pyplot as plt\n",
    "from torch.utils.data import TensorDataset, DataLoader, RandomSampler, SequentialSampler\n",
    "import torch.optim as optim\n",
    "from sklearn.utils.class_weight import compute_class_weight\n",
    "import os\n",
    "import gc\n",
    "import re\n",
    "from scipy.stats import wilcoxon\n",
    "\n",
    "# SPECIFY GPU\n",
    "device = torch.device(\"mps\")"
   ]
  },
  {
   "cell_type": "markdown",
   "metadata": {},
   "source": [
    "# BERT Fine-Tuning On PolitiFact (Human)"
   ]
  },
  {
   "cell_type": "markdown",
   "metadata": {},
   "source": [
    "### Data Loading & Pre-Processing\n",
    "- Tokenisation\n",
    "- Analyse tokenised sequence length\n",
    "- Data formatting"
   ]
  },
  {
   "cell_type": "code",
   "execution_count": 2,
   "metadata": {},
   "outputs": [],
   "source": [
    "# Function to create tokenised text attention masks & labels in tensor format\n",
    "def pre_process_data(data, tokenizer, max_len):\n",
    "    text = data['text']\n",
    "    labels = data['is_true']\n",
    "\n",
    "    untruncated_tokenised_sequences = [(tokenizer.encode(text, truncation=False, add_special_tokens=True)) for text in text]\n",
    "\n",
    "    tokenised_sequences = tokenizer.batch_encode_plus(\n",
    "    text.tolist(),\n",
    "    max_length = max_len,\n",
    "    pad_to_max_length=True,\n",
    "    truncation=True)\n",
    "\n",
    "    tokenised_sequence_tensor = torch.tensor(tokenised_sequences['input_ids'])\n",
    "    mask_tensor = torch.tensor(tokenised_sequences['attention_mask'])\n",
    "    labels_tensor = torch.tensor(labels.tolist())\n",
    "\n",
    "    return untruncated_tokenised_sequences, tokenised_sequence_tensor, mask_tensor, labels_tensor"
   ]
  },
  {
   "cell_type": "code",
   "execution_count": 3,
   "metadata": {},
   "outputs": [
    {
     "name": "stderr",
     "output_type": "stream",
     "text": [
      "/Users/jacobshort/anaconda3/envs/uni_39/lib/python3.9/site-packages/transformers/tokenization_utils_base.py:1601: FutureWarning: `clean_up_tokenization_spaces` was not set. It will be set to `True` by default. This behavior will be depracted in transformers v4.45, and will be then set to `False` by default. For more details check this issue: https://github.com/huggingface/transformers/issues/31884\n",
      "  warnings.warn(\n",
      "Token indices sequence length is longer than the specified maximum sequence length for this model (5466 > 512). Running this sequence through the model will result in indexing errors\n",
      "/Users/jacobshort/anaconda3/envs/uni_39/lib/python3.9/site-packages/transformers/tokenization_utils_base.py:2870: FutureWarning: The `pad_to_max_length` argument is deprecated and will be removed in a future version, use `padding=True` or `padding='longest'` to pad to the longest sequence in the batch, or use `padding='max_length'` to pad to a max length. In this case, you can give a specific length with `max_length` (e.g. `max_length=45`) or leave max_length to None to pad to the maximal input size of the model (e.g. 512 for Bert).\n",
      "  warnings.warn(\n"
     ]
    }
   ],
   "source": [
    "# Define tokeniser & truncation max length\n",
    "tokenizer = BertTokenizerFast.from_pretrained('bert-base-uncased')\n",
    "max_len = 256\n",
    "\n",
    "# Load data\n",
    "train_df = pd.read_csv(\"/Applications/AI/msc_project/data/my_politifact_train.csv\")\n",
    "val_df = pd.read_csv(\"/Applications/AI/msc_project/data/my_politifact_validation.csv\")\n",
    "test_df = pd.read_csv(\"/Applications/AI/msc_project/data/my_politifact_test.csv\")\n",
    "\n",
    "# Obtain tokenised text, attention masks & labels in tensor format\n",
    "train_untruncated_seq, train_seq, train_mask, train_y = pre_process_data(train_df, tokenizer, max_len)\n",
    "val_untruncated_seq, val_seq, val_mask, val_y = pre_process_data(val_df, tokenizer, max_len)\n",
    "test_untruncated_seq, test_seq, test_mask, test_y = pre_process_data(test_df, tokenizer, max_len)"
   ]
  },
  {
   "cell_type": "code",
   "execution_count": 4,
   "metadata": {},
   "outputs": [
    {
     "name": "stdout",
     "output_type": "stream",
     "text": [
      "max:22952\n",
      "min:8\n"
     ]
    },
    {
     "data": {
      "image/png": "[encoded data removed]",
      "text/plain": [
       "<Figure size 1000x600 with 1 Axes>"
      ]
     },
     "metadata": {},
     "output_type": "display_data"
    }
   ],
   "source": [
    "# Plot the histogram of untruncated token counts\n",
    "all_tokenised_seq = train_untruncated_seq + val_untruncated_seq + test_untruncated_seq\n",
    "token_counts = [len(seq) for seq in all_tokenised_seq]\n",
    "print('max:' + str(max(token_counts)))\n",
    "print('min:' + str(min(token_counts)))\n",
    "plt.figure(figsize=(10, 6))\n",
    "pd.Series(token_counts).hist(bins=200, range=(0, 25000))\n",
    "plt.xlabel('Token Count')\n",
    "plt.ylabel('Frequency')\n",
    "plt.title('Histogram of Token Counts in Tokenised PolitiFact Human Data')\n",
    "plt.xlim(0, 5000)\n",
    "plt.show()"
   ]
  },
  {
   "cell_type": "markdown",
   "metadata": {},
   "source": [
    "## Define Model Architecture"
   ]
  },
  {
   "cell_type": "code",
   "execution_count": 5,
   "metadata": {},
   "outputs": [],
   "source": [
    "# Define frozen BERT model\n",
    "def initialise_bert_model():\n",
    "    # Load original BERT and freeze its parameters\n",
    "    bert = AutoModel.from_pretrained('bert-base-uncased')\n",
    "    for param in bert.parameters():\n",
    "        param.requires_grad = False\n",
    "\n",
    "    # Define the model architecture with classification head\n",
    "    # Classification head: ReLu -> FC -> ReLu -> FC -> Softmax\n",
    "    class BERT_Arch(nn.Module):\n",
    "\n",
    "        # Define layers within the model (we use these layers in the forward pass)\n",
    "        def __init__(self, bert):\n",
    "            super(BERT_Arch, self).__init__()\n",
    "            self.bert = bert\n",
    "            self.dropout = nn.Dropout(0.1)\n",
    "            self.relu = nn.ReLU()\n",
    "            self.fc1 = nn.Linear(768, 512)\n",
    "            self.fc2 = nn.Linear(512, 2)\n",
    "            self.softmax = nn.LogSoftmax(dim=1)\n",
    "\n",
    "        # Define forward pass (flow of data) through network\n",
    "        def forward(self, sent_id, mask):\n",
    "            # Pass the CLS token (BERT's output) to the model\n",
    "            _, cls_hs = self.bert(sent_id, attention_mask=mask, return_dict=False)\n",
    "            x = self.fc1(cls_hs)\n",
    "            x = self.relu(x)\n",
    "            x = self.dropout(x)\n",
    "            x = self.fc2(x)\n",
    "            x = self.softmax(x)\n",
    "            return x\n",
    "\n",
    "    # Create an instance of BERT and place on GPU\n",
    "    model = BERT_Arch(bert)\n",
    "    model = model.to(device)\n",
    "\n",
    "    return model"
   ]
  },
  {
   "cell_type": "code",
   "execution_count": 6,
   "metadata": {},
   "outputs": [],
   "source": [
    "# Define unfrozen BERT model\n",
    "def initialise_bert_model_unfrozen():\n",
    "    # Load original BERT and freeze its parameters\n",
    "    bert = AutoModel.from_pretrained('bert-base-uncased')\n",
    "    for param in bert.parameters():\n",
    "        param.requires_grad = True\n",
    "\n",
    "    # Define the model architecture with classification head\n",
    "    # Classification head: ReLu -> FC -> ReLu -> FC -> Softmax\n",
    "    class BERT_Arch(nn.Module):\n",
    "\n",
    "        # Define layers within the model (we use these layers in the forward pass)\n",
    "        def __init__(self, bert):\n",
    "            super(BERT_Arch, self).__init__()\n",
    "            self.bert = bert\n",
    "            self.dropout = nn.Dropout(0.1)\n",
    "            self.relu = nn.ReLU()\n",
    "            self.fc1 = nn.Linear(768, 512)\n",
    "            self.fc2 = nn.Linear(512, 2)\n",
    "            self.softmax = nn.LogSoftmax(dim=1)\n",
    "\n",
    "        # Define forward pass (flow of data) through network\n",
    "        def forward(self, sent_id, mask):\n",
    "            # Pass the CLS token (BERT's output) to the model\n",
    "            _, cls_hs = self.bert(sent_id, attention_mask=mask, return_dict=False)\n",
    "            x = self.fc1(cls_hs)\n",
    "            x = self.relu(x)\n",
    "            x = self.dropout(x)\n",
    "            x = self.fc2(x)\n",
    "            x = self.softmax(x)\n",
    "            return x\n",
    "\n",
    "    # Create an instance of BERT and place on GPU\n",
    "    model = BERT_Arch(bert)\n",
    "    model = model.to(device)\n",
    "\n",
    "    return model"
   ]
  },
  {
   "cell_type": "markdown",
   "metadata": {},
   "source": [
    "## Define Training & Evaluation Processes"
   ]
  },
  {
   "cell_type": "code",
   "execution_count": 7,
   "metadata": {},
   "outputs": [],
   "source": [
    "# Define training function for BERT model\n",
    "def train(loss_function, optimizer, train_dataloader,model):\n",
    "    model.train()\n",
    "    total_loss = 0\n",
    "    total_preds = []\n",
    "    for step, batch in enumerate(train_dataloader):\n",
    "        if step % 50 == 0 and not step == 0:\n",
    "            print('  Batch {:>5,}  of  {:>5,}.'.format(step, len(train_dataloader)))\n",
    "        batch = [r.to(device) for r in batch]\n",
    "        sent_id, mask, labels = batch\n",
    "        model.zero_grad()\n",
    "        preds = model(sent_id, mask)\n",
    "        batch_loss = loss_function(preds, labels)\n",
    "        total_loss += batch_loss.item()\n",
    "        batch_loss.backward()\n",
    "        torch.nn.utils.clip_grad_norm_(model.parameters(), 1.0)\n",
    "        optimizer.step()\n",
    "        preds = preds.detach().cpu().numpy()\n",
    "        total_preds.append(preds)\n",
    "    avg_loss = total_loss / len(train_dataloader)\n",
    "    total_preds = np.concatenate(total_preds, axis=0)\n",
    "    return avg_loss, total_preds\n",
    "\n",
    "# Define evaluation function for BERT model\n",
    "def evaluate(loss_function, val_dataloader,model):\n",
    "    print(\"\\nEvaluating...\")\n",
    "    model.eval()\n",
    "    total_loss = 0\n",
    "    total_preds = []\n",
    "    for step, batch in enumerate(val_dataloader):\n",
    "        if step % 50 == 0 and not step == 0:\n",
    "            print('  Batch {:>5,}  of  {:>5,}.'.format(step, len(val_dataloader)))\n",
    "        batch = [t.to(device) for t in batch]\n",
    "        sent_id, mask, labels = batch\n",
    "        with torch.no_grad():\n",
    "            preds = model(sent_id, mask)\n",
    "            batch_loss = loss_function(preds, labels)\n",
    "            total_loss += batch_loss.item()\n",
    "            preds = preds.detach().cpu().numpy()\n",
    "            total_preds.append(preds)\n",
    "    avg_loss = total_loss / len(val_dataloader)\n",
    "    total_preds = np.concatenate(total_preds, axis=0)\n",
    "    return avg_loss, total_preds"
   ]
  },
  {
   "cell_type": "markdown",
   "metadata": {},
   "source": [
    "## Hyperparameter Selection Using Validation Set"
   ]
  },
  {
   "cell_type": "code",
   "execution_count": 8,
   "metadata": {},
   "outputs": [
    {
     "data": {
      "text/plain": [
       "'\\nos.remove(model_path)\\n'"
      ]
     },
     "execution_count": 8,
     "metadata": {},
     "output_type": "execute_result"
    }
   ],
   "source": [
    "# Define path to save / load model weights\n",
    "model_path = \"/Applications/AI/msc_project/model_weights/bert_weights_politifact_human_validation.pt\"\n",
    "\n",
    "# RUN THIS CODE TO RERUN HYPERPARAMETER TUNING\n",
    "'''\n",
    "os.remove(model_path)\n",
    "'''"
   ]
  },
  {
   "cell_type": "code",
   "execution_count": 9,
   "metadata": {},
   "outputs": [],
   "source": [
    "# Function to perform Hyperparameter selection using grid search\n",
    "def hyper_param_selection(learning_rates, batch_sizes, epochs_options, model_inits, train_seq, train_mask, train_y, val_seq, val_mask, val_y):\n",
    "\n",
    "    # Calculate class weights\n",
    "    train_y_numpy = train_y.numpy()\n",
    "    train_y_pd = pd.DataFrame(train_y_numpy)\n",
    "    class_weights = compute_class_weight(\n",
    "        class_weight='balanced',\n",
    "        classes=np.unique(train_y_pd),\n",
    "        y=train_y_pd)\n",
    "    class_weights_tensor= torch.tensor(class_weights, dtype=torch.float).to(device)\n",
    "\n",
    "    # Initialize variables to store the best model's performance and hyperparameters\n",
    "    best_valid_loss = float('inf')\n",
    "    best_hyperparams = {'lr': None, 'batch_size': None, 'epochs': None, 'model_init': None}\n",
    "\n",
    "    # Check if model weights file already exists\n",
    "    if os.path.exists(model_path):\n",
    "        print(f\"Model weights already saved at {model_path}. Skipping hyperparameter selection.\")\n",
    "    else:\n",
    "        for model_init in model_inits:\n",
    "            for lr in learning_rates:\n",
    "                for batch_size in batch_sizes:\n",
    "                    for epochs in epochs_options:\n",
    "                        \n",
    "                        if model_init==\"unfrozen\":\n",
    "                            model = initialise_bert_model_unfrozen()\n",
    "                        else:\n",
    "                            model = initialise_bert_model()\n",
    "                        optimizer = optim.AdamW(model.parameters(), lr=lr)\n",
    "                        weighted_cross_entropy = nn.NLLLoss(weight=class_weights_tensor)\n",
    "                        \n",
    "                        print(f\"\\nTraining with model={model_init}, lr={lr}, batch_size={batch_size}, epochs={epochs}\")\n",
    "                        train_dataloader = DataLoader(TensorDataset(train_seq, train_mask, train_y), \n",
    "                                                    sampler=RandomSampler(TensorDataset(train_seq, train_mask, train_y)), \n",
    "                                                    batch_size=batch_size)\n",
    "                        val_dataloader = DataLoader(TensorDataset(val_seq, val_mask, val_y), \n",
    "                                                    sampler=SequentialSampler(TensorDataset(val_seq, val_mask, val_y)), \n",
    "                                                    batch_size=batch_size)\n",
    "\n",
    "                        for epoch in range(epochs):\n",
    "                            print('\\n Epoch {:} / {:}'.format(epoch + 1, epochs))\n",
    "                            train_loss, _ = train(loss_function=weighted_cross_entropy, optimizer=optimizer, train_dataloader=train_dataloader, model=model)\n",
    "                            valid_loss, _ = evaluate(loss_function=weighted_cross_entropy, val_dataloader=val_dataloader, model=model)\n",
    "                            if valid_loss < best_valid_loss:\n",
    "                                best_valid_loss = valid_loss\n",
    "                                best_hyperparams = {'lr': lr, 'batch_size': batch_size, 'epochs': epochs, 'model_init': model_init}\n",
    "                                torch.save(model.state_dict(), model_path)\n",
    "                                print(f\"Saved new best weights to {model_path}\")\n",
    "                            print(f'\\nTraining Loss: {train_loss:.3f}')\n",
    "                            print(f'Validation Loss: {valid_loss:.3f}')\n",
    "\n",
    "        print(f\"\\nBest Hyperparameters: Model = {best_hyperparams['model_init']}, Learning Rate = {best_hyperparams['lr']}, Batch Size = {best_hyperparams['batch_size']}, Epochs = {best_hyperparams['epochs']}\")\n",
    "        print(f\"Best model saved to: {model_path}\")\n",
    "\n",
    "    return best_hyperparams"
   ]
  },
  {
   "cell_type": "code",
   "execution_count": 10,
   "metadata": {},
   "outputs": [
    {
     "name": "stdout",
     "output_type": "stream",
     "text": [
      "Model weights already saved at /Applications/AI/msc_project/model_weights/bert_weights_politifact_human_validation.pt. Skipping hyperparameter selection.\n"
     ]
    },
    {
     "name": "stderr",
     "output_type": "stream",
     "text": [
      "/Users/jacobshort/anaconda3/envs/uni_39/lib/python3.9/site-packages/sklearn/preprocessing/_label.py:114: DataConversionWarning: A column-vector y was passed when a 1d array was expected. Please change the shape of y to (n_samples, ), for example using ravel().\n",
      "  y = column_or_1d(y, warn=True)\n"
     ]
    },
    {
     "data": {
      "text/plain": [
       "{'lr': None, 'batch_size': None, 'epochs': None, 'model_init': None}"
      ]
     },
     "execution_count": 10,
     "metadata": {},
     "output_type": "execute_result"
    }
   ],
   "source": [
    "# Define hyperparameter search grid\n",
    "learning_rates = [1e-5, 5e-5]\n",
    "batch_sizes = [16]\n",
    "epochs_options = [2, 4]\n",
    "model_inits = [\"unfrozen\", \"frozen\"]\n",
    "\n",
    "# Run hyperparameter selection (this code will not run if model weights already exist as we have already performed this step)\n",
    "hyper_param_selection(learning_rates=learning_rates, batch_sizes=batch_sizes, epochs_options=epochs_options, model_inits=model_inits, train_seq=train_seq, train_mask=train_mask, train_y=train_y, val_seq=val_seq, val_mask=val_mask, val_y=val_y)"
   ]
  },
  {
   "cell_type": "markdown",
   "metadata": {},
   "source": [
    "## Fine Tune Using Chosen Hyperparameters On Train Union Validation"
   ]
  },
  {
   "cell_type": "code",
   "execution_count": 11,
   "metadata": {},
   "outputs": [
    {
     "data": {
      "text/plain": [
       "'\\nos.remove(model_path)\\n'"
      ]
     },
     "execution_count": 11,
     "metadata": {},
     "output_type": "execute_result"
    }
   ],
   "source": [
    "# Define path to save / load model weights\n",
    "model_path = \"/Applications/AI/msc_project/model_weights/bert_weights_politifact_human_finetuned.pt\"\n",
    "\n",
    "# RUN THIS CODE TO RERUN FINE-TUNING\n",
    "'''\n",
    "os.remove(model_path)\n",
    "'''"
   ]
  },
  {
   "cell_type": "code",
   "execution_count": 12,
   "metadata": {},
   "outputs": [],
   "source": [
    "# Function to fine-tune the model on chosen hyperparameters\n",
    "def fine_tune(training_sequence, training_mask, training_y, epochs, batch_size, lr, model_init, model_path):\n",
    "    training_y_numpy = training_y.numpy()\n",
    "    training_y_pd = pd.DataFrame(training_y_numpy)\n",
    "    \n",
    "    class_weights = compute_class_weight(\n",
    "        class_weight='balanced',\n",
    "        classes=np.unique(training_y_pd),\n",
    "        y=training_y_pd)\n",
    "    weights = torch.tensor(class_weights, dtype=torch.float).to(device)\n",
    "\n",
    "    if os.path.exists(model_path):\n",
    "        print(f\"Model weights already saved at {model_path}. Skipping training.\")\n",
    "    else:\n",
    "        # DataLoader for the combined dataset\n",
    "        training_dataloader = DataLoader(TensorDataset(training_sequence, training_mask, training_y), \n",
    "                                        sampler=RandomSampler(TensorDataset(training_sequence, training_mask, training_y)), \n",
    "                                        batch_size=batch_size)\n",
    "\n",
    "        if model_init==\"unfrozen\":\n",
    "            model = initialise_bert_model_unfrozen()\n",
    "        else:\n",
    "            model = initialise_bert_model()\n",
    "        optimizer = optim.AdamW(model.parameters(), lr=lr)\n",
    "        cross_entropy = nn.NLLLoss(weight=weights)\n",
    "\n",
    "        # Model training loop\n",
    "        for epoch in range(epochs):\n",
    "            print(f'\\n Epoch {epoch + 1} / {epochs}')\n",
    "            train_loss = 0\n",
    "            model.train()\n",
    "            for step, batch in enumerate(training_dataloader):\n",
    "                batch = [item.to(device) for item in batch]\n",
    "                seq, mask, labels = batch\n",
    "                model.zero_grad()\n",
    "                outputs = model(seq, mask)\n",
    "                loss = cross_entropy(outputs, labels)\n",
    "                loss.backward()\n",
    "                optimizer.step()\n",
    "                train_loss += loss.item()\n",
    "            \n",
    "            # Log the average loss of the epoch\n",
    "            avg_train_loss = train_loss / len(training_dataloader)\n",
    "            print(f'\\nAverage Training Loss: {avg_train_loss:.3f}')\n",
    "\n",
    "        # Save the trained model weights\n",
    "        torch.save(model.state_dict(), model_path)\n",
    "        print(f\"Model weights saved to {model_path}\")"
   ]
  },
  {
   "cell_type": "code",
   "execution_count": 13,
   "metadata": {},
   "outputs": [
    {
     "name": "stdout",
     "output_type": "stream",
     "text": [
      "Model weights already saved at /Applications/AI/msc_project/model_weights/bert_weights_politifact_human_finetuned.pt. Skipping training.\n"
     ]
    },
    {
     "name": "stderr",
     "output_type": "stream",
     "text": [
      "/Users/jacobshort/anaconda3/envs/uni_39/lib/python3.9/site-packages/sklearn/preprocessing/_label.py:114: DataConversionWarning: A column-vector y was passed when a 1d array was expected. Please change the shape of y to (n_samples, ), for example using ravel().\n",
      "  y = column_or_1d(y, warn=True)\n"
     ]
    }
   ],
   "source": [
    "# Define best hyperparameters as chosen by previous hyperparameter selection grid search\n",
    "best_lr = 5e-5\n",
    "best_batch_size = 16\n",
    "best_epochs = 2\n",
    "best_model_init = \"unfrozen\"\n",
    "\n",
    "# Combine training and validation data for fine-tuning\n",
    "combined_training_sequence = torch.cat((train_seq, val_seq), 0)\n",
    "combined_training_mask = torch.cat((train_mask, val_mask), 0)\n",
    "combined_training_y = torch.cat((train_y, val_y), 0)\n",
    "\n",
    "# Fine-tune the model\n",
    "fine_tune(training_sequence=combined_training_sequence, training_mask=combined_training_mask, training_y=combined_training_y, epochs=best_epochs, batch_size=best_batch_size, lr=best_lr, model_init=best_model_init, model_path=model_path)"
   ]
  },
  {
   "cell_type": "markdown",
   "metadata": {},
   "source": [
    "## Predict Labels On Test Set & LLM Set"
   ]
  },
  {
   "cell_type": "code",
   "execution_count": 14,
   "metadata": {},
   "outputs": [
    {
     "name": "stderr",
     "output_type": "stream",
     "text": [
      "A parameter name that contains `beta` will be renamed internally to `bias`. Please use a different name to suppress this warning.\n",
      "A parameter name that contains `gamma` will be renamed internally to `weight`. Please use a different name to suppress this warning.\n",
      "A parameter name that contains `beta` will be renamed internally to `bias`. Please use a different name to suppress this warning.\n",
      "A parameter name that contains `gamma` will be renamed internally to `weight`. Please use a different name to suppress this warning.\n",
      "A parameter name that contains `beta` will be renamed internally to `bias`. Please use a different name to suppress this warning.\n",
      "A parameter name that contains `gamma` will be renamed internally to `weight`. Please use a different name to suppress this warning.\n",
      "A parameter name that contains `beta` will be renamed internally to `bias`. Please use a different name to suppress this warning.\n",
      "A parameter name that contains `gamma` will be renamed internally to `weight`. Please use a different name to suppress this warning.\n",
      "A parameter name that contains `beta` will be renamed internally to `bias`. Please use a different name to suppress this warning.\n",
      "A parameter name that contains `gamma` will be renamed internally to `weight`. Please use a different name to suppress this warning.\n",
      "A parameter name that contains `beta` will be renamed internally to `bias`. Please use a different name to suppress this warning.\n",
      "A parameter name that contains `gamma` will be renamed internally to `weight`. Please use a different name to suppress this warning.\n",
      "A parameter name that contains `beta` will be renamed internally to `bias`. Please use a different name to suppress this warning.\n",
      "A parameter name that contains `gamma` will be renamed internally to `weight`. Please use a different name to suppress this warning.\n",
      "A parameter name that contains `beta` will be renamed internally to `bias`. Please use a different name to suppress this warning.\n",
      "A parameter name that contains `gamma` will be renamed internally to `weight`. Please use a different name to suppress this warning.\n",
      "A parameter name that contains `beta` will be renamed internally to `bias`. Please use a different name to suppress this warning.\n",
      "A parameter name that contains `gamma` will be renamed internally to `weight`. Please use a different name to suppress this warning.\n",
      "A parameter name that contains `beta` will be renamed internally to `bias`. Please use a different name to suppress this warning.\n",
      "A parameter name that contains `gamma` will be renamed internally to `weight`. Please use a different name to suppress this warning.\n",
      "A parameter name that contains `beta` will be renamed internally to `bias`. Please use a different name to suppress this warning.\n",
      "A parameter name that contains `gamma` will be renamed internally to `weight`. Please use a different name to suppress this warning.\n",
      "A parameter name that contains `beta` will be renamed internally to `bias`. Please use a different name to suppress this warning.\n",
      "A parameter name that contains `gamma` will be renamed internally to `weight`. Please use a different name to suppress this warning.\n",
      "A parameter name that contains `beta` will be renamed internally to `bias`. Please use a different name to suppress this warning.\n",
      "A parameter name that contains `gamma` will be renamed internally to `weight`. Please use a different name to suppress this warning.\n",
      "A parameter name that contains `beta` will be renamed internally to `bias`. Please use a different name to suppress this warning.\n",
      "A parameter name that contains `gamma` will be renamed internally to `weight`. Please use a different name to suppress this warning.\n",
      "A parameter name that contains `beta` will be renamed internally to `bias`. Please use a different name to suppress this warning.\n",
      "A parameter name that contains `gamma` will be renamed internally to `weight`. Please use a different name to suppress this warning.\n",
      "A parameter name that contains `beta` will be renamed internally to `bias`. Please use a different name to suppress this warning.\n",
      "A parameter name that contains `gamma` will be renamed internally to `weight`. Please use a different name to suppress this warning.\n",
      "A parameter name that contains `beta` will be renamed internally to `bias`. Please use a different name to suppress this warning.\n",
      "A parameter name that contains `gamma` will be renamed internally to `weight`. Please use a different name to suppress this warning.\n",
      "A parameter name that contains `beta` will be renamed internally to `bias`. Please use a different name to suppress this warning.\n",
      "A parameter name that contains `gamma` will be renamed internally to `weight`. Please use a different name to suppress this warning.\n",
      "A parameter name that contains `beta` will be renamed internally to `bias`. Please use a different name to suppress this warning.\n",
      "A parameter name that contains `gamma` will be renamed internally to `weight`. Please use a different name to suppress this warning.\n",
      "A parameter name that contains `beta` will be renamed internally to `bias`. Please use a different name to suppress this warning.\n",
      "A parameter name that contains `gamma` will be renamed internally to `weight`. Please use a different name to suppress this warning.\n",
      "A parameter name that contains `beta` will be renamed internally to `bias`. Please use a different name to suppress this warning.\n",
      "A parameter name that contains `gamma` will be renamed internally to `weight`. Please use a different name to suppress this warning.\n",
      "A parameter name that contains `beta` will be renamed internally to `bias`. Please use a different name to suppress this warning.\n",
      "A parameter name that contains `gamma` will be renamed internally to `weight`. Please use a different name to suppress this warning.\n",
      "A parameter name that contains `beta` will be renamed internally to `bias`. Please use a different name to suppress this warning.\n",
      "A parameter name that contains `gamma` will be renamed internally to `weight`. Please use a different name to suppress this warning.\n",
      "A parameter name that contains `beta` will be renamed internally to `bias`. Please use a different name to suppress this warning.\n",
      "A parameter name that contains `gamma` will be renamed internally to `weight`. Please use a different name to suppress this warning.\n",
      "A parameter name that contains `beta` will be renamed internally to `bias`. Please use a different name to suppress this warning.\n",
      "A parameter name that contains `gamma` will be renamed internally to `weight`. Please use a different name to suppress this warning.\n",
      "A parameter name that contains `beta` will be renamed internally to `bias`. Please use a different name to suppress this warning.\n",
      "A parameter name that contains `gamma` will be renamed internally to `weight`. Please use a different name to suppress this warning.\n"
     ]
    },
    {
     "data": {
      "text/plain": [
       "_IncompatibleKeys(missing_keys=[], unexpected_keys=['bert.embeddings.position_ids'])"
      ]
     },
     "execution_count": 14,
     "metadata": {},
     "output_type": "execute_result"
    }
   ],
   "source": [
    "# Load the fine-tuned model\n",
    "model=initialise_bert_model_unfrozen()\n",
    "model.load_state_dict(torch.load(model_path), strict=False)"
   ]
  },
  {
   "cell_type": "code",
   "execution_count": 15,
   "metadata": {},
   "outputs": [],
   "source": [
    "# Function to predict labels and compute performance metrics using batching\n",
    "def predictions_and_metrics_basic(model, original_df, sequences, masks, labels):\n",
    "    model = model.to(device)\n",
    "    model.eval()\n",
    "    all_preds = []\n",
    "    batch_size = 32\n",
    "\n",
    "    n_batches = (len(sequences) + batch_size - 1) // batch_size\n",
    "    print(f\"Total batches to process: {n_batches}\")\n",
    "    \n",
    "    with torch.no_grad():\n",
    "        for i in range(0, len(sequences), batch_size):\n",
    "            seq_batch = sequences[i:i+batch_size].to(device)\n",
    "            mask_batch = masks[i:i+batch_size].to(device)\n",
    "            \n",
    "            preds = model(seq_batch, mask_batch)\n",
    "            preds = preds.detach().cpu().numpy()\n",
    "            all_preds.append(preds)\n",
    "\n",
    "            \n",
    "            # Progress update every 10 batches\n",
    "            if (i // batch_size + 1) % 10 == 0:\n",
    "                processed_batches = i // batch_size + 1\n",
    "                remaining_batches = n_batches - processed_batches\n",
    "                print(f\"Processed {processed_batches} batches, {remaining_batches} batches remaining\")\n",
    "    \n",
    "    all_preds=np.concatenate(all_preds, axis=0)\n",
    "    predictions = np.argmax(all_preds, axis=1)\n",
    "\n",
    "    text = original_df['text']\n",
    "    text_pd = pd.DataFrame(text)\n",
    "    text_pd = text_pd.iloc[:,0]\n",
    "\n",
    "    labels_numpy = labels.numpy()\n",
    "    labels_pd = pd.DataFrame(labels_numpy)\n",
    "    labels_pd = labels_pd.iloc[:,0]\n",
    "\n",
    "    results_df = pd.DataFrame({'Text': text_pd, 'Predicted Label': predictions, 'Original Label': labels_pd})\n",
    "    results_df = results_df.dropna(subset=['Text'])\n",
    "\n",
    "    original_misinformations = results_df[results_df['Original Label'] == 0]\n",
    "    correct_predictions = original_misinformations[original_misinformations['Predicted Label'] == 0].shape[0]\n",
    "    success_rate = 100*(correct_predictions / original_misinformations.shape[0]) if original_misinformations.shape[0] > 0 else 0\n",
    "\n",
    "    metrics = classification_report(labels, predictions)\n",
    "    \n",
    "    return results_df, success_rate, metrics\n",
    "\n",
    "\n",
    "# Function to predict labels and compute performance metrics using batching\n",
    "# This function also outputs classwise success rates (for different LLMFake categories)\n",
    "def predictions_and_metrics_classwise(model, original_df, sequences, masks, labels):\n",
    "    model = model.to(device)\n",
    "    model.eval()\n",
    "    all_preds = []\n",
    "    batch_size = 32\n",
    "\n",
    "    n_batches = (len(sequences) + batch_size - 1) // batch_size\n",
    "    print(f\"Total batches to process: {n_batches}\")\n",
    "    \n",
    "    with torch.no_grad():\n",
    "        for i in range(0, len(sequences), batch_size):\n",
    "            seq_batch = sequences[i:i+batch_size].to(device)\n",
    "            mask_batch = masks[i:i+batch_size].to(device)\n",
    "            \n",
    "            preds = model(seq_batch, mask_batch)\n",
    "            preds = preds.detach().cpu().numpy()\n",
    "            all_preds.append(preds)\n",
    "\n",
    "            # Progress update every 10 batches\n",
    "            if (i // batch_size + 1) % 10 == 0:\n",
    "                processed_batches = i // batch_size + 1\n",
    "                remaining_batches = n_batches - processed_batches\n",
    "                print(f\"Processed {processed_batches} batches, {remaining_batches} batches remaining\")\n",
    "    \n",
    "    all_preds = np.concatenate(all_preds, axis=0)\n",
    "    predictions = np.argmax(all_preds, axis=1)\n",
    "\n",
    "    text = original_df['text']\n",
    "    text_pd = pd.DataFrame(text)\n",
    "    text_pd = text_pd.iloc[:, 0]\n",
    "\n",
    "    labels_numpy = labels.numpy()\n",
    "    labels_pd = pd.DataFrame(labels_numpy)\n",
    "    labels_pd = labels_pd.iloc[:, 0]\n",
    "\n",
    "    categories = original_df['label']\n",
    "    categories_pd = pd.DataFrame(categories)\n",
    "    categories_pd = categories_pd.iloc[:, 0]\n",
    "\n",
    "    results_df = pd.DataFrame({\n",
    "        'Text': text_pd,\n",
    "        'Category': categories_pd,\n",
    "        'Predicted Label': predictions,\n",
    "        'Original Label': labels_pd\n",
    "    })\n",
    "    results_df = results_df.dropna(subset=['Text'])\n",
    "\n",
    "    # Compute overall success rate\n",
    "    original_misinformations = results_df[results_df['Original Label'] == 0]\n",
    "    correct_predictions = original_misinformations[original_misinformations['Predicted Label'] == 0].shape[0]\n",
    "    success_rate = 100 * (correct_predictions / original_misinformations.shape[0]) if original_misinformations.shape[0] > 0 else 0\n",
    "\n",
    "    # Compute class-wise success rates\n",
    "    classwise_success_rates = {}\n",
    "    for category in results_df['Category'].unique():\n",
    "        category_df = results_df[results_df['Category'] == category]\n",
    "        original_misinformations = category_df[category_df['Original Label'] == 0]\n",
    "        correct_predictions = original_misinformations[original_misinformations['Predicted Label'] == 0].shape[0]\n",
    "        classwise_success_rate = 100 * (correct_predictions / original_misinformations.shape[0]) if original_misinformations.shape[0] > 0 else 0\n",
    "        classwise_success_rates[category] = classwise_success_rate\n",
    "\n",
    "    metrics = classification_report(labels, predictions)\n",
    "    \n",
    "    return results_df, success_rate, classwise_success_rates, metrics"
   ]
  },
  {
   "cell_type": "code",
   "execution_count": 16,
   "metadata": {},
   "outputs": [
    {
     "name": "stdout",
     "output_type": "stream",
     "text": [
      "Total batches to process: 6\n",
      "              precision    recall  f1-score   support\n",
      "\n",
      "           0       0.84      0.89      0.87        76\n",
      "           1       0.92      0.87      0.89       100\n",
      "\n",
      "    accuracy                           0.88       176\n",
      "   macro avg       0.88      0.88      0.88       176\n",
      "weighted avg       0.88      0.88      0.88       176\n",
      "\n",
      "Success rate: 89.47%\n",
      "/Applications/AI/msc_project/predictions/my_politifact_test_predictions_human_bert.csv already exists. The DataFrame will not be saved.\n"
     ]
    }
   ],
   "source": [
    "# Human trained BERT on human test set\n",
    "# Obtain performance metrics\n",
    "results_df, success_rate, metrics = predictions_and_metrics_basic(model=model, original_df=test_df, sequences=test_seq, masks=test_mask, labels=test_y)\n",
    "print(metrics)\n",
    "print(f\"Success rate: {success_rate:.2f}%\")\n",
    "\n",
    "# Save predictions to file if the file does not already exist\n",
    "results_table_path = '/Applications/AI/msc_project/predictions/my_politifact_test_predictions_human_bert.csv'\n",
    "if os.path.exists(results_table_path):\n",
    "    print(f\"{results_table_path} already exists. The DataFrame will not be saved.\")\n",
    "else:\n",
    "    # Save the results_df to the results_table_path\n",
    "    results_df.to_csv(results_table_path, index=False)\n",
    "    print(f\"Results DataFrame saved to {results_table_path}.\")"
   ]
  },
  {
   "cell_type": "code",
   "execution_count": 17,
   "metadata": {},
   "outputs": [
    {
     "name": "stderr",
     "output_type": "stream",
     "text": [
      "/Users/jacobshort/anaconda3/envs/uni_39/lib/python3.9/site-packages/transformers/tokenization_utils_base.py:1601: FutureWarning: `clean_up_tokenization_spaces` was not set. It will be set to `True` by default. This behavior will be depracted in transformers v4.45, and will be then set to `False` by default. For more details check this issue: https://github.com/huggingface/transformers/issues/31884\n",
      "  warnings.warn(\n",
      "Token indices sequence length is longer than the specified maximum sequence length for this model (545 > 512). Running this sequence through the model will result in indexing errors\n",
      "/Users/jacobshort/anaconda3/envs/uni_39/lib/python3.9/site-packages/transformers/tokenization_utils_base.py:2870: FutureWarning: The `pad_to_max_length` argument is deprecated and will be removed in a future version, use `padding=True` or `padding='longest'` to pad to the longest sequence in the batch, or use `padding='max_length'` to pad to a max length. In this case, you can give a specific length with `max_length` (e.g. `max_length=45`) or leave max_length to None to pad to the maximal input size of the model (e.g. 512 for Bert).\n",
      "  warnings.warn(\n"
     ]
    },
    {
     "name": "stdout",
     "output_type": "stream",
     "text": [
      "Total batches to process: 14\n",
      "Processed 10 batches, 4 batches remaining\n",
      "              precision    recall  f1-score   support\n",
      "\n",
      "           0       1.00      0.66      0.80       417\n",
      "           1       0.00      0.00      0.00         0\n",
      "\n",
      "    accuracy                           0.66       417\n",
      "   macro avg       0.50      0.33      0.40       417\n",
      "weighted avg       1.00      0.66      0.80       417\n",
      "\n",
      "Success rate: 66.19%\n",
      "{'llm_totally_arbitrary_generation': 100.0, 'llm_incomplete': 34.48275862068966, 'llm_false_context': 40.0, 'llm_open_generation': 90.74074074074075, 'llm_unsubstantiated_content': 37.93103448275862, 'llm_outdated': 34.48275862068966, 'llm_health_generation': 100.0, 'llm_rewritten': 92.5925925925926, 'llm_total_fabrication': 44.827586206896555, 'llm_politics_generation': 100.0, 'llm_paraphrase': 87.03703703703704, 'llm_hallucination': 45.0, 'llm_ambiguity': 17.24137931034483}\n",
      "/Applications/AI/msc_project/predictions/my_llm_fake_politifact_test_predictions_human_bert.csv already exists. The DataFrame will not be saved.\n"
     ]
    },
    {
     "name": "stderr",
     "output_type": "stream",
     "text": [
      "/Users/jacobshort/anaconda3/envs/uni_39/lib/python3.9/site-packages/sklearn/metrics/_classification.py:1469: UndefinedMetricWarning: Recall and F-score are ill-defined and being set to 0.0 in labels with no true samples. Use `zero_division` parameter to control this behavior.\n",
      "  _warn_prf(average, modifier, msg_start, len(result))\n",
      "/Users/jacobshort/anaconda3/envs/uni_39/lib/python3.9/site-packages/sklearn/metrics/_classification.py:1469: UndefinedMetricWarning: Recall and F-score are ill-defined and being set to 0.0 in labels with no true samples. Use `zero_division` parameter to control this behavior.\n",
      "  _warn_prf(average, modifier, msg_start, len(result))\n",
      "/Users/jacobshort/anaconda3/envs/uni_39/lib/python3.9/site-packages/sklearn/metrics/_classification.py:1469: UndefinedMetricWarning: Recall and F-score are ill-defined and being set to 0.0 in labels with no true samples. Use `zero_division` parameter to control this behavior.\n",
      "  _warn_prf(average, modifier, msg_start, len(result))\n"
     ]
    }
   ],
   "source": [
    "# Human trained BERT on LLMFake test set\n",
    "# Load & pre-process test data\n",
    "ood_df = pd.read_csv(\"/Applications/AI/msc_project/data/my_llm_fake_politifact_test.csv\")\n",
    "ood_untruncated_seq, ood_seq, ood_mask, ood_y = pre_process_data(ood_df, tokenizer, max_len)\n",
    "\n",
    "# Obtain performance metrics\n",
    "results_df, success_rate, classwise_success_rates, metrics = predictions_and_metrics_classwise(model=model, original_df=ood_df, sequences=ood_seq, masks=ood_mask, labels=ood_y)\n",
    "print(metrics)\n",
    "print(f\"Success rate: {success_rate:.2f}%\")\n",
    "print(classwise_success_rates)\n",
    "\n",
    "results_table_path = '/Applications/AI/msc_project/predictions/my_llm_fake_politifact_test_predictions_human_bert.csv'\n",
    "if os.path.exists(results_table_path):\n",
    "    print(f\"{results_table_path} already exists. The DataFrame will not be saved.\")\n",
    "else:\n",
    "    # Save the results_df to the results_table_path\n",
    "    results_df.to_csv(results_table_path, index=False)\n",
    "    print(f\"Results DataFrame saved to {results_table_path}.\")"
   ]
  },
  {
   "cell_type": "markdown",
   "metadata": {},
   "source": [
    "# BERT Fine-Tuning On PolitiFact (Human & LLM)"
   ]
  },
  {
   "cell_type": "markdown",
   "metadata": {},
   "source": [
    "### Data Loading & Pre-Processing\n",
    "- Tokenisation\n",
    "- Analyse tokenised sequence length\n",
    "- Data formatting"
   ]
  },
  {
   "cell_type": "code",
   "execution_count": 38,
   "metadata": {},
   "outputs": [
    {
     "name": "stderr",
     "output_type": "stream",
     "text": [
      "/Users/jacobshort/anaconda3/envs/uni_39/lib/python3.9/site-packages/transformers/tokenization_utils_base.py:2870: FutureWarning: The `pad_to_max_length` argument is deprecated and will be removed in a future version, use `padding=True` or `padding='longest'` to pad to the longest sequence in the batch, or use `padding='max_length'` to pad to a max length. In this case, you can give a specific length with `max_length` (e.g. `max_length=45`) or leave max_length to None to pad to the maximal input size of the model (e.g. 512 for Bert).\n",
      "  warnings.warn(\n"
     ]
    },
    {
     "data": {
      "image/png": "[encoded data removed]",
      "text/plain": [
       "<Figure size 1000x600 with 1 Axes>"
      ]
     },
     "metadata": {},
     "output_type": "display_data"
    }
   ],
   "source": [
    "# Load data\n",
    "train_human_df = pd.read_csv(\"/Applications/AI/msc_project/data/my_politifact_train.csv\")\n",
    "val_human_df = pd.read_csv(\"/Applications/AI/msc_project/data/my_politifact_validation.csv\")\n",
    "test_human_df = pd.read_csv(\"/Applications/AI/msc_project/data/my_politifact_test.csv\")\n",
    "train_llm_df = pd.read_csv(\"/Applications/AI/msc_project/data/my_llm_fake_politifact_train.csv\")\n",
    "val_llm_df = pd.read_csv(\"/Applications/AI/msc_project/data/my_llm_fake_politifact_validation.csv\")\n",
    "test_llm_df = pd.read_csv(\"/Applications/AI/msc_project/data/my_llm_fake_politifact_test.csv\")\n",
    "\n",
    "# Combine Human & LLMFake datasets\n",
    "filtered_train_llm_df = train_llm_df[['text', 'is_true']]\n",
    "combined_train_df = pd.concat([train_human_df, filtered_train_llm_df], ignore_index=True)\n",
    "filtered_val_llm_df = val_llm_df[['text', 'is_true']]\n",
    "combined_val_df = pd.concat([val_human_df, filtered_val_llm_df], ignore_index=True)\n",
    "filtered_test_llm_df = test_llm_df[['text', 'is_true']]\n",
    "combined_test_df = pd.concat([test_human_df, filtered_test_llm_df], ignore_index=True)\n",
    "\n",
    "# Pre-process data\n",
    "train_untruncated_seq, train_seq, train_mask, train_y = pre_process_data(combined_train_df, tokenizer, max_len)\n",
    "val_untruncated_seq, val_seq, val_mask, val_y = pre_process_data(combined_val_df, tokenizer, max_len)\n",
    "test_untruncated_seq, test_seq, test_mask, test_y = pre_process_data(combined_test_df, tokenizer, max_len)\n",
    "\n",
    "\n",
    "# Plot the histogram of token counts of tokenised text for LLMFake Data\n",
    "train_llm_untruncated_seq, train_llm_seq, train_llm_mask, train_llm_y = pre_process_data(filtered_train_llm_df, tokenizer, max_len)\n",
    "val_llm_untruncated_seq, val_llm_seq, val_llm_mask, val_llm_y = pre_process_data(filtered_val_llm_df, tokenizer, max_len)\n",
    "test_llm_untruncated_seq, test_llm_seq, test_llm_mask, test_llm_y = pre_process_data(filtered_test_llm_df, tokenizer, max_len)\n",
    "all_llm_tokenised_seq = train_llm_untruncated_seq + val_llm_untruncated_seq + test_llm_untruncated_seq\n",
    "llm_token_counts = [len(seq) for seq in all_llm_tokenised_seq]\n",
    "plt.figure(figsize=(10, 6))\n",
    "pd.Series(llm_token_counts).hist(bins=200, range=(0, 25000))\n",
    "plt.xlabel('Token Count')\n",
    "plt.ylabel('Frequency')\n",
    "plt.title('Histogram of Token Counts in Tokenised LLMFake Data')\n",
    "plt.xlim(0, 5000)\n",
    "plt.show()"
   ]
  },
  {
   "cell_type": "markdown",
   "metadata": {},
   "source": [
    "## Hyperparameter Selection Using Validation Set"
   ]
  },
  {
   "cell_type": "code",
   "execution_count": 19,
   "metadata": {},
   "outputs": [
    {
     "data": {
      "text/plain": [
       "'\\nos.remove(model_path)\\n'"
      ]
     },
     "execution_count": 19,
     "metadata": {},
     "output_type": "execute_result"
    }
   ],
   "source": [
    "# Define model path\n",
    "model_path = \"/Applications/AI/msc_project/model_weights/bert_weights_politifact_human_and_llm_validation.pt\"\n",
    "\n",
    "# RUN THIS CODE TO RERUN HYPERPARAMETER TUNING\n",
    "'''\n",
    "os.remove(model_path)\n",
    "'''"
   ]
  },
  {
   "cell_type": "code",
   "execution_count": 20,
   "metadata": {},
   "outputs": [
    {
     "name": "stdout",
     "output_type": "stream",
     "text": [
      "Model weights already saved at /Applications/AI/msc_project/model_weights/bert_weights_politifact_human_and_llm_validation.pt. Skipping hyperparameter selection.\n"
     ]
    },
    {
     "name": "stderr",
     "output_type": "stream",
     "text": [
      "/Users/jacobshort/anaconda3/envs/uni_39/lib/python3.9/site-packages/sklearn/preprocessing/_label.py:114: DataConversionWarning: A column-vector y was passed when a 1d array was expected. Please change the shape of y to (n_samples, ), for example using ravel().\n",
      "  y = column_or_1d(y, warn=True)\n"
     ]
    },
    {
     "data": {
      "text/plain": [
       "{'lr': None, 'batch_size': None, 'epochs': None, 'model_init': None}"
      ]
     },
     "execution_count": 20,
     "metadata": {},
     "output_type": "execute_result"
    }
   ],
   "source": [
    "# Define hyperparameter search grid\n",
    "learning_rates = [1e-5, 5e-5]\n",
    "batch_sizes = [16]\n",
    "epochs_options = [2, 4]\n",
    "model_inits = [\"unfrozen\", \"frozen\"]\n",
    "\n",
    "# Run hyperparameter selection (this code will not run if model weights already exist as we have already performed this step)\n",
    "hyper_param_selection(learning_rates=learning_rates, batch_sizes=batch_sizes, epochs_options=epochs_options, model_inits=model_inits, train_seq=train_seq, train_mask=train_mask, train_y=train_y, val_seq=val_seq, val_mask=val_mask, val_y=val_y)"
   ]
  },
  {
   "cell_type": "markdown",
   "metadata": {},
   "source": [
    "DO BELOW (UPDATE TO MODERN)"
   ]
  },
  {
   "cell_type": "markdown",
   "metadata": {},
   "source": [
    "## Fine Tune Using Chosen Hyperparameters On Train Union Validation"
   ]
  },
  {
   "cell_type": "code",
   "execution_count": 21,
   "metadata": {},
   "outputs": [
    {
     "data": {
      "text/plain": [
       "'\\nos.remove(model_path)\\n'"
      ]
     },
     "execution_count": 21,
     "metadata": {},
     "output_type": "execute_result"
    }
   ],
   "source": [
    "# Define model path\n",
    "model_path = \"/Applications/AI/msc_project/model_weights/bert_weights_politifact_human_llm_finetuned.pt\"\n",
    "\n",
    "# RUN THIS CODE TO RERUN FINE-TUNING\n",
    "'''\n",
    "os.remove(model_path)\n",
    "'''"
   ]
  },
  {
   "cell_type": "code",
   "execution_count": 22,
   "metadata": {},
   "outputs": [
    {
     "name": "stdout",
     "output_type": "stream",
     "text": [
      "Model weights already saved at /Applications/AI/msc_project/model_weights/bert_weights_politifact_human_llm_finetuned.pt. Skipping training.\n"
     ]
    },
    {
     "name": "stderr",
     "output_type": "stream",
     "text": [
      "/Users/jacobshort/anaconda3/envs/uni_39/lib/python3.9/site-packages/sklearn/preprocessing/_label.py:114: DataConversionWarning: A column-vector y was passed when a 1d array was expected. Please change the shape of y to (n_samples, ), for example using ravel().\n",
      "  y = column_or_1d(y, warn=True)\n"
     ]
    }
   ],
   "source": [
    "# Define best hyperparameters as chosen by previous hyperparameter selection grid search\n",
    "best_lr = 1e-5\n",
    "best_batch_size = 16\n",
    "best_epochs = 2\n",
    "best_model_init = \"unfrozen\"\n",
    "\n",
    "# Combine training and validation data for fine-tuning\n",
    "combined_training_sequence = torch.cat((train_seq, val_seq), 0)\n",
    "combined_training_mask = torch.cat((train_mask, val_mask), 0)\n",
    "combined_training_y = torch.cat((train_y, val_y), 0)\n",
    "\n",
    "# Fine-tune the model\n",
    "fine_tune(training_sequence=combined_training_sequence, training_mask=combined_training_mask, training_y=combined_training_y, epochs=best_epochs, batch_size=best_batch_size, lr=best_lr, model_init=best_model_init, model_path=model_path)"
   ]
  },
  {
   "cell_type": "markdown",
   "metadata": {},
   "source": [
    "## Predict Labels On Test Set & LLM Set"
   ]
  },
  {
   "cell_type": "code",
   "execution_count": 23,
   "metadata": {},
   "outputs": [
    {
     "name": "stderr",
     "output_type": "stream",
     "text": [
      "A parameter name that contains `beta` will be renamed internally to `bias`. Please use a different name to suppress this warning.\n",
      "A parameter name that contains `gamma` will be renamed internally to `weight`. Please use a different name to suppress this warning.\n",
      "A parameter name that contains `beta` will be renamed internally to `bias`. Please use a different name to suppress this warning.\n",
      "A parameter name that contains `gamma` will be renamed internally to `weight`. Please use a different name to suppress this warning.\n",
      "A parameter name that contains `beta` will be renamed internally to `bias`. Please use a different name to suppress this warning.\n",
      "A parameter name that contains `gamma` will be renamed internally to `weight`. Please use a different name to suppress this warning.\n",
      "A parameter name that contains `beta` will be renamed internally to `bias`. Please use a different name to suppress this warning.\n",
      "A parameter name that contains `gamma` will be renamed internally to `weight`. Please use a different name to suppress this warning.\n",
      "A parameter name that contains `beta` will be renamed internally to `bias`. Please use a different name to suppress this warning.\n",
      "A parameter name that contains `gamma` will be renamed internally to `weight`. Please use a different name to suppress this warning.\n",
      "A parameter name that contains `beta` will be renamed internally to `bias`. Please use a different name to suppress this warning.\n",
      "A parameter name that contains `gamma` will be renamed internally to `weight`. Please use a different name to suppress this warning.\n",
      "A parameter name that contains `beta` will be renamed internally to `bias`. Please use a different name to suppress this warning.\n",
      "A parameter name that contains `gamma` will be renamed internally to `weight`. Please use a different name to suppress this warning.\n",
      "A parameter name that contains `beta` will be renamed internally to `bias`. Please use a different name to suppress this warning.\n",
      "A parameter name that contains `gamma` will be renamed internally to `weight`. Please use a different name to suppress this warning.\n",
      "A parameter name that contains `beta` will be renamed internally to `bias`. Please use a different name to suppress this warning.\n",
      "A parameter name that contains `gamma` will be renamed internally to `weight`. Please use a different name to suppress this warning.\n",
      "A parameter name that contains `beta` will be renamed internally to `bias`. Please use a different name to suppress this warning.\n",
      "A parameter name that contains `gamma` will be renamed internally to `weight`. Please use a different name to suppress this warning.\n",
      "A parameter name that contains `beta` will be renamed internally to `bias`. Please use a different name to suppress this warning.\n",
      "A parameter name that contains `gamma` will be renamed internally to `weight`. Please use a different name to suppress this warning.\n",
      "A parameter name that contains `beta` will be renamed internally to `bias`. Please use a different name to suppress this warning.\n",
      "A parameter name that contains `gamma` will be renamed internally to `weight`. Please use a different name to suppress this warning.\n",
      "A parameter name that contains `beta` will be renamed internally to `bias`. Please use a different name to suppress this warning.\n",
      "A parameter name that contains `gamma` will be renamed internally to `weight`. Please use a different name to suppress this warning.\n",
      "A parameter name that contains `beta` will be renamed internally to `bias`. Please use a different name to suppress this warning.\n",
      "A parameter name that contains `gamma` will be renamed internally to `weight`. Please use a different name to suppress this warning.\n",
      "A parameter name that contains `beta` will be renamed internally to `bias`. Please use a different name to suppress this warning.\n",
      "A parameter name that contains `gamma` will be renamed internally to `weight`. Please use a different name to suppress this warning.\n",
      "A parameter name that contains `beta` will be renamed internally to `bias`. Please use a different name to suppress this warning.\n",
      "A parameter name that contains `gamma` will be renamed internally to `weight`. Please use a different name to suppress this warning.\n",
      "A parameter name that contains `beta` will be renamed internally to `bias`. Please use a different name to suppress this warning.\n",
      "A parameter name that contains `gamma` will be renamed internally to `weight`. Please use a different name to suppress this warning.\n",
      "A parameter name that contains `beta` will be renamed internally to `bias`. Please use a different name to suppress this warning.\n",
      "A parameter name that contains `gamma` will be renamed internally to `weight`. Please use a different name to suppress this warning.\n",
      "A parameter name that contains `beta` will be renamed internally to `bias`. Please use a different name to suppress this warning.\n",
      "A parameter name that contains `gamma` will be renamed internally to `weight`. Please use a different name to suppress this warning.\n",
      "A parameter name that contains `beta` will be renamed internally to `bias`. Please use a different name to suppress this warning.\n",
      "A parameter name that contains `gamma` will be renamed internally to `weight`. Please use a different name to suppress this warning.\n",
      "A parameter name that contains `beta` will be renamed internally to `bias`. Please use a different name to suppress this warning.\n",
      "A parameter name that contains `gamma` will be renamed internally to `weight`. Please use a different name to suppress this warning.\n",
      "A parameter name that contains `beta` will be renamed internally to `bias`. Please use a different name to suppress this warning.\n",
      "A parameter name that contains `gamma` will be renamed internally to `weight`. Please use a different name to suppress this warning.\n",
      "A parameter name that contains `beta` will be renamed internally to `bias`. Please use a different name to suppress this warning.\n",
      "A parameter name that contains `gamma` will be renamed internally to `weight`. Please use a different name to suppress this warning.\n",
      "A parameter name that contains `beta` will be renamed internally to `bias`. Please use a different name to suppress this warning.\n",
      "A parameter name that contains `gamma` will be renamed internally to `weight`. Please use a different name to suppress this warning.\n",
      "A parameter name that contains `beta` will be renamed internally to `bias`. Please use a different name to suppress this warning.\n",
      "A parameter name that contains `gamma` will be renamed internally to `weight`. Please use a different name to suppress this warning.\n",
      "A parameter name that contains `beta` will be renamed internally to `bias`. Please use a different name to suppress this warning.\n",
      "A parameter name that contains `gamma` will be renamed internally to `weight`. Please use a different name to suppress this warning.\n"
     ]
    },
    {
     "data": {
      "text/plain": [
       "_IncompatibleKeys(missing_keys=[], unexpected_keys=['bert.embeddings.position_ids'])"
      ]
     },
     "execution_count": 23,
     "metadata": {},
     "output_type": "execute_result"
    }
   ],
   "source": [
    "# Load the fine-tuned model\n",
    "model=initialise_bert_model_unfrozen()\n",
    "model.load_state_dict(torch.load(model_path), strict=False)"
   ]
  },
  {
   "cell_type": "code",
   "execution_count": 24,
   "metadata": {},
   "outputs": [
    {
     "name": "stdout",
     "output_type": "stream",
     "text": [
      "Total batches to process: 19\n",
      "Processed 10 batches, 9 batches remaining\n",
      "              precision    recall  f1-score   support\n",
      "\n",
      "           0       0.98      0.94      0.96       493\n",
      "           1       0.74      0.89      0.81       100\n",
      "\n",
      "    accuracy                           0.93       593\n",
      "   macro avg       0.86      0.91      0.88       593\n",
      "weighted avg       0.94      0.93      0.93       593\n",
      "\n",
      "Success rate: 82.89%\n",
      "/Applications/AI/msc_project/predictions/my_politifact_test_predictions_human_and_llm_bert.csv already exists. The DataFrame will not be saved.\n"
     ]
    }
   ],
   "source": [
    "# Human and LLMFake trained BERT on human test set\n",
    "# Obtain performance metrics\n",
    "results_df, success_rate, metrics = predictions_and_metrics_basic(model=model, original_df=test_df, sequences=test_seq, masks=test_mask, labels=test_y)\n",
    "print(metrics)\n",
    "print(f\"Success rate: {success_rate:.2f}%\")\n",
    "\n",
    "results_table_path = '/Applications/AI/msc_project/predictions/my_politifact_test_predictions_human_and_llm_bert.csv'\n",
    "if os.path.exists(results_table_path):\n",
    "    print(f\"{results_table_path} already exists. The DataFrame will not be saved.\")\n",
    "else:\n",
    "    # Save the results_df to the results_table_path\n",
    "    results_df.to_csv(results_table_path, index=False)\n",
    "    print(f\"Results DataFrame saved to {results_table_path}.\")"
   ]
  },
  {
   "cell_type": "code",
   "execution_count": 25,
   "metadata": {},
   "outputs": [
    {
     "name": "stderr",
     "output_type": "stream",
     "text": [
      "/Users/jacobshort/anaconda3/envs/uni_39/lib/python3.9/site-packages/transformers/tokenization_utils_base.py:1601: FutureWarning: `clean_up_tokenization_spaces` was not set. It will be set to `True` by default. This behavior will be depracted in transformers v4.45, and will be then set to `False` by default. For more details check this issue: https://github.com/huggingface/transformers/issues/31884\n",
      "  warnings.warn(\n",
      "Token indices sequence length is longer than the specified maximum sequence length for this model (545 > 512). Running this sequence through the model will result in indexing errors\n",
      "/Users/jacobshort/anaconda3/envs/uni_39/lib/python3.9/site-packages/transformers/tokenization_utils_base.py:2870: FutureWarning: The `pad_to_max_length` argument is deprecated and will be removed in a future version, use `padding=True` or `padding='longest'` to pad to the longest sequence in the batch, or use `padding='max_length'` to pad to a max length. In this case, you can give a specific length with `max_length` (e.g. `max_length=45`) or leave max_length to None to pad to the maximal input size of the model (e.g. 512 for Bert).\n",
      "  warnings.warn(\n"
     ]
    },
    {
     "name": "stdout",
     "output_type": "stream",
     "text": [
      "Total batches to process: 14\n",
      "Processed 10 batches, 4 batches remaining\n",
      "              precision    recall  f1-score   support\n",
      "\n",
      "           0       1.00      0.95      0.98       417\n",
      "           1       0.00      0.00      0.00         0\n",
      "\n",
      "    accuracy                           0.95       417\n",
      "   macro avg       0.50      0.48      0.49       417\n",
      "weighted avg       1.00      0.95      0.98       417\n",
      "\n",
      "Success rate: 95.44%\n",
      "{'llm_totally_arbitrary_generation': 100.0, 'llm_incomplete': 89.65517241379311, 'llm_false_context': 96.66666666666667, 'llm_open_generation': 98.14814814814815, 'llm_unsubstantiated_content': 93.10344827586206, 'llm_outdated': 96.55172413793103, 'llm_health_generation': 100.0, 'llm_rewritten': 98.14814814814815, 'llm_total_fabrication': 89.65517241379311, 'llm_politics_generation': 100.0, 'llm_paraphrase': 98.14814814814815, 'llm_hallucination': 100.0, 'llm_ambiguity': 79.3103448275862}\n",
      "/Applications/AI/msc_project/predictions/my_llm_fake_politifact_test_predictions_human_and_llm_bert.csv already exists. The DataFrame will not be saved.\n"
     ]
    },
    {
     "name": "stderr",
     "output_type": "stream",
     "text": [
      "/Users/jacobshort/anaconda3/envs/uni_39/lib/python3.9/site-packages/sklearn/metrics/_classification.py:1469: UndefinedMetricWarning: Recall and F-score are ill-defined and being set to 0.0 in labels with no true samples. Use `zero_division` parameter to control this behavior.\n",
      "  _warn_prf(average, modifier, msg_start, len(result))\n",
      "/Users/jacobshort/anaconda3/envs/uni_39/lib/python3.9/site-packages/sklearn/metrics/_classification.py:1469: UndefinedMetricWarning: Recall and F-score are ill-defined and being set to 0.0 in labels with no true samples. Use `zero_division` parameter to control this behavior.\n",
      "  _warn_prf(average, modifier, msg_start, len(result))\n",
      "/Users/jacobshort/anaconda3/envs/uni_39/lib/python3.9/site-packages/sklearn/metrics/_classification.py:1469: UndefinedMetricWarning: Recall and F-score are ill-defined and being set to 0.0 in labels with no true samples. Use `zero_division` parameter to control this behavior.\n",
      "  _warn_prf(average, modifier, msg_start, len(result))\n"
     ]
    }
   ],
   "source": [
    "# Human and LLMFake trained BERT on LLMFake test set\n",
    "# Load & pre-process test data\n",
    "ood_df = pd.read_csv(\"/Applications/AI/msc_project/data/my_llm_fake_politifact_test.csv\")\n",
    "ood_untruncated_seq, ood_seq, ood_mask, ood_y = pre_process_data(ood_df, tokenizer, max_len)\n",
    "\n",
    "# Obtain performance metrics\n",
    "results_df, success_rate, classwise_success_rates, metrics = predictions_and_metrics_classwise(model=model, original_df=ood_df, sequences=ood_seq, masks=ood_mask, labels=ood_y)\n",
    "print(metrics)\n",
    "print(f\"Success rate: {success_rate:.2f}%\")\n",
    "print(classwise_success_rates)\n",
    "\n",
    "results_table_path = '/Applications/AI/msc_project/predictions/my_llm_fake_politifact_test_predictions_human_and_llm_bert.csv'\n",
    "if os.path.exists(results_table_path):\n",
    "    print(f\"{results_table_path} already exists. The DataFrame will not be saved.\")\n",
    "else:\n",
    "    # Save the results_df to the results_table_path\n",
    "    results_df.to_csv(results_table_path, index=False)\n",
    "    print(f\"Results DataFrame saved to {results_table_path}.\")"
   ]
  },
  {
   "cell_type": "markdown",
   "metadata": {},
   "source": [
    "-----------"
   ]
  },
  {
   "cell_type": "markdown",
   "metadata": {},
   "source": [
    "## Resampling (Human BERT)\n",
    "- We train and evaluate BERT on 5 different train and test sets to obtain 5 sets of performance metrics for statistical hypothesis testing"
   ]
  },
  {
   "cell_type": "code",
   "execution_count": 26,
   "metadata": {},
   "outputs": [],
   "source": [
    "# Function to fine-tune multiple models\n",
    "def resample_training_models(model_paths, train_processed_seq_list, train_processed_mask_list, train_processed_y_list, model_init, epochs, batch_size, lr):\n",
    "\n",
    "    for i in range(len(model_paths)):\n",
    "\n",
    "        model_path = model_paths[i]\n",
    "        if os.path.exists(model_path):\n",
    "            print(f\"Model weights already saved at {model_path}. Skipping training.\")\n",
    "            continue\n",
    "\n",
    "        fine_tune(training_sequence=train_processed_seq_list, training_mask=train_processed_mask_list, training_y=train_processed_y_list, epochs=epochs, batch_size=batch_size, lr=lr, model_init=model_init, model_path=model_path)"
   ]
  },
  {
   "cell_type": "code",
   "execution_count": 27,
   "metadata": {},
   "outputs": [],
   "source": [
    "# Function to pre-process multiple datasets\n",
    "def pre_process_multi_datasplits(data_list,tokenizer,max_len):\n",
    "    processed_seq_list=[]\n",
    "    processed_mask_list=[]\n",
    "    processed_y_list=[]\n",
    "    for i in range(len(data_list)):\n",
    "        dataset = pd.read_csv(data_list[i])\n",
    "        _, dataset_seq, dataset_mask, dataset_y = pre_process_data(dataset, tokenizer, max_len)\n",
    "        processed_seq_list.append(dataset_seq)\n",
    "        processed_mask_list.append(dataset_mask)\n",
    "        processed_y_list.append(dataset_y)\n",
    "\n",
    "    return processed_seq_list, processed_mask_list, processed_y_list"
   ]
  },
  {
   "cell_type": "code",
   "execution_count": 28,
   "metadata": {},
   "outputs": [],
   "source": [
    "# Function to obtain performance metrics from multiple models on multiple datasets\n",
    "def obtain_resampled_metrics_lists(models_list, original_df_list, sequences_list, masks_list, labels_list):\n",
    "\n",
    "    success_rate_list=[]\n",
    "    macro_f1_list=[]\n",
    "    for i in range(len(models_list)):\n",
    "        _, success_rate, metrics = predictions_and_metrics_basic(models_list[i],original_df_list[i],sequences_list[i],masks_list[i],labels_list[i])\n",
    "        macro_f1_score = float(re.search(r'^\\s*macro avg\\s+[\\d\\.]+\\s+[\\d\\.]+\\s+([\\d\\.]+)', metrics, re.MULTILINE).group(1))\n",
    "\n",
    "        success_rate_list.append(success_rate)\n",
    "        macro_f1_list.append(macro_f1_score)\n",
    "\n",
    "    return success_rate_list,macro_f1_list\n",
    "\n",
    "# Function to obtain performance metrics from multiple models on multiple datasets\n",
    "# This function also outputs classwise success rates (for different LLMFake categories)\n",
    "def obtain_resampled_metrics_lists_classwise(models_list, original_df_list, sequences_list, masks_list, labels_list):\n",
    "    success_rate_list = []\n",
    "    macro_f1_list = []\n",
    "    all_classwise_success_rates = {}\n",
    "\n",
    "    for i in range(len(models_list)):\n",
    "        _, success_rate, classwise_success_rates, metrics = predictions_and_metrics_classwise(\n",
    "            models_list[i], original_df_list[i], sequences_list[i], masks_list[i], labels_list[i]\n",
    "        )\n",
    "        macro_f1_score = float(re.search(r'^\\s*macro avg\\s+[\\d\\.]+\\s+[\\d\\.]+\\s+([\\d\\.]+)', metrics, re.MULTILINE).group(1))\n",
    "\n",
    "        success_rate_list.append(success_rate)\n",
    "        macro_f1_list.append(macro_f1_score)\n",
    "        \n",
    "        for category, rate in classwise_success_rates.items():\n",
    "            if category not in all_classwise_success_rates:\n",
    "                all_classwise_success_rates[category] = []\n",
    "            all_classwise_success_rates[category].append(rate)\n",
    "\n",
    "    return success_rate_list, macro_f1_list, all_classwise_success_rates"
   ]
  },
  {
   "cell_type": "code",
   "execution_count": 29,
   "metadata": {},
   "outputs": [
    {
     "name": "stderr",
     "output_type": "stream",
     "text": [
      "/Users/jacobshort/anaconda3/envs/uni_39/lib/python3.9/site-packages/transformers/tokenization_utils_base.py:2870: FutureWarning: The `pad_to_max_length` argument is deprecated and will be removed in a future version, use `padding=True` or `padding='longest'` to pad to the longest sequence in the batch, or use `padding='max_length'` to pad to a max length. In this case, you can give a specific length with `max_length` (e.g. `max_length=45`) or leave max_length to None to pad to the maximal input size of the model (e.g. 512 for Bert).\n",
      "  warnings.warn(\n",
      "/Users/jacobshort/anaconda3/envs/uni_39/lib/python3.9/site-packages/transformers/tokenization_utils_base.py:2870: FutureWarning: The `pad_to_max_length` argument is deprecated and will be removed in a future version, use `padding=True` or `padding='longest'` to pad to the longest sequence in the batch, or use `padding='max_length'` to pad to a max length. In this case, you can give a specific length with `max_length` (e.g. `max_length=45`) or leave max_length to None to pad to the maximal input size of the model (e.g. 512 for Bert).\n",
      "  warnings.warn(\n",
      "/Users/jacobshort/anaconda3/envs/uni_39/lib/python3.9/site-packages/transformers/tokenization_utils_base.py:2870: FutureWarning: The `pad_to_max_length` argument is deprecated and will be removed in a future version, use `padding=True` or `padding='longest'` to pad to the longest sequence in the batch, or use `padding='max_length'` to pad to a max length. In this case, you can give a specific length with `max_length` (e.g. `max_length=45`) or leave max_length to None to pad to the maximal input size of the model (e.g. 512 for Bert).\n",
      "  warnings.warn(\n",
      "/Users/jacobshort/anaconda3/envs/uni_39/lib/python3.9/site-packages/transformers/tokenization_utils_base.py:2870: FutureWarning: The `pad_to_max_length` argument is deprecated and will be removed in a future version, use `padding=True` or `padding='longest'` to pad to the longest sequence in the batch, or use `padding='max_length'` to pad to a max length. In this case, you can give a specific length with `max_length` (e.g. `max_length=45`) or leave max_length to None to pad to the maximal input size of the model (e.g. 512 for Bert).\n",
      "  warnings.warn(\n",
      "/Users/jacobshort/anaconda3/envs/uni_39/lib/python3.9/site-packages/transformers/tokenization_utils_base.py:2870: FutureWarning: The `pad_to_max_length` argument is deprecated and will be removed in a future version, use `padding=True` or `padding='longest'` to pad to the longest sequence in the batch, or use `padding='max_length'` to pad to a max length. In this case, you can give a specific length with `max_length` (e.g. `max_length=45`) or leave max_length to None to pad to the maximal input size of the model (e.g. 512 for Bert).\n",
      "  warnings.warn(\n",
      "A parameter name that contains `beta` will be renamed internally to `bias`. Please use a different name to suppress this warning.\n",
      "A parameter name that contains `gamma` will be renamed internally to `weight`. Please use a different name to suppress this warning.\n",
      "A parameter name that contains `beta` will be renamed internally to `bias`. Please use a different name to suppress this warning.\n",
      "A parameter name that contains `gamma` will be renamed internally to `weight`. Please use a different name to suppress this warning.\n",
      "A parameter name that contains `beta` will be renamed internally to `bias`. Please use a different name to suppress this warning.\n",
      "A parameter name that contains `gamma` will be renamed internally to `weight`. Please use a different name to suppress this warning.\n",
      "A parameter name that contains `beta` will be renamed internally to `bias`. Please use a different name to suppress this warning.\n",
      "A parameter name that contains `gamma` will be renamed internally to `weight`. Please use a different name to suppress this warning.\n",
      "A parameter name that contains `beta` will be renamed internally to `bias`. Please use a different name to suppress this warning.\n",
      "A parameter name that contains `gamma` will be renamed internally to `weight`. Please use a different name to suppress this warning.\n",
      "A parameter name that contains `beta` will be renamed internally to `bias`. Please use a different name to suppress this warning.\n",
      "A parameter name that contains `gamma` will be renamed internally to `weight`. Please use a different name to suppress this warning.\n",
      "A parameter name that contains `beta` will be renamed internally to `bias`. Please use a different name to suppress this warning.\n",
      "A parameter name that contains `gamma` will be renamed internally to `weight`. Please use a different name to suppress this warning.\n",
      "A parameter name that contains `beta` will be renamed internally to `bias`. Please use a different name to suppress this warning.\n",
      "A parameter name that contains `gamma` will be renamed internally to `weight`. Please use a different name to suppress this warning.\n",
      "A parameter name that contains `beta` will be renamed internally to `bias`. Please use a different name to suppress this warning.\n",
      "A parameter name that contains `gamma` will be renamed internally to `weight`. Please use a different name to suppress this warning.\n",
      "A parameter name that contains `beta` will be renamed internally to `bias`. Please use a different name to suppress this warning.\n",
      "A parameter name that contains `gamma` will be renamed internally to `weight`. Please use a different name to suppress this warning.\n",
      "A parameter name that contains `beta` will be renamed internally to `bias`. Please use a different name to suppress this warning.\n",
      "A parameter name that contains `gamma` will be renamed internally to `weight`. Please use a different name to suppress this warning.\n",
      "A parameter name that contains `beta` will be renamed internally to `bias`. Please use a different name to suppress this warning.\n",
      "A parameter name that contains `gamma` will be renamed internally to `weight`. Please use a different name to suppress this warning.\n",
      "A parameter name that contains `beta` will be renamed internally to `bias`. Please use a different name to suppress this warning.\n",
      "A parameter name that contains `gamma` will be renamed internally to `weight`. Please use a different name to suppress this warning.\n",
      "A parameter name that contains `beta` will be renamed internally to `bias`. Please use a different name to suppress this warning.\n",
      "A parameter name that contains `gamma` will be renamed internally to `weight`. Please use a different name to suppress this warning.\n",
      "A parameter name that contains `beta` will be renamed internally to `bias`. Please use a different name to suppress this warning.\n",
      "A parameter name that contains `gamma` will be renamed internally to `weight`. Please use a different name to suppress this warning.\n",
      "A parameter name that contains `beta` will be renamed internally to `bias`. Please use a different name to suppress this warning.\n",
      "A parameter name that contains `gamma` will be renamed internally to `weight`. Please use a different name to suppress this warning.\n",
      "A parameter name that contains `beta` will be renamed internally to `bias`. Please use a different name to suppress this warning.\n",
      "A parameter name that contains `gamma` will be renamed internally to `weight`. Please use a different name to suppress this warning.\n",
      "A parameter name that contains `beta` will be renamed internally to `bias`. Please use a different name to suppress this warning.\n",
      "A parameter name that contains `gamma` will be renamed internally to `weight`. Please use a different name to suppress this warning.\n",
      "A parameter name that contains `beta` will be renamed internally to `bias`. Please use a different name to suppress this warning.\n",
      "A parameter name that contains `gamma` will be renamed internally to `weight`. Please use a different name to suppress this warning.\n",
      "A parameter name that contains `beta` will be renamed internally to `bias`. Please use a different name to suppress this warning.\n",
      "A parameter name that contains `gamma` will be renamed internally to `weight`. Please use a different name to suppress this warning.\n",
      "A parameter name that contains `beta` will be renamed internally to `bias`. Please use a different name to suppress this warning.\n",
      "A parameter name that contains `gamma` will be renamed internally to `weight`. Please use a different name to suppress this warning.\n",
      "A parameter name that contains `beta` will be renamed internally to `bias`. Please use a different name to suppress this warning.\n",
      "A parameter name that contains `gamma` will be renamed internally to `weight`. Please use a different name to suppress this warning.\n",
      "A parameter name that contains `beta` will be renamed internally to `bias`. Please use a different name to suppress this warning.\n",
      "A parameter name that contains `gamma` will be renamed internally to `weight`. Please use a different name to suppress this warning.\n",
      "A parameter name that contains `beta` will be renamed internally to `bias`. Please use a different name to suppress this warning.\n",
      "A parameter name that contains `gamma` will be renamed internally to `weight`. Please use a different name to suppress this warning.\n",
      "A parameter name that contains `beta` will be renamed internally to `bias`. Please use a different name to suppress this warning.\n",
      "A parameter name that contains `gamma` will be renamed internally to `weight`. Please use a different name to suppress this warning.\n",
      "A parameter name that contains `beta` will be renamed internally to `bias`. Please use a different name to suppress this warning.\n",
      "A parameter name that contains `gamma` will be renamed internally to `weight`. Please use a different name to suppress this warning.\n"
     ]
    },
    {
     "name": "stdout",
     "output_type": "stream",
     "text": [
      "Model weights already saved at /Applications/AI/msc_project/model_weights/bert_weights_politifact_human_cv1.pt. Skipping training.\n",
      "Model weights already saved at /Applications/AI/msc_project/model_weights/bert_weights_politifact_human_cv2.pt. Skipping training.\n",
      "Model weights already saved at /Applications/AI/msc_project/model_weights/bert_weights_politifact_human_cv3.pt. Skipping training.\n",
      "Model weights already saved at /Applications/AI/msc_project/model_weights/bert_weights_politifact_human_cv4.pt. Skipping training.\n",
      "Model weights already saved at /Applications/AI/msc_project/model_weights/bert_weights_politifact_human_cv5.pt. Skipping training.\n"
     ]
    },
    {
     "name": "stderr",
     "output_type": "stream",
     "text": [
      "A parameter name that contains `beta` will be renamed internally to `bias`. Please use a different name to suppress this warning.\n",
      "A parameter name that contains `gamma` will be renamed internally to `weight`. Please use a different name to suppress this warning.\n",
      "A parameter name that contains `beta` will be renamed internally to `bias`. Please use a different name to suppress this warning.\n",
      "A parameter name that contains `gamma` will be renamed internally to `weight`. Please use a different name to suppress this warning.\n",
      "A parameter name that contains `beta` will be renamed internally to `bias`. Please use a different name to suppress this warning.\n",
      "A parameter name that contains `gamma` will be renamed internally to `weight`. Please use a different name to suppress this warning.\n",
      "A parameter name that contains `beta` will be renamed internally to `bias`. Please use a different name to suppress this warning.\n",
      "A parameter name that contains `gamma` will be renamed internally to `weight`. Please use a different name to suppress this warning.\n",
      "A parameter name that contains `beta` will be renamed internally to `bias`. Please use a different name to suppress this warning.\n",
      "A parameter name that contains `gamma` will be renamed internally to `weight`. Please use a different name to suppress this warning.\n",
      "A parameter name that contains `beta` will be renamed internally to `bias`. Please use a different name to suppress this warning.\n",
      "A parameter name that contains `gamma` will be renamed internally to `weight`. Please use a different name to suppress this warning.\n",
      "A parameter name that contains `beta` will be renamed internally to `bias`. Please use a different name to suppress this warning.\n",
      "A parameter name that contains `gamma` will be renamed internally to `weight`. Please use a different name to suppress this warning.\n",
      "A parameter name that contains `beta` will be renamed internally to `bias`. Please use a different name to suppress this warning.\n",
      "A parameter name that contains `gamma` will be renamed internally to `weight`. Please use a different name to suppress this warning.\n",
      "A parameter name that contains `beta` will be renamed internally to `bias`. Please use a different name to suppress this warning.\n",
      "A parameter name that contains `gamma` will be renamed internally to `weight`. Please use a different name to suppress this warning.\n",
      "A parameter name that contains `beta` will be renamed internally to `bias`. Please use a different name to suppress this warning.\n",
      "A parameter name that contains `gamma` will be renamed internally to `weight`. Please use a different name to suppress this warning.\n",
      "A parameter name that contains `beta` will be renamed internally to `bias`. Please use a different name to suppress this warning.\n",
      "A parameter name that contains `gamma` will be renamed internally to `weight`. Please use a different name to suppress this warning.\n",
      "A parameter name that contains `beta` will be renamed internally to `bias`. Please use a different name to suppress this warning.\n",
      "A parameter name that contains `gamma` will be renamed internally to `weight`. Please use a different name to suppress this warning.\n",
      "A parameter name that contains `beta` will be renamed internally to `bias`. Please use a different name to suppress this warning.\n",
      "A parameter name that contains `gamma` will be renamed internally to `weight`. Please use a different name to suppress this warning.\n",
      "A parameter name that contains `beta` will be renamed internally to `bias`. Please use a different name to suppress this warning.\n",
      "A parameter name that contains `gamma` will be renamed internally to `weight`. Please use a different name to suppress this warning.\n",
      "A parameter name that contains `beta` will be renamed internally to `bias`. Please use a different name to suppress this warning.\n",
      "A parameter name that contains `gamma` will be renamed internally to `weight`. Please use a different name to suppress this warning.\n",
      "A parameter name that contains `beta` will be renamed internally to `bias`. Please use a different name to suppress this warning.\n",
      "A parameter name that contains `gamma` will be renamed internally to `weight`. Please use a different name to suppress this warning.\n",
      "A parameter name that contains `beta` will be renamed internally to `bias`. Please use a different name to suppress this warning.\n",
      "A parameter name that contains `gamma` will be renamed internally to `weight`. Please use a different name to suppress this warning.\n",
      "A parameter name that contains `beta` will be renamed internally to `bias`. Please use a different name to suppress this warning.\n",
      "A parameter name that contains `gamma` will be renamed internally to `weight`. Please use a different name to suppress this warning.\n",
      "A parameter name that contains `beta` will be renamed internally to `bias`. Please use a different name to suppress this warning.\n",
      "A parameter name that contains `gamma` will be renamed internally to `weight`. Please use a different name to suppress this warning.\n",
      "A parameter name that contains `beta` will be renamed internally to `bias`. Please use a different name to suppress this warning.\n",
      "A parameter name that contains `gamma` will be renamed internally to `weight`. Please use a different name to suppress this warning.\n",
      "A parameter name that contains `beta` will be renamed internally to `bias`. Please use a different name to suppress this warning.\n",
      "A parameter name that contains `gamma` will be renamed internally to `weight`. Please use a different name to suppress this warning.\n",
      "A parameter name that contains `beta` will be renamed internally to `bias`. Please use a different name to suppress this warning.\n",
      "A parameter name that contains `gamma` will be renamed internally to `weight`. Please use a different name to suppress this warning.\n",
      "A parameter name that contains `beta` will be renamed internally to `bias`. Please use a different name to suppress this warning.\n",
      "A parameter name that contains `gamma` will be renamed internally to `weight`. Please use a different name to suppress this warning.\n",
      "A parameter name that contains `beta` will be renamed internally to `bias`. Please use a different name to suppress this warning.\n",
      "A parameter name that contains `gamma` will be renamed internally to `weight`. Please use a different name to suppress this warning.\n",
      "A parameter name that contains `beta` will be renamed internally to `bias`. Please use a different name to suppress this warning.\n",
      "A parameter name that contains `gamma` will be renamed internally to `weight`. Please use a different name to suppress this warning.\n",
      "A parameter name that contains `beta` will be renamed internally to `bias`. Please use a different name to suppress this warning.\n",
      "A parameter name that contains `gamma` will be renamed internally to `weight`. Please use a different name to suppress this warning.\n",
      "A parameter name that contains `beta` will be renamed internally to `bias`. Please use a different name to suppress this warning.\n",
      "A parameter name that contains `gamma` will be renamed internally to `weight`. Please use a different name to suppress this warning.\n",
      "A parameter name that contains `beta` will be renamed internally to `bias`. Please use a different name to suppress this warning.\n",
      "A parameter name that contains `gamma` will be renamed internally to `weight`. Please use a different name to suppress this warning.\n",
      "A parameter name that contains `beta` will be renamed internally to `bias`. Please use a different name to suppress this warning.\n",
      "A parameter name that contains `gamma` will be renamed internally to `weight`. Please use a different name to suppress this warning.\n",
      "A parameter name that contains `beta` will be renamed internally to `bias`. Please use a different name to suppress this warning.\n",
      "A parameter name that contains `gamma` will be renamed internally to `weight`. Please use a different name to suppress this warning.\n",
      "A parameter name that contains `beta` will be renamed internally to `bias`. Please use a different name to suppress this warning.\n",
      "A parameter name that contains `gamma` will be renamed internally to `weight`. Please use a different name to suppress this warning.\n",
      "A parameter name that contains `beta` will be renamed internally to `bias`. Please use a different name to suppress this warning.\n",
      "A parameter name that contains `gamma` will be renamed internally to `weight`. Please use a different name to suppress this warning.\n",
      "A parameter name that contains `beta` will be renamed internally to `bias`. Please use a different name to suppress this warning.\n",
      "A parameter name that contains `gamma` will be renamed internally to `weight`. Please use a different name to suppress this warning.\n",
      "A parameter name that contains `beta` will be renamed internally to `bias`. Please use a different name to suppress this warning.\n",
      "A parameter name that contains `gamma` will be renamed internally to `weight`. Please use a different name to suppress this warning.\n",
      "A parameter name that contains `beta` will be renamed internally to `bias`. Please use a different name to suppress this warning.\n",
      "A parameter name that contains `gamma` will be renamed internally to `weight`. Please use a different name to suppress this warning.\n",
      "A parameter name that contains `beta` will be renamed internally to `bias`. Please use a different name to suppress this warning.\n",
      "A parameter name that contains `gamma` will be renamed internally to `weight`. Please use a different name to suppress this warning.\n",
      "A parameter name that contains `beta` will be renamed internally to `bias`. Please use a different name to suppress this warning.\n",
      "A parameter name that contains `gamma` will be renamed internally to `weight`. Please use a different name to suppress this warning.\n",
      "A parameter name that contains `beta` will be renamed internally to `bias`. Please use a different name to suppress this warning.\n",
      "A parameter name that contains `gamma` will be renamed internally to `weight`. Please use a different name to suppress this warning.\n",
      "A parameter name that contains `beta` will be renamed internally to `bias`. Please use a different name to suppress this warning.\n",
      "A parameter name that contains `gamma` will be renamed internally to `weight`. Please use a different name to suppress this warning.\n",
      "A parameter name that contains `beta` will be renamed internally to `bias`. Please use a different name to suppress this warning.\n",
      "A parameter name that contains `gamma` will be renamed internally to `weight`. Please use a different name to suppress this warning.\n",
      "A parameter name that contains `beta` will be renamed internally to `bias`. Please use a different name to suppress this warning.\n",
      "A parameter name that contains `gamma` will be renamed internally to `weight`. Please use a different name to suppress this warning.\n",
      "A parameter name that contains `beta` will be renamed internally to `bias`. Please use a different name to suppress this warning.\n",
      "A parameter name that contains `gamma` will be renamed internally to `weight`. Please use a different name to suppress this warning.\n",
      "A parameter name that contains `beta` will be renamed internally to `bias`. Please use a different name to suppress this warning.\n",
      "A parameter name that contains `gamma` will be renamed internally to `weight`. Please use a different name to suppress this warning.\n",
      "A parameter name that contains `beta` will be renamed internally to `bias`. Please use a different name to suppress this warning.\n",
      "A parameter name that contains `gamma` will be renamed internally to `weight`. Please use a different name to suppress this warning.\n",
      "A parameter name that contains `beta` will be renamed internally to `bias`. Please use a different name to suppress this warning.\n",
      "A parameter name that contains `gamma` will be renamed internally to `weight`. Please use a different name to suppress this warning.\n",
      "A parameter name that contains `beta` will be renamed internally to `bias`. Please use a different name to suppress this warning.\n",
      "A parameter name that contains `gamma` will be renamed internally to `weight`. Please use a different name to suppress this warning.\n",
      "A parameter name that contains `beta` will be renamed internally to `bias`. Please use a different name to suppress this warning.\n",
      "A parameter name that contains `gamma` will be renamed internally to `weight`. Please use a different name to suppress this warning.\n",
      "A parameter name that contains `beta` will be renamed internally to `bias`. Please use a different name to suppress this warning.\n",
      "A parameter name that contains `gamma` will be renamed internally to `weight`. Please use a different name to suppress this warning.\n",
      "A parameter name that contains `beta` will be renamed internally to `bias`. Please use a different name to suppress this warning.\n",
      "A parameter name that contains `gamma` will be renamed internally to `weight`. Please use a different name to suppress this warning.\n",
      "A parameter name that contains `beta` will be renamed internally to `bias`. Please use a different name to suppress this warning.\n",
      "A parameter name that contains `gamma` will be renamed internally to `weight`. Please use a different name to suppress this warning.\n",
      "A parameter name that contains `beta` will be renamed internally to `bias`. Please use a different name to suppress this warning.\n",
      "A parameter name that contains `gamma` will be renamed internally to `weight`. Please use a different name to suppress this warning.\n",
      "A parameter name that contains `beta` will be renamed internally to `bias`. Please use a different name to suppress this warning.\n",
      "A parameter name that contains `gamma` will be renamed internally to `weight`. Please use a different name to suppress this warning.\n",
      "A parameter name that contains `beta` will be renamed internally to `bias`. Please use a different name to suppress this warning.\n",
      "A parameter name that contains `gamma` will be renamed internally to `weight`. Please use a different name to suppress this warning.\n",
      "A parameter name that contains `beta` will be renamed internally to `bias`. Please use a different name to suppress this warning.\n",
      "A parameter name that contains `gamma` will be renamed internally to `weight`. Please use a different name to suppress this warning.\n",
      "A parameter name that contains `beta` will be renamed internally to `bias`. Please use a different name to suppress this warning.\n",
      "A parameter name that contains `gamma` will be renamed internally to `weight`. Please use a different name to suppress this warning.\n",
      "A parameter name that contains `beta` will be renamed internally to `bias`. Please use a different name to suppress this warning.\n",
      "A parameter name that contains `gamma` will be renamed internally to `weight`. Please use a different name to suppress this warning.\n",
      "A parameter name that contains `beta` will be renamed internally to `bias`. Please use a different name to suppress this warning.\n",
      "A parameter name that contains `gamma` will be renamed internally to `weight`. Please use a different name to suppress this warning.\n",
      "A parameter name that contains `beta` will be renamed internally to `bias`. Please use a different name to suppress this warning.\n",
      "A parameter name that contains `gamma` will be renamed internally to `weight`. Please use a different name to suppress this warning.\n",
      "A parameter name that contains `beta` will be renamed internally to `bias`. Please use a different name to suppress this warning.\n",
      "A parameter name that contains `gamma` will be renamed internally to `weight`. Please use a different name to suppress this warning.\n",
      "A parameter name that contains `beta` will be renamed internally to `bias`. Please use a different name to suppress this warning.\n",
      "A parameter name that contains `gamma` will be renamed internally to `weight`. Please use a different name to suppress this warning.\n",
      "A parameter name that contains `beta` will be renamed internally to `bias`. Please use a different name to suppress this warning.\n",
      "A parameter name that contains `gamma` will be renamed internally to `weight`. Please use a different name to suppress this warning.\n",
      "A parameter name that contains `beta` will be renamed internally to `bias`. Please use a different name to suppress this warning.\n",
      "A parameter name that contains `gamma` will be renamed internally to `weight`. Please use a different name to suppress this warning.\n",
      "A parameter name that contains `beta` will be renamed internally to `bias`. Please use a different name to suppress this warning.\n",
      "A parameter name that contains `gamma` will be renamed internally to `weight`. Please use a different name to suppress this warning.\n",
      "A parameter name that contains `beta` will be renamed internally to `bias`. Please use a different name to suppress this warning.\n",
      "A parameter name that contains `gamma` will be renamed internally to `weight`. Please use a different name to suppress this warning.\n",
      "A parameter name that contains `beta` will be renamed internally to `bias`. Please use a different name to suppress this warning.\n",
      "A parameter name that contains `gamma` will be renamed internally to `weight`. Please use a different name to suppress this warning.\n",
      "A parameter name that contains `beta` will be renamed internally to `bias`. Please use a different name to suppress this warning.\n",
      "A parameter name that contains `gamma` will be renamed internally to `weight`. Please use a different name to suppress this warning.\n",
      "A parameter name that contains `beta` will be renamed internally to `bias`. Please use a different name to suppress this warning.\n",
      "A parameter name that contains `gamma` will be renamed internally to `weight`. Please use a different name to suppress this warning.\n",
      "A parameter name that contains `beta` will be renamed internally to `bias`. Please use a different name to suppress this warning.\n",
      "A parameter name that contains `gamma` will be renamed internally to `weight`. Please use a different name to suppress this warning.\n",
      "A parameter name that contains `beta` will be renamed internally to `bias`. Please use a different name to suppress this warning.\n",
      "A parameter name that contains `gamma` will be renamed internally to `weight`. Please use a different name to suppress this warning.\n",
      "A parameter name that contains `beta` will be renamed internally to `bias`. Please use a different name to suppress this warning.\n",
      "A parameter name that contains `gamma` will be renamed internally to `weight`. Please use a different name to suppress this warning.\n",
      "A parameter name that contains `beta` will be renamed internally to `bias`. Please use a different name to suppress this warning.\n",
      "A parameter name that contains `gamma` will be renamed internally to `weight`. Please use a different name to suppress this warning.\n",
      "A parameter name that contains `beta` will be renamed internally to `bias`. Please use a different name to suppress this warning.\n",
      "A parameter name that contains `gamma` will be renamed internally to `weight`. Please use a different name to suppress this warning.\n",
      "A parameter name that contains `beta` will be renamed internally to `bias`. Please use a different name to suppress this warning.\n",
      "A parameter name that contains `gamma` will be renamed internally to `weight`. Please use a different name to suppress this warning.\n",
      "A parameter name that contains `beta` will be renamed internally to `bias`. Please use a different name to suppress this warning.\n",
      "A parameter name that contains `gamma` will be renamed internally to `weight`. Please use a different name to suppress this warning.\n",
      "A parameter name that contains `beta` will be renamed internally to `bias`. Please use a different name to suppress this warning.\n",
      "A parameter name that contains `gamma` will be renamed internally to `weight`. Please use a different name to suppress this warning.\n",
      "A parameter name that contains `beta` will be renamed internally to `bias`. Please use a different name to suppress this warning.\n",
      "A parameter name that contains `gamma` will be renamed internally to `weight`. Please use a different name to suppress this warning.\n",
      "A parameter name that contains `beta` will be renamed internally to `bias`. Please use a different name to suppress this warning.\n",
      "A parameter name that contains `gamma` will be renamed internally to `weight`. Please use a different name to suppress this warning.\n",
      "A parameter name that contains `beta` will be renamed internally to `bias`. Please use a different name to suppress this warning.\n",
      "A parameter name that contains `gamma` will be renamed internally to `weight`. Please use a different name to suppress this warning.\n",
      "A parameter name that contains `beta` will be renamed internally to `bias`. Please use a different name to suppress this warning.\n",
      "A parameter name that contains `gamma` will be renamed internally to `weight`. Please use a different name to suppress this warning.\n",
      "A parameter name that contains `beta` will be renamed internally to `bias`. Please use a different name to suppress this warning.\n",
      "A parameter name that contains `gamma` will be renamed internally to `weight`. Please use a different name to suppress this warning.\n",
      "A parameter name that contains `beta` will be renamed internally to `bias`. Please use a different name to suppress this warning.\n",
      "A parameter name that contains `gamma` will be renamed internally to `weight`. Please use a different name to suppress this warning.\n",
      "A parameter name that contains `beta` will be renamed internally to `bias`. Please use a different name to suppress this warning.\n",
      "A parameter name that contains `gamma` will be renamed internally to `weight`. Please use a different name to suppress this warning.\n",
      "A parameter name that contains `beta` will be renamed internally to `bias`. Please use a different name to suppress this warning.\n",
      "A parameter name that contains `gamma` will be renamed internally to `weight`. Please use a different name to suppress this warning.\n",
      "A parameter name that contains `beta` will be renamed internally to `bias`. Please use a different name to suppress this warning.\n",
      "A parameter name that contains `gamma` will be renamed internally to `weight`. Please use a different name to suppress this warning.\n",
      "A parameter name that contains `beta` will be renamed internally to `bias`. Please use a different name to suppress this warning.\n",
      "A parameter name that contains `gamma` will be renamed internally to `weight`. Please use a different name to suppress this warning.\n",
      "A parameter name that contains `beta` will be renamed internally to `bias`. Please use a different name to suppress this warning.\n",
      "A parameter name that contains `gamma` will be renamed internally to `weight`. Please use a different name to suppress this warning.\n",
      "A parameter name that contains `beta` will be renamed internally to `bias`. Please use a different name to suppress this warning.\n",
      "A parameter name that contains `gamma` will be renamed internally to `weight`. Please use a different name to suppress this warning.\n",
      "A parameter name that contains `beta` will be renamed internally to `bias`. Please use a different name to suppress this warning.\n",
      "A parameter name that contains `gamma` will be renamed internally to `weight`. Please use a different name to suppress this warning.\n",
      "A parameter name that contains `beta` will be renamed internally to `bias`. Please use a different name to suppress this warning.\n",
      "A parameter name that contains `gamma` will be renamed internally to `weight`. Please use a different name to suppress this warning.\n",
      "A parameter name that contains `beta` will be renamed internally to `bias`. Please use a different name to suppress this warning.\n",
      "A parameter name that contains `gamma` will be renamed internally to `weight`. Please use a different name to suppress this warning.\n",
      "A parameter name that contains `beta` will be renamed internally to `bias`. Please use a different name to suppress this warning.\n",
      "A parameter name that contains `gamma` will be renamed internally to `weight`. Please use a different name to suppress this warning.\n",
      "A parameter name that contains `beta` will be renamed internally to `bias`. Please use a different name to suppress this warning.\n",
      "A parameter name that contains `gamma` will be renamed internally to `weight`. Please use a different name to suppress this warning.\n",
      "A parameter name that contains `beta` will be renamed internally to `bias`. Please use a different name to suppress this warning.\n",
      "A parameter name that contains `gamma` will be renamed internally to `weight`. Please use a different name to suppress this warning.\n",
      "A parameter name that contains `beta` will be renamed internally to `bias`. Please use a different name to suppress this warning.\n",
      "A parameter name that contains `gamma` will be renamed internally to `weight`. Please use a different name to suppress this warning.\n",
      "A parameter name that contains `beta` will be renamed internally to `bias`. Please use a different name to suppress this warning.\n",
      "A parameter name that contains `gamma` will be renamed internally to `weight`. Please use a different name to suppress this warning.\n",
      "A parameter name that contains `beta` will be renamed internally to `bias`. Please use a different name to suppress this warning.\n",
      "A parameter name that contains `gamma` will be renamed internally to `weight`. Please use a different name to suppress this warning.\n",
      "A parameter name that contains `beta` will be renamed internally to `bias`. Please use a different name to suppress this warning.\n",
      "A parameter name that contains `gamma` will be renamed internally to `weight`. Please use a different name to suppress this warning.\n",
      "A parameter name that contains `beta` will be renamed internally to `bias`. Please use a different name to suppress this warning.\n",
      "A parameter name that contains `gamma` will be renamed internally to `weight`. Please use a different name to suppress this warning.\n",
      "A parameter name that contains `beta` will be renamed internally to `bias`. Please use a different name to suppress this warning.\n",
      "A parameter name that contains `gamma` will be renamed internally to `weight`. Please use a different name to suppress this warning.\n",
      "A parameter name that contains `beta` will be renamed internally to `bias`. Please use a different name to suppress this warning.\n",
      "A parameter name that contains `gamma` will be renamed internally to `weight`. Please use a different name to suppress this warning.\n",
      "A parameter name that contains `beta` will be renamed internally to `bias`. Please use a different name to suppress this warning.\n",
      "A parameter name that contains `gamma` will be renamed internally to `weight`. Please use a different name to suppress this warning.\n",
      "A parameter name that contains `beta` will be renamed internally to `bias`. Please use a different name to suppress this warning.\n",
      "A parameter name that contains `gamma` will be renamed internally to `weight`. Please use a different name to suppress this warning.\n",
      "A parameter name that contains `beta` will be renamed internally to `bias`. Please use a different name to suppress this warning.\n",
      "A parameter name that contains `gamma` will be renamed internally to `weight`. Please use a different name to suppress this warning.\n",
      "A parameter name that contains `beta` will be renamed internally to `bias`. Please use a different name to suppress this warning.\n",
      "A parameter name that contains `gamma` will be renamed internally to `weight`. Please use a different name to suppress this warning.\n"
     ]
    }
   ],
   "source": [
    "# Define model weight file paths\n",
    "model_path_1 = \"/Applications/AI/msc_project/model_weights/bert_weights_politifact_human_cv1.pt\"\n",
    "model_path_2 = \"/Applications/AI/msc_project/model_weights/bert_weights_politifact_human_cv2.pt\"\n",
    "model_path_3 = \"/Applications/AI/msc_project/model_weights/bert_weights_politifact_human_cv3.pt\"\n",
    "model_path_4 = \"/Applications/AI/msc_project/model_weights/bert_weights_politifact_human_cv4.pt\"\n",
    "model_path_5 = \"/Applications/AI/msc_project/model_weights/bert_weights_politifact_human_cv5.pt\"\n",
    "model_paths = [model_path_1, model_path_2, model_path_3, model_path_4, model_path_5]\n",
    "\n",
    "# RUN THIS CODE TO RERUN RESAMPLED FINE-TUNING EVALUATION\n",
    "'''\n",
    "os.remove(model_path_1)\n",
    "os.remove(model_path_2)\n",
    "os.remove(model_path_3)\n",
    "os.remove(model_path_4)\n",
    "os.remove(model_path_5)\n",
    "'''\n",
    "\n",
    "# Load & pre-process training data\n",
    "train_path_1 = \"/Applications/AI/msc_project/data/my_human_politifact_train_split_1.csv\"\n",
    "train_path_2 = \"/Applications/AI/msc_project/data/my_human_politifact_train_split_2.csv\"\n",
    "train_path_3 = \"/Applications/AI/msc_project/data/my_human_politifact_train_split_3.csv\"\n",
    "train_path_4 = \"/Applications/AI/msc_project/data/my_human_politifact_train_split_4.csv\"\n",
    "train_path_5 = \"/Applications/AI/msc_project/data/my_human_politifact_train_split_5.csv\"\n",
    "train_splits = [train_path_1, train_path_2, train_path_3, train_path_4, train_path_5]\n",
    "train_processed_seq_list, train_processed_mask_list, train_processed_y_list = pre_process_multi_datasplits(data_list=train_splits, tokenizer=tokenizer, max_len=max_len)\n",
    "\n",
    "# Define best hyperparameters as chosen by previous hyperparameter selection grid search on initial exploration\n",
    "best_lr = 5e-5\n",
    "best_batch_size = 16\n",
    "best_epochs = 2\n",
    "best_model_init = \"unfrozen\"\n",
    "\n",
    "# Fine-tune models\n",
    "resample_training_models(model_paths=model_paths, train_processed_seq_list=train_processed_seq_list, train_processed_mask_list=train_processed_mask_list, train_processed_y_list=train_processed_y_list, model_init=best_model_init, epochs=best_epochs, batch_size=best_batch_size, lr=best_lr)\n",
    "\n",
    "# Initialize and load these models\n",
    "model_1 = initialise_bert_model_unfrozen()\n",
    "model_1.load_state_dict(torch.load(model_path_1), strict=False)\n",
    "model_2 = initialise_bert_model_unfrozen()\n",
    "model_2.load_state_dict(torch.load(model_path_2), strict=False)\n",
    "model_3 = initialise_bert_model_unfrozen()\n",
    "model_3.load_state_dict(torch.load(model_path_3), strict=False)\n",
    "model_4 = initialise_bert_model_unfrozen()\n",
    "model_4.load_state_dict(torch.load(model_path_4), strict=False)\n",
    "model_5 = initialise_bert_model_unfrozen()\n",
    "model_5.load_state_dict(torch.load(model_path_5), strict=False)\n",
    "models_list = [model_1, model_2, model_3, model_4, model_5]"
   ]
  },
  {
   "cell_type": "code",
   "execution_count": 30,
   "metadata": {},
   "outputs": [
    {
     "name": "stderr",
     "output_type": "stream",
     "text": [
      "/Users/jacobshort/anaconda3/envs/uni_39/lib/python3.9/site-packages/transformers/tokenization_utils_base.py:2870: FutureWarning: The `pad_to_max_length` argument is deprecated and will be removed in a future version, use `padding=True` or `padding='longest'` to pad to the longest sequence in the batch, or use `padding='max_length'` to pad to a max length. In this case, you can give a specific length with `max_length` (e.g. `max_length=45`) or leave max_length to None to pad to the maximal input size of the model (e.g. 512 for Bert).\n",
      "  warnings.warn(\n",
      "/Users/jacobshort/anaconda3/envs/uni_39/lib/python3.9/site-packages/transformers/tokenization_utils_base.py:2870: FutureWarning: The `pad_to_max_length` argument is deprecated and will be removed in a future version, use `padding=True` or `padding='longest'` to pad to the longest sequence in the batch, or use `padding='max_length'` to pad to a max length. In this case, you can give a specific length with `max_length` (e.g. `max_length=45`) or leave max_length to None to pad to the maximal input size of the model (e.g. 512 for Bert).\n",
      "  warnings.warn(\n",
      "/Users/jacobshort/anaconda3/envs/uni_39/lib/python3.9/site-packages/transformers/tokenization_utils_base.py:2870: FutureWarning: The `pad_to_max_length` argument is deprecated and will be removed in a future version, use `padding=True` or `padding='longest'` to pad to the longest sequence in the batch, or use `padding='max_length'` to pad to a max length. In this case, you can give a specific length with `max_length` (e.g. `max_length=45`) or leave max_length to None to pad to the maximal input size of the model (e.g. 512 for Bert).\n",
      "  warnings.warn(\n",
      "/Users/jacobshort/anaconda3/envs/uni_39/lib/python3.9/site-packages/transformers/tokenization_utils_base.py:2870: FutureWarning: The `pad_to_max_length` argument is deprecated and will be removed in a future version, use `padding=True` or `padding='longest'` to pad to the longest sequence in the batch, or use `padding='max_length'` to pad to a max length. In this case, you can give a specific length with `max_length` (e.g. `max_length=45`) or leave max_length to None to pad to the maximal input size of the model (e.g. 512 for Bert).\n",
      "  warnings.warn(\n",
      "/Users/jacobshort/anaconda3/envs/uni_39/lib/python3.9/site-packages/transformers/tokenization_utils_base.py:2870: FutureWarning: The `pad_to_max_length` argument is deprecated and will be removed in a future version, use `padding=True` or `padding='longest'` to pad to the longest sequence in the batch, or use `padding='max_length'` to pad to a max length. In this case, you can give a specific length with `max_length` (e.g. `max_length=45`) or leave max_length to None to pad to the maximal input size of the model (e.g. 512 for Bert).\n",
      "  warnings.warn(\n"
     ]
    },
    {
     "name": "stdout",
     "output_type": "stream",
     "text": [
      "Total batches to process: 6\n",
      "Total batches to process: 6\n",
      "Total batches to process: 6\n",
      "Total batches to process: 6\n",
      "Total batches to process: 6\n",
      "[91.8918918918919, 88.75, 80.0, 94.20289855072464, 72.97297297297297]\n",
      "[0.88, 0.9, 0.88, 0.83, 0.87]\n"
     ]
    }
   ],
   "source": [
    "# [RESAMPLING] Human trained BERT on human test set\n",
    "test_path_1 = \"/Applications/AI/msc_project/data/my_human_politifact_test_split_1.csv\"\n",
    "test_path_2 = \"/Applications/AI/msc_project/data/my_human_politifact_test_split_2.csv\"\n",
    "test_path_3 = \"/Applications/AI/msc_project/data/my_human_politifact_test_split_3.csv\"\n",
    "test_path_4 = \"/Applications/AI/msc_project/data/my_human_politifact_test_split_4.csv\"\n",
    "test_path_5 = \"/Applications/AI/msc_project/data/my_human_politifact_test_split_5.csv\"\n",
    "test_splits = [test_path_1, test_path_2, test_path_3, test_path_4, test_path_5]\n",
    "test_processed_seq_list, test_processed_mask_list, test_processed_y_list = pre_process_multi_datasplits(data_list=test_splits, tokenizer=tokenizer, max_len=max_len)\n",
    "\n",
    "original_df_1 = pd.read_csv(test_path_1)\n",
    "original_df_2 = pd.read_csv(test_path_2)\n",
    "original_df_3 = pd.read_csv(test_path_3)\n",
    "original_df_4 = pd.read_csv(test_path_4)\n",
    "original_df_5 = pd.read_csv(test_path_5)\n",
    "original_df_list = [original_df_1, original_df_2, original_df_3, original_df_4, original_df_5]\n",
    "\n",
    "success_rate_list, macro_f1_list = obtain_resampled_metrics_lists(models_list, original_df_list=original_df_list, sequences_list=test_processed_seq_list, masks_list=test_processed_mask_list, labels_list=test_processed_y_list)\n",
    "print(success_rate_list)\n",
    "print(macro_f1_list)"
   ]
  },
  {
   "cell_type": "code",
   "execution_count": 32,
   "metadata": {},
   "outputs": [
    {
     "name": "stderr",
     "output_type": "stream",
     "text": [
      "/Users/jacobshort/anaconda3/envs/uni_39/lib/python3.9/site-packages/transformers/tokenization_utils_base.py:2870: FutureWarning: The `pad_to_max_length` argument is deprecated and will be removed in a future version, use `padding=True` or `padding='longest'` to pad to the longest sequence in the batch, or use `padding='max_length'` to pad to a max length. In this case, you can give a specific length with `max_length` (e.g. `max_length=45`) or leave max_length to None to pad to the maximal input size of the model (e.g. 512 for Bert).\n",
      "  warnings.warn(\n",
      "/Users/jacobshort/anaconda3/envs/uni_39/lib/python3.9/site-packages/transformers/tokenization_utils_base.py:2870: FutureWarning: The `pad_to_max_length` argument is deprecated and will be removed in a future version, use `padding=True` or `padding='longest'` to pad to the longest sequence in the batch, or use `padding='max_length'` to pad to a max length. In this case, you can give a specific length with `max_length` (e.g. `max_length=45`) or leave max_length to None to pad to the maximal input size of the model (e.g. 512 for Bert).\n",
      "  warnings.warn(\n",
      "/Users/jacobshort/anaconda3/envs/uni_39/lib/python3.9/site-packages/transformers/tokenization_utils_base.py:2870: FutureWarning: The `pad_to_max_length` argument is deprecated and will be removed in a future version, use `padding=True` or `padding='longest'` to pad to the longest sequence in the batch, or use `padding='max_length'` to pad to a max length. In this case, you can give a specific length with `max_length` (e.g. `max_length=45`) or leave max_length to None to pad to the maximal input size of the model (e.g. 512 for Bert).\n",
      "  warnings.warn(\n",
      "/Users/jacobshort/anaconda3/envs/uni_39/lib/python3.9/site-packages/transformers/tokenization_utils_base.py:2870: FutureWarning: The `pad_to_max_length` argument is deprecated and will be removed in a future version, use `padding=True` or `padding='longest'` to pad to the longest sequence in the batch, or use `padding='max_length'` to pad to a max length. In this case, you can give a specific length with `max_length` (e.g. `max_length=45`) or leave max_length to None to pad to the maximal input size of the model (e.g. 512 for Bert).\n",
      "  warnings.warn(\n",
      "/Users/jacobshort/anaconda3/envs/uni_39/lib/python3.9/site-packages/transformers/tokenization_utils_base.py:2870: FutureWarning: The `pad_to_max_length` argument is deprecated and will be removed in a future version, use `padding=True` or `padding='longest'` to pad to the longest sequence in the batch, or use `padding='max_length'` to pad to a max length. In this case, you can give a specific length with `max_length` (e.g. `max_length=45`) or leave max_length to None to pad to the maximal input size of the model (e.g. 512 for Bert).\n",
      "  warnings.warn(\n"
     ]
    },
    {
     "name": "stdout",
     "output_type": "stream",
     "text": [
      "Total batches to process: 13\n",
      "Processed 10 batches, 3 batches remaining\n"
     ]
    },
    {
     "name": "stderr",
     "output_type": "stream",
     "text": [
      "/Users/jacobshort/anaconda3/envs/uni_39/lib/python3.9/site-packages/sklearn/metrics/_classification.py:1469: UndefinedMetricWarning: Recall and F-score are ill-defined and being set to 0.0 in labels with no true samples. Use `zero_division` parameter to control this behavior.\n",
      "  _warn_prf(average, modifier, msg_start, len(result))\n",
      "/Users/jacobshort/anaconda3/envs/uni_39/lib/python3.9/site-packages/sklearn/metrics/_classification.py:1469: UndefinedMetricWarning: Recall and F-score are ill-defined and being set to 0.0 in labels with no true samples. Use `zero_division` parameter to control this behavior.\n",
      "  _warn_prf(average, modifier, msg_start, len(result))\n",
      "/Users/jacobshort/anaconda3/envs/uni_39/lib/python3.9/site-packages/sklearn/metrics/_classification.py:1469: UndefinedMetricWarning: Recall and F-score are ill-defined and being set to 0.0 in labels with no true samples. Use `zero_division` parameter to control this behavior.\n",
      "  _warn_prf(average, modifier, msg_start, len(result))\n"
     ]
    },
    {
     "name": "stdout",
     "output_type": "stream",
     "text": [
      "Total batches to process: 13\n",
      "Processed 10 batches, 3 batches remaining\n"
     ]
    },
    {
     "name": "stderr",
     "output_type": "stream",
     "text": [
      "/Users/jacobshort/anaconda3/envs/uni_39/lib/python3.9/site-packages/sklearn/metrics/_classification.py:1469: UndefinedMetricWarning: Recall and F-score are ill-defined and being set to 0.0 in labels with no true samples. Use `zero_division` parameter to control this behavior.\n",
      "  _warn_prf(average, modifier, msg_start, len(result))\n",
      "/Users/jacobshort/anaconda3/envs/uni_39/lib/python3.9/site-packages/sklearn/metrics/_classification.py:1469: UndefinedMetricWarning: Recall and F-score are ill-defined and being set to 0.0 in labels with no true samples. Use `zero_division` parameter to control this behavior.\n",
      "  _warn_prf(average, modifier, msg_start, len(result))\n",
      "/Users/jacobshort/anaconda3/envs/uni_39/lib/python3.9/site-packages/sklearn/metrics/_classification.py:1469: UndefinedMetricWarning: Recall and F-score are ill-defined and being set to 0.0 in labels with no true samples. Use `zero_division` parameter to control this behavior.\n",
      "  _warn_prf(average, modifier, msg_start, len(result))\n"
     ]
    },
    {
     "name": "stdout",
     "output_type": "stream",
     "text": [
      "Total batches to process: 13\n",
      "Processed 10 batches, 3 batches remaining\n"
     ]
    },
    {
     "name": "stderr",
     "output_type": "stream",
     "text": [
      "/Users/jacobshort/anaconda3/envs/uni_39/lib/python3.9/site-packages/sklearn/metrics/_classification.py:1469: UndefinedMetricWarning: Recall and F-score are ill-defined and being set to 0.0 in labels with no true samples. Use `zero_division` parameter to control this behavior.\n",
      "  _warn_prf(average, modifier, msg_start, len(result))\n",
      "/Users/jacobshort/anaconda3/envs/uni_39/lib/python3.9/site-packages/sklearn/metrics/_classification.py:1469: UndefinedMetricWarning: Recall and F-score are ill-defined and being set to 0.0 in labels with no true samples. Use `zero_division` parameter to control this behavior.\n",
      "  _warn_prf(average, modifier, msg_start, len(result))\n",
      "/Users/jacobshort/anaconda3/envs/uni_39/lib/python3.9/site-packages/sklearn/metrics/_classification.py:1469: UndefinedMetricWarning: Recall and F-score are ill-defined and being set to 0.0 in labels with no true samples. Use `zero_division` parameter to control this behavior.\n",
      "  _warn_prf(average, modifier, msg_start, len(result))\n"
     ]
    },
    {
     "name": "stdout",
     "output_type": "stream",
     "text": [
      "Total batches to process: 13\n",
      "Processed 10 batches, 3 batches remaining\n"
     ]
    },
    {
     "name": "stderr",
     "output_type": "stream",
     "text": [
      "/Users/jacobshort/anaconda3/envs/uni_39/lib/python3.9/site-packages/sklearn/metrics/_classification.py:1469: UndefinedMetricWarning: Recall and F-score are ill-defined and being set to 0.0 in labels with no true samples. Use `zero_division` parameter to control this behavior.\n",
      "  _warn_prf(average, modifier, msg_start, len(result))\n",
      "/Users/jacobshort/anaconda3/envs/uni_39/lib/python3.9/site-packages/sklearn/metrics/_classification.py:1469: UndefinedMetricWarning: Recall and F-score are ill-defined and being set to 0.0 in labels with no true samples. Use `zero_division` parameter to control this behavior.\n",
      "  _warn_prf(average, modifier, msg_start, len(result))\n",
      "/Users/jacobshort/anaconda3/envs/uni_39/lib/python3.9/site-packages/sklearn/metrics/_classification.py:1469: UndefinedMetricWarning: Recall and F-score are ill-defined and being set to 0.0 in labels with no true samples. Use `zero_division` parameter to control this behavior.\n",
      "  _warn_prf(average, modifier, msg_start, len(result))\n"
     ]
    },
    {
     "name": "stdout",
     "output_type": "stream",
     "text": [
      "Total batches to process: 13\n",
      "Processed 10 batches, 3 batches remaining\n",
      "[72.59615384615384, 64.42307692307693, 50.0, 78.36538461538461, 55.52884615384615]\n",
      "{'llm_false_context': [34.48275862068966, 31.03448275862069, 24.137931034482758, 68.96551724137932, 31.03448275862069], 'llm_unsubstantiated_content': [44.827586206896555, 37.93103448275862, 27.586206896551722, 62.06896551724138, 41.37931034482759], 'llm_total_fabrication': [62.06896551724138, 44.827586206896555, 27.586206896551722, 68.96551724137932, 48.275862068965516], 'llm_incomplete': [41.37931034482759, 31.03448275862069, 20.689655172413794, 37.93103448275862, 17.24137931034483], 'llm_ambiguity': [34.48275862068966, 34.48275862068966, 13.793103448275861, 41.37931034482759, 41.37931034482759], 'llm_totally_arbitrary_generation': [100.0, 90.0, 95.0, 100.0, 95.0], 'llm_open_generation': [94.44444444444444, 90.74074074074075, 79.62962962962963, 100.0, 62.96296296296296], 'llm_paraphrase': [96.29629629629629, 90.74074074074075, 66.66666666666666, 100.0, 94.44444444444444], 'llm_outdated': [48.275862068965516, 17.24137931034483, 24.137931034482758, 27.586206896551722, 13.793103448275861], 'llm_rewritten': [94.44444444444444, 87.03703703703704, 68.51851851851852, 96.29629629629629, 75.92592592592592], 'llm_hallucination': [55.00000000000001, 40.0, 0.0, 85.0, 0.0], 'llm_health_generation': [100.0, 100.0, 65.0, 100.0, 50.0], 'llm_politics_generation': [100.0, 100.0, 100.0, 100.0, 100.0]}\n"
     ]
    },
    {
     "name": "stderr",
     "output_type": "stream",
     "text": [
      "/Users/jacobshort/anaconda3/envs/uni_39/lib/python3.9/site-packages/sklearn/metrics/_classification.py:1469: UndefinedMetricWarning: Recall and F-score are ill-defined and being set to 0.0 in labels with no true samples. Use `zero_division` parameter to control this behavior.\n",
      "  _warn_prf(average, modifier, msg_start, len(result))\n",
      "/Users/jacobshort/anaconda3/envs/uni_39/lib/python3.9/site-packages/sklearn/metrics/_classification.py:1469: UndefinedMetricWarning: Recall and F-score are ill-defined and being set to 0.0 in labels with no true samples. Use `zero_division` parameter to control this behavior.\n",
      "  _warn_prf(average, modifier, msg_start, len(result))\n",
      "/Users/jacobshort/anaconda3/envs/uni_39/lib/python3.9/site-packages/sklearn/metrics/_classification.py:1469: UndefinedMetricWarning: Recall and F-score are ill-defined and being set to 0.0 in labels with no true samples. Use `zero_division` parameter to control this behavior.\n",
      "  _warn_prf(average, modifier, msg_start, len(result))\n"
     ]
    }
   ],
   "source": [
    "# [RESAMPLED] Human trained BERT on LLMFake test set\n",
    "# Note: macro F1 here doesn't make sense\n",
    "test_path_1 = \"/Applications/AI/msc_project/data/my_llm_fake_politifact_test_split_1.csv\"\n",
    "test_path_2 = \"/Applications/AI/msc_project/data/my_llm_fake_politifact_test_split_2.csv\"\n",
    "test_path_3 = \"/Applications/AI/msc_project/data/my_llm_fake_politifact_test_split_3.csv\"\n",
    "test_path_4 = \"/Applications/AI/msc_project/data/my_llm_fake_politifact_test_split_4.csv\"\n",
    "test_path_5 = \"/Applications/AI/msc_project/data/my_llm_fake_politifact_test_split_5.csv\"\n",
    "test_splits = [test_path_1, test_path_2, test_path_3, test_path_4, test_path_5]\n",
    "test_processed_seq_list, test_processed_mask_list, test_processed_y_list = pre_process_multi_datasplits(data_list=test_splits, tokenizer=tokenizer, max_len=max_len)\n",
    "\n",
    "original_df_1 = pd.read_csv(test_path_1)\n",
    "original_df_2 = pd.read_csv(test_path_2)\n",
    "original_df_3 = pd.read_csv(test_path_3)\n",
    "original_df_4 = pd.read_csv(test_path_4)\n",
    "original_df_5 = pd.read_csv(test_path_5)\n",
    "original_df_list = [original_df_1, original_df_2, original_df_3, original_df_4, original_df_5]\n",
    "\n",
    "success_rate_list, _, classwise_success_rates = obtain_resampled_metrics_lists_classwise(models_list, original_df_list=original_df_list, sequences_list=test_processed_seq_list, masks_list=test_processed_mask_list, labels_list=test_processed_y_list)\n",
    "print(success_rate_list)\n",
    "print(classwise_success_rates)"
   ]
  },
  {
   "cell_type": "markdown",
   "metadata": {},
   "source": [
    "## Resampling (Human & LLMFake BERT)"
   ]
  },
  {
   "cell_type": "code",
   "execution_count": 33,
   "metadata": {},
   "outputs": [
    {
     "name": "stderr",
     "output_type": "stream",
     "text": [
      "/Users/jacobshort/anaconda3/envs/uni_39/lib/python3.9/site-packages/transformers/tokenization_utils_base.py:2870: FutureWarning: The `pad_to_max_length` argument is deprecated and will be removed in a future version, use `padding=True` or `padding='longest'` to pad to the longest sequence in the batch, or use `padding='max_length'` to pad to a max length. In this case, you can give a specific length with `max_length` (e.g. `max_length=45`) or leave max_length to None to pad to the maximal input size of the model (e.g. 512 for Bert).\n",
      "  warnings.warn(\n",
      "/Users/jacobshort/anaconda3/envs/uni_39/lib/python3.9/site-packages/transformers/tokenization_utils_base.py:2870: FutureWarning: The `pad_to_max_length` argument is deprecated and will be removed in a future version, use `padding=True` or `padding='longest'` to pad to the longest sequence in the batch, or use `padding='max_length'` to pad to a max length. In this case, you can give a specific length with `max_length` (e.g. `max_length=45`) or leave max_length to None to pad to the maximal input size of the model (e.g. 512 for Bert).\n",
      "  warnings.warn(\n",
      "/Users/jacobshort/anaconda3/envs/uni_39/lib/python3.9/site-packages/transformers/tokenization_utils_base.py:2870: FutureWarning: The `pad_to_max_length` argument is deprecated and will be removed in a future version, use `padding=True` or `padding='longest'` to pad to the longest sequence in the batch, or use `padding='max_length'` to pad to a max length. In this case, you can give a specific length with `max_length` (e.g. `max_length=45`) or leave max_length to None to pad to the maximal input size of the model (e.g. 512 for Bert).\n",
      "  warnings.warn(\n",
      "/Users/jacobshort/anaconda3/envs/uni_39/lib/python3.9/site-packages/transformers/tokenization_utils_base.py:2870: FutureWarning: The `pad_to_max_length` argument is deprecated and will be removed in a future version, use `padding=True` or `padding='longest'` to pad to the longest sequence in the batch, or use `padding='max_length'` to pad to a max length. In this case, you can give a specific length with `max_length` (e.g. `max_length=45`) or leave max_length to None to pad to the maximal input size of the model (e.g. 512 for Bert).\n",
      "  warnings.warn(\n",
      "/Users/jacobshort/anaconda3/envs/uni_39/lib/python3.9/site-packages/transformers/tokenization_utils_base.py:2870: FutureWarning: The `pad_to_max_length` argument is deprecated and will be removed in a future version, use `padding=True` or `padding='longest'` to pad to the longest sequence in the batch, or use `padding='max_length'` to pad to a max length. In this case, you can give a specific length with `max_length` (e.g. `max_length=45`) or leave max_length to None to pad to the maximal input size of the model (e.g. 512 for Bert).\n",
      "  warnings.warn(\n",
      "/Users/jacobshort/anaconda3/envs/uni_39/lib/python3.9/site-packages/transformers/tokenization_utils_base.py:2870: FutureWarning: The `pad_to_max_length` argument is deprecated and will be removed in a future version, use `padding=True` or `padding='longest'` to pad to the longest sequence in the batch, or use `padding='max_length'` to pad to a max length. In this case, you can give a specific length with `max_length` (e.g. `max_length=45`) or leave max_length to None to pad to the maximal input size of the model (e.g. 512 for Bert).\n",
      "  warnings.warn(\n",
      "/Users/jacobshort/anaconda3/envs/uni_39/lib/python3.9/site-packages/transformers/tokenization_utils_base.py:2870: FutureWarning: The `pad_to_max_length` argument is deprecated and will be removed in a future version, use `padding=True` or `padding='longest'` to pad to the longest sequence in the batch, or use `padding='max_length'` to pad to a max length. In this case, you can give a specific length with `max_length` (e.g. `max_length=45`) or leave max_length to None to pad to the maximal input size of the model (e.g. 512 for Bert).\n",
      "  warnings.warn(\n",
      "/Users/jacobshort/anaconda3/envs/uni_39/lib/python3.9/site-packages/transformers/tokenization_utils_base.py:2870: FutureWarning: The `pad_to_max_length` argument is deprecated and will be removed in a future version, use `padding=True` or `padding='longest'` to pad to the longest sequence in the batch, or use `padding='max_length'` to pad to a max length. In this case, you can give a specific length with `max_length` (e.g. `max_length=45`) or leave max_length to None to pad to the maximal input size of the model (e.g. 512 for Bert).\n",
      "  warnings.warn(\n",
      "/Users/jacobshort/anaconda3/envs/uni_39/lib/python3.9/site-packages/transformers/tokenization_utils_base.py:2870: FutureWarning: The `pad_to_max_length` argument is deprecated and will be removed in a future version, use `padding=True` or `padding='longest'` to pad to the longest sequence in the batch, or use `padding='max_length'` to pad to a max length. In this case, you can give a specific length with `max_length` (e.g. `max_length=45`) or leave max_length to None to pad to the maximal input size of the model (e.g. 512 for Bert).\n",
      "  warnings.warn(\n",
      "/Users/jacobshort/anaconda3/envs/uni_39/lib/python3.9/site-packages/transformers/tokenization_utils_base.py:2870: FutureWarning: The `pad_to_max_length` argument is deprecated and will be removed in a future version, use `padding=True` or `padding='longest'` to pad to the longest sequence in the batch, or use `padding='max_length'` to pad to a max length. In this case, you can give a specific length with `max_length` (e.g. `max_length=45`) or leave max_length to None to pad to the maximal input size of the model (e.g. 512 for Bert).\n",
      "  warnings.warn(\n",
      "A parameter name that contains `beta` will be renamed internally to `bias`. Please use a different name to suppress this warning.\n",
      "A parameter name that contains `gamma` will be renamed internally to `weight`. Please use a different name to suppress this warning.\n",
      "A parameter name that contains `beta` will be renamed internally to `bias`. Please use a different name to suppress this warning.\n",
      "A parameter name that contains `gamma` will be renamed internally to `weight`. Please use a different name to suppress this warning.\n",
      "A parameter name that contains `beta` will be renamed internally to `bias`. Please use a different name to suppress this warning.\n",
      "A parameter name that contains `gamma` will be renamed internally to `weight`. Please use a different name to suppress this warning.\n",
      "A parameter name that contains `beta` will be renamed internally to `bias`. Please use a different name to suppress this warning.\n",
      "A parameter name that contains `gamma` will be renamed internally to `weight`. Please use a different name to suppress this warning.\n",
      "A parameter name that contains `beta` will be renamed internally to `bias`. Please use a different name to suppress this warning.\n",
      "A parameter name that contains `gamma` will be renamed internally to `weight`. Please use a different name to suppress this warning.\n",
      "A parameter name that contains `beta` will be renamed internally to `bias`. Please use a different name to suppress this warning.\n",
      "A parameter name that contains `gamma` will be renamed internally to `weight`. Please use a different name to suppress this warning.\n",
      "A parameter name that contains `beta` will be renamed internally to `bias`. Please use a different name to suppress this warning.\n",
      "A parameter name that contains `gamma` will be renamed internally to `weight`. Please use a different name to suppress this warning.\n",
      "A parameter name that contains `beta` will be renamed internally to `bias`. Please use a different name to suppress this warning.\n",
      "A parameter name that contains `gamma` will be renamed internally to `weight`. Please use a different name to suppress this warning.\n",
      "A parameter name that contains `beta` will be renamed internally to `bias`. Please use a different name to suppress this warning.\n",
      "A parameter name that contains `gamma` will be renamed internally to `weight`. Please use a different name to suppress this warning.\n",
      "A parameter name that contains `beta` will be renamed internally to `bias`. Please use a different name to suppress this warning.\n",
      "A parameter name that contains `gamma` will be renamed internally to `weight`. Please use a different name to suppress this warning.\n",
      "A parameter name that contains `beta` will be renamed internally to `bias`. Please use a different name to suppress this warning.\n",
      "A parameter name that contains `gamma` will be renamed internally to `weight`. Please use a different name to suppress this warning.\n",
      "A parameter name that contains `beta` will be renamed internally to `bias`. Please use a different name to suppress this warning.\n",
      "A parameter name that contains `gamma` will be renamed internally to `weight`. Please use a different name to suppress this warning.\n",
      "A parameter name that contains `beta` will be renamed internally to `bias`. Please use a different name to suppress this warning.\n",
      "A parameter name that contains `gamma` will be renamed internally to `weight`. Please use a different name to suppress this warning.\n",
      "A parameter name that contains `beta` will be renamed internally to `bias`. Please use a different name to suppress this warning.\n",
      "A parameter name that contains `gamma` will be renamed internally to `weight`. Please use a different name to suppress this warning.\n",
      "A parameter name that contains `beta` will be renamed internally to `bias`. Please use a different name to suppress this warning.\n",
      "A parameter name that contains `gamma` will be renamed internally to `weight`. Please use a different name to suppress this warning.\n",
      "A parameter name that contains `beta` will be renamed internally to `bias`. Please use a different name to suppress this warning.\n",
      "A parameter name that contains `gamma` will be renamed internally to `weight`. Please use a different name to suppress this warning.\n",
      "A parameter name that contains `beta` will be renamed internally to `bias`. Please use a different name to suppress this warning.\n",
      "A parameter name that contains `gamma` will be renamed internally to `weight`. Please use a different name to suppress this warning.\n",
      "A parameter name that contains `beta` will be renamed internally to `bias`. Please use a different name to suppress this warning.\n",
      "A parameter name that contains `gamma` will be renamed internally to `weight`. Please use a different name to suppress this warning.\n",
      "A parameter name that contains `beta` will be renamed internally to `bias`. Please use a different name to suppress this warning.\n",
      "A parameter name that contains `gamma` will be renamed internally to `weight`. Please use a different name to suppress this warning.\n",
      "A parameter name that contains `beta` will be renamed internally to `bias`. Please use a different name to suppress this warning.\n",
      "A parameter name that contains `gamma` will be renamed internally to `weight`. Please use a different name to suppress this warning.\n",
      "A parameter name that contains `beta` will be renamed internally to `bias`. Please use a different name to suppress this warning.\n",
      "A parameter name that contains `gamma` will be renamed internally to `weight`. Please use a different name to suppress this warning.\n",
      "A parameter name that contains `beta` will be renamed internally to `bias`. Please use a different name to suppress this warning.\n",
      "A parameter name that contains `gamma` will be renamed internally to `weight`. Please use a different name to suppress this warning.\n",
      "A parameter name that contains `beta` will be renamed internally to `bias`. Please use a different name to suppress this warning.\n",
      "A parameter name that contains `gamma` will be renamed internally to `weight`. Please use a different name to suppress this warning.\n",
      "A parameter name that contains `beta` will be renamed internally to `bias`. Please use a different name to suppress this warning.\n",
      "A parameter name that contains `gamma` will be renamed internally to `weight`. Please use a different name to suppress this warning.\n",
      "A parameter name that contains `beta` will be renamed internally to `bias`. Please use a different name to suppress this warning.\n",
      "A parameter name that contains `gamma` will be renamed internally to `weight`. Please use a different name to suppress this warning.\n",
      "A parameter name that contains `beta` will be renamed internally to `bias`. Please use a different name to suppress this warning.\n",
      "A parameter name that contains `gamma` will be renamed internally to `weight`. Please use a different name to suppress this warning.\n"
     ]
    },
    {
     "name": "stdout",
     "output_type": "stream",
     "text": [
      "Model weights already saved at /Applications/AI/msc_project/model_weights/bert_weights_politifact_human_and_llm_cv1.pt. Skipping training.\n",
      "Model weights already saved at /Applications/AI/msc_project/model_weights/bert_weights_politifact_human_and_llm_cv2.pt. Skipping training.\n",
      "Model weights already saved at /Applications/AI/msc_project/model_weights/bert_weights_politifact_human_and_llm_cv3.pt. Skipping training.\n",
      "Model weights already saved at /Applications/AI/msc_project/model_weights/bert_weights_politifact_human_and_llm_cv4.pt. Skipping training.\n",
      "Model weights already saved at /Applications/AI/msc_project/model_weights/bert_weights_politifact_human_and_llm_cv5.pt. Skipping training.\n"
     ]
    },
    {
     "name": "stderr",
     "output_type": "stream",
     "text": [
      "A parameter name that contains `beta` will be renamed internally to `bias`. Please use a different name to suppress this warning.\n",
      "A parameter name that contains `gamma` will be renamed internally to `weight`. Please use a different name to suppress this warning.\n",
      "A parameter name that contains `beta` will be renamed internally to `bias`. Please use a different name to suppress this warning.\n",
      "A parameter name that contains `gamma` will be renamed internally to `weight`. Please use a different name to suppress this warning.\n",
      "A parameter name that contains `beta` will be renamed internally to `bias`. Please use a different name to suppress this warning.\n",
      "A parameter name that contains `gamma` will be renamed internally to `weight`. Please use a different name to suppress this warning.\n",
      "A parameter name that contains `beta` will be renamed internally to `bias`. Please use a different name to suppress this warning.\n",
      "A parameter name that contains `gamma` will be renamed internally to `weight`. Please use a different name to suppress this warning.\n",
      "A parameter name that contains `beta` will be renamed internally to `bias`. Please use a different name to suppress this warning.\n",
      "A parameter name that contains `gamma` will be renamed internally to `weight`. Please use a different name to suppress this warning.\n",
      "A parameter name that contains `beta` will be renamed internally to `bias`. Please use a different name to suppress this warning.\n",
      "A parameter name that contains `gamma` will be renamed internally to `weight`. Please use a different name to suppress this warning.\n",
      "A parameter name that contains `beta` will be renamed internally to `bias`. Please use a different name to suppress this warning.\n",
      "A parameter name that contains `gamma` will be renamed internally to `weight`. Please use a different name to suppress this warning.\n",
      "A parameter name that contains `beta` will be renamed internally to `bias`. Please use a different name to suppress this warning.\n",
      "A parameter name that contains `gamma` will be renamed internally to `weight`. Please use a different name to suppress this warning.\n",
      "A parameter name that contains `beta` will be renamed internally to `bias`. Please use a different name to suppress this warning.\n",
      "A parameter name that contains `gamma` will be renamed internally to `weight`. Please use a different name to suppress this warning.\n",
      "A parameter name that contains `beta` will be renamed internally to `bias`. Please use a different name to suppress this warning.\n",
      "A parameter name that contains `gamma` will be renamed internally to `weight`. Please use a different name to suppress this warning.\n",
      "A parameter name that contains `beta` will be renamed internally to `bias`. Please use a different name to suppress this warning.\n",
      "A parameter name that contains `gamma` will be renamed internally to `weight`. Please use a different name to suppress this warning.\n",
      "A parameter name that contains `beta` will be renamed internally to `bias`. Please use a different name to suppress this warning.\n",
      "A parameter name that contains `gamma` will be renamed internally to `weight`. Please use a different name to suppress this warning.\n",
      "A parameter name that contains `beta` will be renamed internally to `bias`. Please use a different name to suppress this warning.\n",
      "A parameter name that contains `gamma` will be renamed internally to `weight`. Please use a different name to suppress this warning.\n",
      "A parameter name that contains `beta` will be renamed internally to `bias`. Please use a different name to suppress this warning.\n",
      "A parameter name that contains `gamma` will be renamed internally to `weight`. Please use a different name to suppress this warning.\n",
      "A parameter name that contains `beta` will be renamed internally to `bias`. Please use a different name to suppress this warning.\n",
      "A parameter name that contains `gamma` will be renamed internally to `weight`. Please use a different name to suppress this warning.\n",
      "A parameter name that contains `beta` will be renamed internally to `bias`. Please use a different name to suppress this warning.\n",
      "A parameter name that contains `gamma` will be renamed internally to `weight`. Please use a different name to suppress this warning.\n",
      "A parameter name that contains `beta` will be renamed internally to `bias`. Please use a different name to suppress this warning.\n",
      "A parameter name that contains `gamma` will be renamed internally to `weight`. Please use a different name to suppress this warning.\n",
      "A parameter name that contains `beta` will be renamed internally to `bias`. Please use a different name to suppress this warning.\n",
      "A parameter name that contains `gamma` will be renamed internally to `weight`. Please use a different name to suppress this warning.\n",
      "A parameter name that contains `beta` will be renamed internally to `bias`. Please use a different name to suppress this warning.\n",
      "A parameter name that contains `gamma` will be renamed internally to `weight`. Please use a different name to suppress this warning.\n",
      "A parameter name that contains `beta` will be renamed internally to `bias`. Please use a different name to suppress this warning.\n",
      "A parameter name that contains `gamma` will be renamed internally to `weight`. Please use a different name to suppress this warning.\n",
      "A parameter name that contains `beta` will be renamed internally to `bias`. Please use a different name to suppress this warning.\n",
      "A parameter name that contains `gamma` will be renamed internally to `weight`. Please use a different name to suppress this warning.\n",
      "A parameter name that contains `beta` will be renamed internally to `bias`. Please use a different name to suppress this warning.\n",
      "A parameter name that contains `gamma` will be renamed internally to `weight`. Please use a different name to suppress this warning.\n",
      "A parameter name that contains `beta` will be renamed internally to `bias`. Please use a different name to suppress this warning.\n",
      "A parameter name that contains `gamma` will be renamed internally to `weight`. Please use a different name to suppress this warning.\n",
      "A parameter name that contains `beta` will be renamed internally to `bias`. Please use a different name to suppress this warning.\n",
      "A parameter name that contains `gamma` will be renamed internally to `weight`. Please use a different name to suppress this warning.\n",
      "A parameter name that contains `beta` will be renamed internally to `bias`. Please use a different name to suppress this warning.\n",
      "A parameter name that contains `gamma` will be renamed internally to `weight`. Please use a different name to suppress this warning.\n",
      "A parameter name that contains `beta` will be renamed internally to `bias`. Please use a different name to suppress this warning.\n",
      "A parameter name that contains `gamma` will be renamed internally to `weight`. Please use a different name to suppress this warning.\n",
      "A parameter name that contains `beta` will be renamed internally to `bias`. Please use a different name to suppress this warning.\n",
      "A parameter name that contains `gamma` will be renamed internally to `weight`. Please use a different name to suppress this warning.\n",
      "A parameter name that contains `beta` will be renamed internally to `bias`. Please use a different name to suppress this warning.\n",
      "A parameter name that contains `gamma` will be renamed internally to `weight`. Please use a different name to suppress this warning.\n",
      "A parameter name that contains `beta` will be renamed internally to `bias`. Please use a different name to suppress this warning.\n",
      "A parameter name that contains `gamma` will be renamed internally to `weight`. Please use a different name to suppress this warning.\n",
      "A parameter name that contains `beta` will be renamed internally to `bias`. Please use a different name to suppress this warning.\n",
      "A parameter name that contains `gamma` will be renamed internally to `weight`. Please use a different name to suppress this warning.\n",
      "A parameter name that contains `beta` will be renamed internally to `bias`. Please use a different name to suppress this warning.\n",
      "A parameter name that contains `gamma` will be renamed internally to `weight`. Please use a different name to suppress this warning.\n",
      "A parameter name that contains `beta` will be renamed internally to `bias`. Please use a different name to suppress this warning.\n",
      "A parameter name that contains `gamma` will be renamed internally to `weight`. Please use a different name to suppress this warning.\n",
      "A parameter name that contains `beta` will be renamed internally to `bias`. Please use a different name to suppress this warning.\n",
      "A parameter name that contains `gamma` will be renamed internally to `weight`. Please use a different name to suppress this warning.\n",
      "A parameter name that contains `beta` will be renamed internally to `bias`. Please use a different name to suppress this warning.\n",
      "A parameter name that contains `gamma` will be renamed internally to `weight`. Please use a different name to suppress this warning.\n",
      "A parameter name that contains `beta` will be renamed internally to `bias`. Please use a different name to suppress this warning.\n",
      "A parameter name that contains `gamma` will be renamed internally to `weight`. Please use a different name to suppress this warning.\n",
      "A parameter name that contains `beta` will be renamed internally to `bias`. Please use a different name to suppress this warning.\n",
      "A parameter name that contains `gamma` will be renamed internally to `weight`. Please use a different name to suppress this warning.\n",
      "A parameter name that contains `beta` will be renamed internally to `bias`. Please use a different name to suppress this warning.\n",
      "A parameter name that contains `gamma` will be renamed internally to `weight`. Please use a different name to suppress this warning.\n",
      "A parameter name that contains `beta` will be renamed internally to `bias`. Please use a different name to suppress this warning.\n",
      "A parameter name that contains `gamma` will be renamed internally to `weight`. Please use a different name to suppress this warning.\n",
      "A parameter name that contains `beta` will be renamed internally to `bias`. Please use a different name to suppress this warning.\n",
      "A parameter name that contains `gamma` will be renamed internally to `weight`. Please use a different name to suppress this warning.\n",
      "A parameter name that contains `beta` will be renamed internally to `bias`. Please use a different name to suppress this warning.\n",
      "A parameter name that contains `gamma` will be renamed internally to `weight`. Please use a different name to suppress this warning.\n",
      "A parameter name that contains `beta` will be renamed internally to `bias`. Please use a different name to suppress this warning.\n",
      "A parameter name that contains `gamma` will be renamed internally to `weight`. Please use a different name to suppress this warning.\n",
      "A parameter name that contains `beta` will be renamed internally to `bias`. Please use a different name to suppress this warning.\n",
      "A parameter name that contains `gamma` will be renamed internally to `weight`. Please use a different name to suppress this warning.\n",
      "A parameter name that contains `beta` will be renamed internally to `bias`. Please use a different name to suppress this warning.\n",
      "A parameter name that contains `gamma` will be renamed internally to `weight`. Please use a different name to suppress this warning.\n",
      "A parameter name that contains `beta` will be renamed internally to `bias`. Please use a different name to suppress this warning.\n",
      "A parameter name that contains `gamma` will be renamed internally to `weight`. Please use a different name to suppress this warning.\n",
      "A parameter name that contains `beta` will be renamed internally to `bias`. Please use a different name to suppress this warning.\n",
      "A parameter name that contains `gamma` will be renamed internally to `weight`. Please use a different name to suppress this warning.\n",
      "A parameter name that contains `beta` will be renamed internally to `bias`. Please use a different name to suppress this warning.\n",
      "A parameter name that contains `gamma` will be renamed internally to `weight`. Please use a different name to suppress this warning.\n",
      "A parameter name that contains `beta` will be renamed internally to `bias`. Please use a different name to suppress this warning.\n",
      "A parameter name that contains `gamma` will be renamed internally to `weight`. Please use a different name to suppress this warning.\n",
      "A parameter name that contains `beta` will be renamed internally to `bias`. Please use a different name to suppress this warning.\n",
      "A parameter name that contains `gamma` will be renamed internally to `weight`. Please use a different name to suppress this warning.\n",
      "A parameter name that contains `beta` will be renamed internally to `bias`. Please use a different name to suppress this warning.\n",
      "A parameter name that contains `gamma` will be renamed internally to `weight`. Please use a different name to suppress this warning.\n",
      "A parameter name that contains `beta` will be renamed internally to `bias`. Please use a different name to suppress this warning.\n",
      "A parameter name that contains `gamma` will be renamed internally to `weight`. Please use a different name to suppress this warning.\n",
      "A parameter name that contains `beta` will be renamed internally to `bias`. Please use a different name to suppress this warning.\n",
      "A parameter name that contains `gamma` will be renamed internally to `weight`. Please use a different name to suppress this warning.\n",
      "A parameter name that contains `beta` will be renamed internally to `bias`. Please use a different name to suppress this warning.\n",
      "A parameter name that contains `gamma` will be renamed internally to `weight`. Please use a different name to suppress this warning.\n",
      "A parameter name that contains `beta` will be renamed internally to `bias`. Please use a different name to suppress this warning.\n",
      "A parameter name that contains `gamma` will be renamed internally to `weight`. Please use a different name to suppress this warning.\n",
      "A parameter name that contains `beta` will be renamed internally to `bias`. Please use a different name to suppress this warning.\n",
      "A parameter name that contains `gamma` will be renamed internally to `weight`. Please use a different name to suppress this warning.\n",
      "A parameter name that contains `beta` will be renamed internally to `bias`. Please use a different name to suppress this warning.\n",
      "A parameter name that contains `gamma` will be renamed internally to `weight`. Please use a different name to suppress this warning.\n",
      "A parameter name that contains `beta` will be renamed internally to `bias`. Please use a different name to suppress this warning.\n",
      "A parameter name that contains `gamma` will be renamed internally to `weight`. Please use a different name to suppress this warning.\n",
      "A parameter name that contains `beta` will be renamed internally to `bias`. Please use a different name to suppress this warning.\n",
      "A parameter name that contains `gamma` will be renamed internally to `weight`. Please use a different name to suppress this warning.\n",
      "A parameter name that contains `beta` will be renamed internally to `bias`. Please use a different name to suppress this warning.\n",
      "A parameter name that contains `gamma` will be renamed internally to `weight`. Please use a different name to suppress this warning.\n",
      "A parameter name that contains `beta` will be renamed internally to `bias`. Please use a different name to suppress this warning.\n",
      "A parameter name that contains `gamma` will be renamed internally to `weight`. Please use a different name to suppress this warning.\n",
      "A parameter name that contains `beta` will be renamed internally to `bias`. Please use a different name to suppress this warning.\n",
      "A parameter name that contains `gamma` will be renamed internally to `weight`. Please use a different name to suppress this warning.\n",
      "A parameter name that contains `beta` will be renamed internally to `bias`. Please use a different name to suppress this warning.\n",
      "A parameter name that contains `gamma` will be renamed internally to `weight`. Please use a different name to suppress this warning.\n",
      "A parameter name that contains `beta` will be renamed internally to `bias`. Please use a different name to suppress this warning.\n",
      "A parameter name that contains `gamma` will be renamed internally to `weight`. Please use a different name to suppress this warning.\n",
      "A parameter name that contains `beta` will be renamed internally to `bias`. Please use a different name to suppress this warning.\n",
      "A parameter name that contains `gamma` will be renamed internally to `weight`. Please use a different name to suppress this warning.\n",
      "A parameter name that contains `beta` will be renamed internally to `bias`. Please use a different name to suppress this warning.\n",
      "A parameter name that contains `gamma` will be renamed internally to `weight`. Please use a different name to suppress this warning.\n",
      "A parameter name that contains `beta` will be renamed internally to `bias`. Please use a different name to suppress this warning.\n",
      "A parameter name that contains `gamma` will be renamed internally to `weight`. Please use a different name to suppress this warning.\n",
      "A parameter name that contains `beta` will be renamed internally to `bias`. Please use a different name to suppress this warning.\n",
      "A parameter name that contains `gamma` will be renamed internally to `weight`. Please use a different name to suppress this warning.\n",
      "A parameter name that contains `beta` will be renamed internally to `bias`. Please use a different name to suppress this warning.\n",
      "A parameter name that contains `gamma` will be renamed internally to `weight`. Please use a different name to suppress this warning.\n",
      "A parameter name that contains `beta` will be renamed internally to `bias`. Please use a different name to suppress this warning.\n",
      "A parameter name that contains `gamma` will be renamed internally to `weight`. Please use a different name to suppress this warning.\n",
      "A parameter name that contains `beta` will be renamed internally to `bias`. Please use a different name to suppress this warning.\n",
      "A parameter name that contains `gamma` will be renamed internally to `weight`. Please use a different name to suppress this warning.\n",
      "A parameter name that contains `beta` will be renamed internally to `bias`. Please use a different name to suppress this warning.\n",
      "A parameter name that contains `gamma` will be renamed internally to `weight`. Please use a different name to suppress this warning.\n",
      "A parameter name that contains `beta` will be renamed internally to `bias`. Please use a different name to suppress this warning.\n",
      "A parameter name that contains `gamma` will be renamed internally to `weight`. Please use a different name to suppress this warning.\n",
      "A parameter name that contains `beta` will be renamed internally to `bias`. Please use a different name to suppress this warning.\n",
      "A parameter name that contains `gamma` will be renamed internally to `weight`. Please use a different name to suppress this warning.\n",
      "A parameter name that contains `beta` will be renamed internally to `bias`. Please use a different name to suppress this warning.\n",
      "A parameter name that contains `gamma` will be renamed internally to `weight`. Please use a different name to suppress this warning.\n",
      "A parameter name that contains `beta` will be renamed internally to `bias`. Please use a different name to suppress this warning.\n",
      "A parameter name that contains `gamma` will be renamed internally to `weight`. Please use a different name to suppress this warning.\n",
      "A parameter name that contains `beta` will be renamed internally to `bias`. Please use a different name to suppress this warning.\n",
      "A parameter name that contains `gamma` will be renamed internally to `weight`. Please use a different name to suppress this warning.\n",
      "A parameter name that contains `beta` will be renamed internally to `bias`. Please use a different name to suppress this warning.\n",
      "A parameter name that contains `gamma` will be renamed internally to `weight`. Please use a different name to suppress this warning.\n",
      "A parameter name that contains `beta` will be renamed internally to `bias`. Please use a different name to suppress this warning.\n",
      "A parameter name that contains `gamma` will be renamed internally to `weight`. Please use a different name to suppress this warning.\n",
      "A parameter name that contains `beta` will be renamed internally to `bias`. Please use a different name to suppress this warning.\n",
      "A parameter name that contains `gamma` will be renamed internally to `weight`. Please use a different name to suppress this warning.\n",
      "A parameter name that contains `beta` will be renamed internally to `bias`. Please use a different name to suppress this warning.\n",
      "A parameter name that contains `gamma` will be renamed internally to `weight`. Please use a different name to suppress this warning.\n",
      "A parameter name that contains `beta` will be renamed internally to `bias`. Please use a different name to suppress this warning.\n",
      "A parameter name that contains `gamma` will be renamed internally to `weight`. Please use a different name to suppress this warning.\n",
      "A parameter name that contains `beta` will be renamed internally to `bias`. Please use a different name to suppress this warning.\n",
      "A parameter name that contains `gamma` will be renamed internally to `weight`. Please use a different name to suppress this warning.\n",
      "A parameter name that contains `beta` will be renamed internally to `bias`. Please use a different name to suppress this warning.\n",
      "A parameter name that contains `gamma` will be renamed internally to `weight`. Please use a different name to suppress this warning.\n",
      "A parameter name that contains `beta` will be renamed internally to `bias`. Please use a different name to suppress this warning.\n",
      "A parameter name that contains `gamma` will be renamed internally to `weight`. Please use a different name to suppress this warning.\n",
      "A parameter name that contains `beta` will be renamed internally to `bias`. Please use a different name to suppress this warning.\n",
      "A parameter name that contains `gamma` will be renamed internally to `weight`. Please use a different name to suppress this warning.\n",
      "A parameter name that contains `beta` will be renamed internally to `bias`. Please use a different name to suppress this warning.\n",
      "A parameter name that contains `gamma` will be renamed internally to `weight`. Please use a different name to suppress this warning.\n",
      "A parameter name that contains `beta` will be renamed internally to `bias`. Please use a different name to suppress this warning.\n",
      "A parameter name that contains `gamma` will be renamed internally to `weight`. Please use a different name to suppress this warning.\n",
      "A parameter name that contains `beta` will be renamed internally to `bias`. Please use a different name to suppress this warning.\n",
      "A parameter name that contains `gamma` will be renamed internally to `weight`. Please use a different name to suppress this warning.\n",
      "A parameter name that contains `beta` will be renamed internally to `bias`. Please use a different name to suppress this warning.\n",
      "A parameter name that contains `gamma` will be renamed internally to `weight`. Please use a different name to suppress this warning.\n",
      "A parameter name that contains `beta` will be renamed internally to `bias`. Please use a different name to suppress this warning.\n",
      "A parameter name that contains `gamma` will be renamed internally to `weight`. Please use a different name to suppress this warning.\n",
      "A parameter name that contains `beta` will be renamed internally to `bias`. Please use a different name to suppress this warning.\n",
      "A parameter name that contains `gamma` will be renamed internally to `weight`. Please use a different name to suppress this warning.\n",
      "A parameter name that contains `beta` will be renamed internally to `bias`. Please use a different name to suppress this warning.\n",
      "A parameter name that contains `gamma` will be renamed internally to `weight`. Please use a different name to suppress this warning.\n",
      "A parameter name that contains `beta` will be renamed internally to `bias`. Please use a different name to suppress this warning.\n",
      "A parameter name that contains `gamma` will be renamed internally to `weight`. Please use a different name to suppress this warning.\n",
      "A parameter name that contains `beta` will be renamed internally to `bias`. Please use a different name to suppress this warning.\n",
      "A parameter name that contains `gamma` will be renamed internally to `weight`. Please use a different name to suppress this warning.\n",
      "A parameter name that contains `beta` will be renamed internally to `bias`. Please use a different name to suppress this warning.\n",
      "A parameter name that contains `gamma` will be renamed internally to `weight`. Please use a different name to suppress this warning.\n",
      "A parameter name that contains `beta` will be renamed internally to `bias`. Please use a different name to suppress this warning.\n",
      "A parameter name that contains `gamma` will be renamed internally to `weight`. Please use a different name to suppress this warning.\n",
      "A parameter name that contains `beta` will be renamed internally to `bias`. Please use a different name to suppress this warning.\n",
      "A parameter name that contains `gamma` will be renamed internally to `weight`. Please use a different name to suppress this warning.\n",
      "A parameter name that contains `beta` will be renamed internally to `bias`. Please use a different name to suppress this warning.\n",
      "A parameter name that contains `gamma` will be renamed internally to `weight`. Please use a different name to suppress this warning.\n",
      "A parameter name that contains `beta` will be renamed internally to `bias`. Please use a different name to suppress this warning.\n",
      "A parameter name that contains `gamma` will be renamed internally to `weight`. Please use a different name to suppress this warning.\n",
      "A parameter name that contains `beta` will be renamed internally to `bias`. Please use a different name to suppress this warning.\n",
      "A parameter name that contains `gamma` will be renamed internally to `weight`. Please use a different name to suppress this warning.\n",
      "A parameter name that contains `beta` will be renamed internally to `bias`. Please use a different name to suppress this warning.\n",
      "A parameter name that contains `gamma` will be renamed internally to `weight`. Please use a different name to suppress this warning.\n",
      "A parameter name that contains `beta` will be renamed internally to `bias`. Please use a different name to suppress this warning.\n",
      "A parameter name that contains `gamma` will be renamed internally to `weight`. Please use a different name to suppress this warning.\n",
      "A parameter name that contains `beta` will be renamed internally to `bias`. Please use a different name to suppress this warning.\n",
      "A parameter name that contains `gamma` will be renamed internally to `weight`. Please use a different name to suppress this warning.\n",
      "A parameter name that contains `beta` will be renamed internally to `bias`. Please use a different name to suppress this warning.\n",
      "A parameter name that contains `gamma` will be renamed internally to `weight`. Please use a different name to suppress this warning.\n",
      "A parameter name that contains `beta` will be renamed internally to `bias`. Please use a different name to suppress this warning.\n",
      "A parameter name that contains `gamma` will be renamed internally to `weight`. Please use a different name to suppress this warning.\n"
     ]
    }
   ],
   "source": [
    "# Define model weight file paths\n",
    "model_path_1 = \"/Applications/AI/msc_project/model_weights/bert_weights_politifact_human_and_llm_cv1.pt\"\n",
    "model_path_2 = \"/Applications/AI/msc_project/model_weights/bert_weights_politifact_human_and_llm_cv2.pt\"\n",
    "model_path_3 = \"/Applications/AI/msc_project/model_weights/bert_weights_politifact_human_and_llm_cv3.pt\"\n",
    "model_path_4 = \"/Applications/AI/msc_project/model_weights/bert_weights_politifact_human_and_llm_cv4.pt\"\n",
    "model_path_5 = \"/Applications/AI/msc_project/model_weights/bert_weights_politifact_human_and_llm_cv5.pt\"\n",
    "model_paths = [model_path_1, model_path_2, model_path_3, model_path_4, model_path_5]\n",
    "\n",
    "# RUN THIS CODE TO RERUN RESAMPLED FINE-TUNING EVALUATION\n",
    "'''\n",
    "os.remove(model_path_1)\n",
    "os.remove(model_path_2)\n",
    "os.remove(model_path_3)\n",
    "os.remove(model_path_4)\n",
    "os.remove(model_path_5)\n",
    "'''\n",
    "\n",
    "# Load & pre-process training data\n",
    "human_train_path_1 = \"/Applications/AI/msc_project/data/my_human_politifact_train_split_1.csv\"\n",
    "human_train_path_2 = \"/Applications/AI/msc_project/data/my_human_politifact_train_split_2.csv\"\n",
    "human_train_path_3 = \"/Applications/AI/msc_project/data/my_human_politifact_train_split_3.csv\"\n",
    "human_train_path_4 = \"/Applications/AI/msc_project/data/my_human_politifact_train_split_4.csv\"\n",
    "human_train_path_5 = \"/Applications/AI/msc_project/data/my_human_politifact_train_split_5.csv\"\n",
    "human_train_splits = [train_path_1, train_path_2, train_path_3, train_path_4, train_path_5]\n",
    "human_train_processed_seq_list, human_train_processed_mask_list, human_train_processed_y_list = pre_process_multi_datasplits(data_list=human_train_splits, tokenizer=tokenizer, max_len=max_len)\n",
    "llm_train_path_1 = \"/Applications/AI/msc_project/data/my_llm_fake_politifact_train_split_1.csv\"\n",
    "llm_train_path_2 = \"/Applications/AI/msc_project/data/my_llm_fake_politifact_train_split_2.csv\"\n",
    "llm_train_path_3 = \"/Applications/AI/msc_project/data/my_llm_fake_politifact_train_split_3.csv\"\n",
    "llm_train_path_4 = \"/Applications/AI/msc_project/data/my_llm_fake_politifact_train_split_4.csv\"\n",
    "llm_train_path_5 = \"/Applications/AI/msc_project/data/my_llm_fake_politifact_train_split_5.csv\"\n",
    "llm_train_splits = [llm_train_path_1, llm_train_path_2, llm_train_path_3, llm_train_path_4, llm_train_path_5]\n",
    "llm_train_processed_seq_list, llm_train_processed_mask_list, llm_train_processed_y_list = pre_process_multi_datasplits(data_list=llm_train_splits, tokenizer=tokenizer, max_len=max_len)\n",
    "combined_training_sequence_list = torch.cat((train_seq, val_seq), 0)\n",
    "combined_training_mask_list = torch.cat((train_mask, val_mask), 0)\n",
    "combined_training_y_list = torch.cat((train_y, val_y), 0)\n",
    "\n",
    "# Define best hyperparameters as chosen by previous hyperparameter selection grid search on initial exploration\n",
    "best_lr = 1e-5\n",
    "best_batch_size = 16\n",
    "best_epochs = 2\n",
    "best_model_init = \"unfrozen\"\n",
    "\n",
    "# Fine-tune models\n",
    "resample_training_models(model_paths=model_paths, train_processed_seq_list=combined_training_sequence_list, train_processed_mask_list=combined_training_mask_list, train_processed_y_list=combined_training_y_list, model_init=best_model_init, epochs=best_epochs, batch_size=best_batch_size, lr=best_lr)\n",
    "\n",
    "# Initialize and load models\n",
    "model_1 = initialise_bert_model_unfrozen()\n",
    "model_1.load_state_dict(torch.load(model_path_1), strict=False)\n",
    "model_2 = initialise_bert_model_unfrozen()\n",
    "model_2.load_state_dict(torch.load(model_path_2), strict=False)\n",
    "model_3 = initialise_bert_model_unfrozen()\n",
    "model_3.load_state_dict(torch.load(model_path_3), strict=False)\n",
    "model_4 = initialise_bert_model_unfrozen()\n",
    "model_4.load_state_dict(torch.load(model_path_4), strict=False)\n",
    "model_5 = initialise_bert_model_unfrozen()\n",
    "model_5.load_state_dict(torch.load(model_path_5), strict=False)\n",
    "models_list = [model_1, model_2, model_3, model_4, model_5]"
   ]
  },
  {
   "cell_type": "code",
   "execution_count": 34,
   "metadata": {},
   "outputs": [
    {
     "name": "stderr",
     "output_type": "stream",
     "text": [
      "/Users/jacobshort/anaconda3/envs/uni_39/lib/python3.9/site-packages/transformers/tokenization_utils_base.py:2870: FutureWarning: The `pad_to_max_length` argument is deprecated and will be removed in a future version, use `padding=True` or `padding='longest'` to pad to the longest sequence in the batch, or use `padding='max_length'` to pad to a max length. In this case, you can give a specific length with `max_length` (e.g. `max_length=45`) or leave max_length to None to pad to the maximal input size of the model (e.g. 512 for Bert).\n",
      "  warnings.warn(\n",
      "/Users/jacobshort/anaconda3/envs/uni_39/lib/python3.9/site-packages/transformers/tokenization_utils_base.py:2870: FutureWarning: The `pad_to_max_length` argument is deprecated and will be removed in a future version, use `padding=True` or `padding='longest'` to pad to the longest sequence in the batch, or use `padding='max_length'` to pad to a max length. In this case, you can give a specific length with `max_length` (e.g. `max_length=45`) or leave max_length to None to pad to the maximal input size of the model (e.g. 512 for Bert).\n",
      "  warnings.warn(\n",
      "/Users/jacobshort/anaconda3/envs/uni_39/lib/python3.9/site-packages/transformers/tokenization_utils_base.py:2870: FutureWarning: The `pad_to_max_length` argument is deprecated and will be removed in a future version, use `padding=True` or `padding='longest'` to pad to the longest sequence in the batch, or use `padding='max_length'` to pad to a max length. In this case, you can give a specific length with `max_length` (e.g. `max_length=45`) or leave max_length to None to pad to the maximal input size of the model (e.g. 512 for Bert).\n",
      "  warnings.warn(\n",
      "/Users/jacobshort/anaconda3/envs/uni_39/lib/python3.9/site-packages/transformers/tokenization_utils_base.py:2870: FutureWarning: The `pad_to_max_length` argument is deprecated and will be removed in a future version, use `padding=True` or `padding='longest'` to pad to the longest sequence in the batch, or use `padding='max_length'` to pad to a max length. In this case, you can give a specific length with `max_length` (e.g. `max_length=45`) or leave max_length to None to pad to the maximal input size of the model (e.g. 512 for Bert).\n",
      "  warnings.warn(\n",
      "/Users/jacobshort/anaconda3/envs/uni_39/lib/python3.9/site-packages/transformers/tokenization_utils_base.py:2870: FutureWarning: The `pad_to_max_length` argument is deprecated and will be removed in a future version, use `padding=True` or `padding='longest'` to pad to the longest sequence in the batch, or use `padding='max_length'` to pad to a max length. In this case, you can give a specific length with `max_length` (e.g. `max_length=45`) or leave max_length to None to pad to the maximal input size of the model (e.g. 512 for Bert).\n",
      "  warnings.warn(\n"
     ]
    },
    {
     "name": "stdout",
     "output_type": "stream",
     "text": [
      "Total batches to process: 6\n",
      "Total batches to process: 6\n",
      "Total batches to process: 6\n",
      "Total batches to process: 6\n",
      "Total batches to process: 6\n",
      "[90.54054054054053, 71.25, 86.25, 72.46376811594203, 93.24324324324324]\n",
      "[0.93, 0.86, 0.92, 0.87, 0.91]\n"
     ]
    }
   ],
   "source": [
    "# [RESAMPLING] Human & LLMFake trained BERT on human test set\n",
    "test_path_1 = \"/Applications/AI/msc_project/data/my_human_politifact_test_split_1.csv\"\n",
    "test_path_2 = \"/Applications/AI/msc_project/data/my_human_politifact_test_split_2.csv\"\n",
    "test_path_3 = \"/Applications/AI/msc_project/data/my_human_politifact_test_split_3.csv\"\n",
    "test_path_4 = \"/Applications/AI/msc_project/data/my_human_politifact_test_split_4.csv\"\n",
    "test_path_5 = \"/Applications/AI/msc_project/data/my_human_politifact_test_split_5.csv\"\n",
    "test_splits = [test_path_1, test_path_2, test_path_3, test_path_4, test_path_5]\n",
    "test_processed_seq_list, test_processed_mask_list, test_processed_y_list = pre_process_multi_datasplits(data_list=test_splits, tokenizer=tokenizer, max_len=max_len)\n",
    "\n",
    "original_df_1 = pd.read_csv(test_path_1)\n",
    "original_df_2 = pd.read_csv(test_path_2)\n",
    "original_df_3 = pd.read_csv(test_path_3)\n",
    "original_df_4 = pd.read_csv(test_path_4)\n",
    "original_df_5 = pd.read_csv(test_path_5)\n",
    "original_df_list = [original_df_1, original_df_2, original_df_3, original_df_4, original_df_5]\n",
    "\n",
    "success_rate_list, macro_f1_list = obtain_resampled_metrics_lists(models_list, original_df_list=original_df_list, sequences_list=test_processed_seq_list, masks_list=test_processed_mask_list, labels_list=test_processed_y_list)\n",
    "print(success_rate_list)\n",
    "print(macro_f1_list)"
   ]
  },
  {
   "cell_type": "code",
   "execution_count": 35,
   "metadata": {},
   "outputs": [
    {
     "name": "stderr",
     "output_type": "stream",
     "text": [
      "/Users/jacobshort/anaconda3/envs/uni_39/lib/python3.9/site-packages/transformers/tokenization_utils_base.py:2870: FutureWarning: The `pad_to_max_length` argument is deprecated and will be removed in a future version, use `padding=True` or `padding='longest'` to pad to the longest sequence in the batch, or use `padding='max_length'` to pad to a max length. In this case, you can give a specific length with `max_length` (e.g. `max_length=45`) or leave max_length to None to pad to the maximal input size of the model (e.g. 512 for Bert).\n",
      "  warnings.warn(\n",
      "/Users/jacobshort/anaconda3/envs/uni_39/lib/python3.9/site-packages/transformers/tokenization_utils_base.py:2870: FutureWarning: The `pad_to_max_length` argument is deprecated and will be removed in a future version, use `padding=True` or `padding='longest'` to pad to the longest sequence in the batch, or use `padding='max_length'` to pad to a max length. In this case, you can give a specific length with `max_length` (e.g. `max_length=45`) or leave max_length to None to pad to the maximal input size of the model (e.g. 512 for Bert).\n",
      "  warnings.warn(\n",
      "/Users/jacobshort/anaconda3/envs/uni_39/lib/python3.9/site-packages/transformers/tokenization_utils_base.py:2870: FutureWarning: The `pad_to_max_length` argument is deprecated and will be removed in a future version, use `padding=True` or `padding='longest'` to pad to the longest sequence in the batch, or use `padding='max_length'` to pad to a max length. In this case, you can give a specific length with `max_length` (e.g. `max_length=45`) or leave max_length to None to pad to the maximal input size of the model (e.g. 512 for Bert).\n",
      "  warnings.warn(\n",
      "/Users/jacobshort/anaconda3/envs/uni_39/lib/python3.9/site-packages/transformers/tokenization_utils_base.py:2870: FutureWarning: The `pad_to_max_length` argument is deprecated and will be removed in a future version, use `padding=True` or `padding='longest'` to pad to the longest sequence in the batch, or use `padding='max_length'` to pad to a max length. In this case, you can give a specific length with `max_length` (e.g. `max_length=45`) or leave max_length to None to pad to the maximal input size of the model (e.g. 512 for Bert).\n",
      "  warnings.warn(\n",
      "/Users/jacobshort/anaconda3/envs/uni_39/lib/python3.9/site-packages/transformers/tokenization_utils_base.py:2870: FutureWarning: The `pad_to_max_length` argument is deprecated and will be removed in a future version, use `padding=True` or `padding='longest'` to pad to the longest sequence in the batch, or use `padding='max_length'` to pad to a max length. In this case, you can give a specific length with `max_length` (e.g. `max_length=45`) or leave max_length to None to pad to the maximal input size of the model (e.g. 512 for Bert).\n",
      "  warnings.warn(\n"
     ]
    },
    {
     "name": "stdout",
     "output_type": "stream",
     "text": [
      "Total batches to process: 13\n",
      "Processed 10 batches, 3 batches remaining\n"
     ]
    },
    {
     "name": "stderr",
     "output_type": "stream",
     "text": [
      "/Users/jacobshort/anaconda3/envs/uni_39/lib/python3.9/site-packages/sklearn/metrics/_classification.py:1469: UndefinedMetricWarning: Recall and F-score are ill-defined and being set to 0.0 in labels with no true samples. Use `zero_division` parameter to control this behavior.\n",
      "  _warn_prf(average, modifier, msg_start, len(result))\n",
      "/Users/jacobshort/anaconda3/envs/uni_39/lib/python3.9/site-packages/sklearn/metrics/_classification.py:1469: UndefinedMetricWarning: Recall and F-score are ill-defined and being set to 0.0 in labels with no true samples. Use `zero_division` parameter to control this behavior.\n",
      "  _warn_prf(average, modifier, msg_start, len(result))\n",
      "/Users/jacobshort/anaconda3/envs/uni_39/lib/python3.9/site-packages/sklearn/metrics/_classification.py:1469: UndefinedMetricWarning: Recall and F-score are ill-defined and being set to 0.0 in labels with no true samples. Use `zero_division` parameter to control this behavior.\n",
      "  _warn_prf(average, modifier, msg_start, len(result))\n"
     ]
    },
    {
     "name": "stdout",
     "output_type": "stream",
     "text": [
      "Total batches to process: 13\n",
      "Processed 10 batches, 3 batches remaining\n"
     ]
    },
    {
     "name": "stderr",
     "output_type": "stream",
     "text": [
      "/Users/jacobshort/anaconda3/envs/uni_39/lib/python3.9/site-packages/sklearn/metrics/_classification.py:1469: UndefinedMetricWarning: Recall and F-score are ill-defined and being set to 0.0 in labels with no true samples. Use `zero_division` parameter to control this behavior.\n",
      "  _warn_prf(average, modifier, msg_start, len(result))\n",
      "/Users/jacobshort/anaconda3/envs/uni_39/lib/python3.9/site-packages/sklearn/metrics/_classification.py:1469: UndefinedMetricWarning: Recall and F-score are ill-defined and being set to 0.0 in labels with no true samples. Use `zero_division` parameter to control this behavior.\n",
      "  _warn_prf(average, modifier, msg_start, len(result))\n",
      "/Users/jacobshort/anaconda3/envs/uni_39/lib/python3.9/site-packages/sklearn/metrics/_classification.py:1469: UndefinedMetricWarning: Recall and F-score are ill-defined and being set to 0.0 in labels with no true samples. Use `zero_division` parameter to control this behavior.\n",
      "  _warn_prf(average, modifier, msg_start, len(result))\n"
     ]
    },
    {
     "name": "stdout",
     "output_type": "stream",
     "text": [
      "Total batches to process: 13\n",
      "Processed 10 batches, 3 batches remaining\n"
     ]
    },
    {
     "name": "stderr",
     "output_type": "stream",
     "text": [
      "/Users/jacobshort/anaconda3/envs/uni_39/lib/python3.9/site-packages/sklearn/metrics/_classification.py:1469: UndefinedMetricWarning: Recall and F-score are ill-defined and being set to 0.0 in labels with no true samples. Use `zero_division` parameter to control this behavior.\n",
      "  _warn_prf(average, modifier, msg_start, len(result))\n",
      "/Users/jacobshort/anaconda3/envs/uni_39/lib/python3.9/site-packages/sklearn/metrics/_classification.py:1469: UndefinedMetricWarning: Recall and F-score are ill-defined and being set to 0.0 in labels with no true samples. Use `zero_division` parameter to control this behavior.\n",
      "  _warn_prf(average, modifier, msg_start, len(result))\n",
      "/Users/jacobshort/anaconda3/envs/uni_39/lib/python3.9/site-packages/sklearn/metrics/_classification.py:1469: UndefinedMetricWarning: Recall and F-score are ill-defined and being set to 0.0 in labels with no true samples. Use `zero_division` parameter to control this behavior.\n",
      "  _warn_prf(average, modifier, msg_start, len(result))\n"
     ]
    },
    {
     "name": "stdout",
     "output_type": "stream",
     "text": [
      "Total batches to process: 13\n",
      "Processed 10 batches, 3 batches remaining\n"
     ]
    },
    {
     "name": "stderr",
     "output_type": "stream",
     "text": [
      "/Users/jacobshort/anaconda3/envs/uni_39/lib/python3.9/site-packages/sklearn/metrics/_classification.py:1469: UndefinedMetricWarning: Recall and F-score are ill-defined and being set to 0.0 in labels with no true samples. Use `zero_division` parameter to control this behavior.\n",
      "  _warn_prf(average, modifier, msg_start, len(result))\n",
      "/Users/jacobshort/anaconda3/envs/uni_39/lib/python3.9/site-packages/sklearn/metrics/_classification.py:1469: UndefinedMetricWarning: Recall and F-score are ill-defined and being set to 0.0 in labels with no true samples. Use `zero_division` parameter to control this behavior.\n",
      "  _warn_prf(average, modifier, msg_start, len(result))\n",
      "/Users/jacobshort/anaconda3/envs/uni_39/lib/python3.9/site-packages/sklearn/metrics/_classification.py:1469: UndefinedMetricWarning: Recall and F-score are ill-defined and being set to 0.0 in labels with no true samples. Use `zero_division` parameter to control this behavior.\n",
      "  _warn_prf(average, modifier, msg_start, len(result))\n"
     ]
    },
    {
     "name": "stdout",
     "output_type": "stream",
     "text": [
      "Total batches to process: 13\n",
      "Processed 10 batches, 3 batches remaining\n",
      "[93.75, 93.02884615384616, 93.75, 93.02884615384616, 96.875]\n",
      "{'llm_false_context': [79.3103448275862, 79.3103448275862, 79.3103448275862, 86.20689655172413, 96.55172413793103], 'llm_unsubstantiated_content': [82.75862068965517, 89.65517241379311, 86.20689655172413, 93.10344827586206, 100.0], 'llm_total_fabrication': [93.10344827586206, 89.65517241379311, 100.0, 86.20689655172413, 96.55172413793103], 'llm_incomplete': [86.20689655172413, 86.20689655172413, 82.75862068965517, 65.51724137931035, 79.3103448275862], 'llm_ambiguity': [82.75862068965517, 79.3103448275862, 79.3103448275862, 82.75862068965517, 96.55172413793103], 'llm_totally_arbitrary_generation': [100.0, 100.0, 100.0, 100.0, 100.0], 'llm_open_generation': [100.0, 98.14814814814815, 100.0, 100.0, 100.0], 'llm_paraphrase': [100.0, 98.14814814814815, 100.0, 100.0, 98.14814814814815], 'llm_outdated': [86.20689655172413, 82.75862068965517, 82.75862068965517, 96.55172413793103, 89.65517241379311], 'llm_rewritten': [100.0, 100.0, 100.0, 100.0, 100.0], 'llm_hallucination': [100.0, 100.0, 100.0, 85.0, 100.0], 'llm_health_generation': [100.0, 100.0, 100.0, 100.0, 100.0], 'llm_politics_generation': [100.0, 100.0, 100.0, 100.0, 100.0]}\n"
     ]
    },
    {
     "name": "stderr",
     "output_type": "stream",
     "text": [
      "/Users/jacobshort/anaconda3/envs/uni_39/lib/python3.9/site-packages/sklearn/metrics/_classification.py:1469: UndefinedMetricWarning: Recall and F-score are ill-defined and being set to 0.0 in labels with no true samples. Use `zero_division` parameter to control this behavior.\n",
      "  _warn_prf(average, modifier, msg_start, len(result))\n",
      "/Users/jacobshort/anaconda3/envs/uni_39/lib/python3.9/site-packages/sklearn/metrics/_classification.py:1469: UndefinedMetricWarning: Recall and F-score are ill-defined and being set to 0.0 in labels with no true samples. Use `zero_division` parameter to control this behavior.\n",
      "  _warn_prf(average, modifier, msg_start, len(result))\n",
      "/Users/jacobshort/anaconda3/envs/uni_39/lib/python3.9/site-packages/sklearn/metrics/_classification.py:1469: UndefinedMetricWarning: Recall and F-score are ill-defined and being set to 0.0 in labels with no true samples. Use `zero_division` parameter to control this behavior.\n",
      "  _warn_prf(average, modifier, msg_start, len(result))\n"
     ]
    }
   ],
   "source": [
    "# [RESAMPLED] Human & LLMFake trained BERT on LLMFake test set\n",
    "# Note: macro F1 here doesn't make sense\n",
    "test_path_1 = \"/Applications/AI/msc_project/data/my_llm_fake_politifact_test_split_1.csv\"\n",
    "test_path_2 = \"/Applications/AI/msc_project/data/my_llm_fake_politifact_test_split_2.csv\"\n",
    "test_path_3 = \"/Applications/AI/msc_project/data/my_llm_fake_politifact_test_split_3.csv\"\n",
    "test_path_4 = \"/Applications/AI/msc_project/data/my_llm_fake_politifact_test_split_4.csv\"\n",
    "test_path_5 = \"/Applications/AI/msc_project/data/my_llm_fake_politifact_test_split_5.csv\"\n",
    "test_splits = [test_path_1, test_path_2, test_path_3, test_path_4, test_path_5]\n",
    "test_processed_seq_list, test_processed_mask_list, test_processed_y_list = pre_process_multi_datasplits(data_list=test_splits, tokenizer=tokenizer, max_len=max_len)\n",
    "\n",
    "original_df_1 = pd.read_csv(test_path_1)\n",
    "original_df_2 = pd.read_csv(test_path_2)\n",
    "original_df_3 = pd.read_csv(test_path_3)\n",
    "original_df_4 = pd.read_csv(test_path_4)\n",
    "original_df_5 = pd.read_csv(test_path_5)\n",
    "original_df_list = [original_df_1, original_df_2, original_df_3, original_df_4, original_df_5]\n",
    "\n",
    "success_rate_list, _, classwise_success_rates = obtain_resampled_metrics_lists_classwise(models_list, original_df_list=original_df_list, sequences_list=test_processed_seq_list, masks_list=test_processed_mask_list, labels_list=test_processed_y_list)\n",
    "print(success_rate_list)\n",
    "print(classwise_success_rates)"
   ]
  }
 ],
 "metadata": {
  "kernelspec": {
   "display_name": "Python 3.9.18 ('uni_39')",
   "language": "python",
   "name": "python3"
  },
  "language_info": {
   "codemirror_mode": {
    "name": "ipython",
    "version": 3
   },
   "file_extension": ".py",
   "mimetype": "text/x-python",
   "name": "python",
   "nbconvert_exporter": "python",
   "pygments_lexer": "ipython3",
   "version": "3.9.18"
  },
  "orig_nbformat": 4,
  "vscode": {
   "interpreter": {
    "hash": "c2442b4eed952f48f926d303071082d30c5080f089ed43bdeb0e861e3760da25"
   }
  }
 },
 "nbformat": 4,
 "nbformat_minor": 2
}
